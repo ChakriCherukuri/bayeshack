{
 "cells": [
  {
   "cell_type": "code",
   "execution_count": 1,
   "metadata": {
    "collapsed": false
   },
   "outputs": [],
   "source": [
    "from ipyleaflet import *"
   ]
  },
  {
   "cell_type": "code",
   "execution_count": 2,
   "metadata": {
    "collapsed": false
   },
   "outputs": [],
   "source": [
    "m = Map(center=[37.7749, -122.34580993652344], zoom=12)"
   ]
  },
  {
   "cell_type": "code",
   "execution_count": 3,
   "metadata": {
    "collapsed": false
   },
   "outputs": [],
   "source": [
    "import matplotlib as mpl\n",
    "import matplotlib.cm\n",
    "import matplotlib.colors\n",
    "import numpy as np\n",
    "\n",
    "def n_colors(n, colormap=mpl.cm.Blues):\n",
    "    data = np.linspace(0.0,1.0,n)\n",
    "    c = [mpl.colors.rgb2hex(d[0:3]) for d in colormap(data)]\n",
    "    return c\n",
    "\n",
    "def data_to_colors(data, colormap=mpl.cm.Blues):\n",
    "    c = [mpl.colors.rgb2hex(d[0:3]) for d in colormap(mpl.colors.Normalize()(data))]\n",
    "    return c"
   ]
  },
  {
   "cell_type": "code",
   "execution_count": 5,
   "metadata": {
    "collapsed": false
   },
   "outputs": [],
   "source": [
    "import json\n",
    "#with open('Neighborhoods - census tracts.geojson') as f:\n",
    "    #data1 = json.load(f)\n",
    "with open('sf_zipcodes.geojson') as f:\n",
    "    data = json.load(f)"
   ]
  },
  {
   "cell_type": "code",
   "execution_count": 6,
   "metadata": {
    "collapsed": false
   },
   "outputs": [
    {
     "name": "stdout",
     "output_type": "stream",
     "text": [
      "27\n"
     ]
    }
   ],
   "source": [
    "n_features = len(data['features'])\n",
    "colors = n_colors(n_features)\n",
    "print n_features"
   ]
  },
  {
   "cell_type": "code",
   "execution_count": 7,
   "metadata": {
    "collapsed": false
   },
   "outputs": [],
   "source": [
    "for feature, color in zip(data['features'], colors):\n",
    "    feature['properties']['style'] = {\n",
    "        'color':color,\n",
    "        'weight': 1,\n",
    "        'fillColor':color,\n",
    "        'fillOpacity':1.\n",
    "    }"
   ]
  },
  {
   "cell_type": "code",
   "execution_count": 8,
   "metadata": {
    "collapsed": false
   },
   "outputs": [],
   "source": [
    "g = GeoJSON(data=data)"
   ]
  },
  {
   "cell_type": "code",
   "execution_count": 9,
   "metadata": {
    "collapsed": false
   },
   "outputs": [],
   "source": [
    "m.add_layer(g)"
   ]
  },
  {
   "cell_type": "code",
   "execution_count": 10,
   "metadata": {
    "collapsed": false
   },
   "outputs": [
    {
     "name": "stdout",
     "output_type": "stream",
     "text": [
      "({u'style': {u'color': u'#2575b7', u'fillColor': u'#2575b7', u'weight': 1, u'fillOpacity': 1}}, u'click')\n",
      "({u'style': {u'color': u'#1d6cb1', u'fillColor': u'#1d6cb1', u'weight': 1, u'fillOpacity': 1}}, u'click')\n",
      "({u'style': {u'color': u'#1d6cb1', u'fillColor': u'#1d6cb1', u'weight': 1, u'fillOpacity': 1}}, u'click', u'94117')\n"
     ]
    }
   ],
   "source": [
    "m"
   ]
  },
  {
   "cell_type": "code",
   "execution_count": 13,
   "metadata": {
    "collapsed": false
   },
   "outputs": [],
   "source": [
    "def click_handler(event=None, id=None, properties=None):\n",
    "    print(properties, event, id)\n",
    "\n",
    "g.on_click(click_handler)"
   ]
  },
  {
   "cell_type": "code",
   "execution_count": 12,
   "metadata": {
    "collapsed": false
   },
   "outputs": [],
   "source": [
    "g.hover_style = {'fillColor': 'red'}"
   ]
  }
 ],
 "metadata": {
  "kernelspec": {
   "display_name": "Python 2",
   "language": "python",
   "name": "python2"
  },
  "language_info": {
   "codemirror_mode": {
    "name": "ipython",
    "version": 2
   },
   "file_extension": ".py",
   "mimetype": "text/x-python",
   "name": "python",
   "nbconvert_exporter": "python",
   "pygments_lexer": "ipython2",
   "version": "2.7.11"
  },
  "widgets": {
   "state": {
    "604bcc7194c8432b874f5638ee8d6c09": {
     "views": []
    },
    "798c69951fff48fd8cc55f08d450b635": {
     "views": []
    },
    "7b16d3970ebe4d0b83704f870e6c9e04": {
     "views": []
    },
    "8921a13bb41b4131b1534f49b7316356": {
     "views": [
      {
       "cell": {
        "cell_type": "code",
        "execution_count": 10,
        "metadata": {
         "collapsed": false,
         "trusted": true
        },
        "outputs": [
         {
          "name": "stdout",
          "output_type": "stream",
          "text": "({u'style': {u'color': u'#2575b7', u'fillColor': u'#2575b7', u'weight': 1, u'fillOpacity': 1}}, u'click')\n({u'style': {u'color': u'#1d6cb1', u'fillColor': u'#1d6cb1', u'weight': 1, u'fillOpacity': 1}}, u'click')\n({u'style': {u'color': u'#1d6cb1', u'fillColor': u'#1d6cb1', u'weight': 1, u'fillOpacity': 1}}, u'click', u'94117')\n"
         }
        ],
        "source": "m"
       },
       "cell_index": 8,
       "root": true
      }
     ]
    }
   },
   "version": "1.0.0"
  }
 },
 "nbformat": 4,
 "nbformat_minor": 1
}
