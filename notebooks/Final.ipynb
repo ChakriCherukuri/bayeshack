{
 "cells": [
  {
   "cell_type": "code",
   "execution_count": null,
   "metadata": {
    "collapsed": true
   },
   "outputs": [],
   "source": [
    "from __future__ import print_function\n",
    "\n",
    "# Jupyter display\n",
    "from IPython.display import display\n",
    "\n",
    "# json\n",
    "import json\n",
    "\n",
    "# widgets\n",
    "import ipywidgets as widgets\n",
    "import bqplot as bq\n",
    "import ipyleaflet as ll\n",
    "\n",
    "# numerics\n",
    "import pandas as pd\n",
    "import numpy as np\n",
    "\n",
    "# colormap\n",
    "import matplotlib as mpl\n",
    "import matplotlib.cm\n",
    "import matplotlib.colors\n",
    "\n",
    "def n_colors(n, colormap=mpl.cm.Blues):\n",
    "    data = np.linspace(0.0,1.0,n)\n",
    "    c = [mpl.colors.rgb2hex(d[0:3]) for d in colormap(data)]\n",
    "    return c\n",
    "\n",
    "def data_to_colors(data, colormap=mpl.cm.plasma):\n",
    "    c = [mpl.colors.rgb2hex(d[0:3]) for d in colormap(mpl.colors.Normalize()(data))]\n",
    "    return c"
   ]
  },
  {
   "cell_type": "markdown",
   "metadata": {},
   "source": [
    "# Correlation Matrix for the Scores"
   ]
  },
  {
   "cell_type": "code",
   "execution_count": null,
   "metadata": {
    "collapsed": true
   },
   "outputs": [],
   "source": [
    "data = pd.read_csv('./../analysis_data/other_race_corrected_merged_data.csv')\n",
    "data = data.ix[:, 2:]\n",
    "\n",
    "corr_data = data.corr()"
   ]
  },
  {
   "cell_type": "code",
   "execution_count": null,
   "metadata": {
    "collapsed": false
   },
   "outputs": [],
   "source": [
    "y_sc, col_sc = bq.OrdinalScale(reverse=True), bq.ColorScale(scheme='Reds')\n",
    "ax_c = bq.ColorAxis(scale=col_sc, label='Correlations')\n",
    "grid_map = bq.GridHeatMap(row=corr_data.columns.tolist(), color=corr_data, scales={'row': y_sc, 'color': col_sc})\n",
    "ax_y = bq.Axis(scale=y_sc, orientation='vertical', side='right')\n",
    "\n",
    "fig = bq.Figure(marks=[grid_map], axes=[ax_y, ax_c], padding_y=0.0, \n",
    "             fig_margin={'bottom': 60, 'left': 5, 'right': 110, 'top': 60})\n",
    "display(fig)"
   ]
  },
  {
   "cell_type": "markdown",
   "metadata": {},
   "source": [
    "# Satisfaction Score by ZIP Code"
   ]
  },
  {
   "cell_type": "code",
   "execution_count": null,
   "metadata": {
    "collapsed": false
   },
   "outputs": [],
   "source": [
    "survey_map = ll.Map(center=[37.7749, -122.34580993652344], zoom=12, layout=widgets.Layout(height='450px'))\n",
    "\n",
    "survey_data = pd.read_csv('./../analysis_data/scores_by_zipcodes.csv', header=None)\n",
    "survey_colors = data_to_colors(survey_data.ix[:, 1], colormap=mpl.cm.Greens)\n",
    "zips = [str(int(i)) for i in survey_data.ix[:, 0]]\n",
    "cols = {}\n",
    "\n",
    "for i in range(len(zips)):\n",
    "    cols[zips[i]] = survey_colors[i]\n",
    "\n",
    "# Survey layer\n",
    "with open('./../mapdata/sf_zipcodes.geojson') as f:\n",
    "    data = json.load(f)\n",
    "\n",
    "for feature in data['features']:\n",
    "    feature['properties']['style'] = {\n",
    "        'color': cols[feature['id']],\n",
    "        'weight': 1,\n",
    "        'fillColor': cols[feature['id']],\n",
    "        'fillOpacity': 0.65,\n",
    "    }\n",
    "\n",
    "survey_layer = ll.GeoJSON(data=data, hover_style={'fillColor': 'red'})\n",
    "survey_map += survey_layer\n",
    "\n",
    "with open('./../mapdata/bayarea_nosf_zipcodes.geojson') as f:\n",
    "    bay_data = json.load(f)\n",
    "    \n",
    "# Grey layer\n",
    "grey_colors = n_colors(len(bay_data['features']), colormap=mpl.cm.Greys)\n",
    "\n",
    "for feature, color in zip(bay_data['features'], grey_colors):\n",
    "    feature['properties']['style'] = {\n",
    "        'color': 'grey',\n",
    "        'weight': 1,\n",
    "        'fillColor': 'grey',\n",
    "        'fillOpacity': 0.2\n",
    "    }\n",
    "\n",
    "grey_layer = ll.GeoJSON(data=bay_data, hover_style={'fillColor': 'red'})\n",
    "\n",
    "survey_map.add_layer(grey_layer)\n",
    "\n",
    "survey_map"
   ]
  },
  {
   "cell_type": "markdown",
   "metadata": {},
   "source": [
    "# Neighborhood features"
   ]
  },
  {
   "cell_type": "code",
   "execution_count": null,
   "metadata": {
    "collapsed": false
   },
   "outputs": [],
   "source": [
    "feature_map = ll.Map(center=[37.7749, -122.34580993652344], zoom=12, layout=widgets.Layout(height='450px'))\n",
    "tract_data = pd.read_csv('./../data/CensusData/sfo data/tract_data_normalized.csv')\n",
    "colors = data_to_colors(tract_data['pct_bachelors'], colormap=mpl.cm.Reds)\n",
    "tracts = [str(int(i)) for i in tract_data.ix[:, 0].values]\n",
    "\n",
    "cols = {}\n",
    "for i in range(len(tracts)):\n",
    "    cols[tracts[i][4:]] = colors[i]\n",
    "\n",
    "with open('./../mapdata/sf_tracts.geojson') as f:\n",
    "    data = json.load(f)\n",
    "for feature in data['features']:\n",
    "    try:\n",
    "        style_col = cols[feature['properties']['tractce10']]\n",
    "    except KeyError:\n",
    "        style_col = 'Grey'\n",
    "    feature['properties']['style'] = {\n",
    "        'color': style_col,\n",
    "        'weight': 1,\n",
    "        'fillColor': style_col,\n",
    "        'fillOpacity': 0.75,\n",
    "    }\n",
    "\n",
    "feature_layer = ll.GeoJSON(data=data)\n",
    "feature_map += feature_layer\n",
    "\n",
    "data_columns = [\n",
    "      'pct_bachelors',\n",
    "      'labor_part_rate',\n",
    "      'pct_welfare',\n",
    "      'low_pov_idx',\n",
    "      'labor_idx',\n",
    "      'env_health_idx',\n",
    "      'hispanic',\n",
    "      'white',\n",
    "      'black',\n",
    "      'american_indian',\n",
    "      'asian',\n",
    "      'pac_islander',\n",
    "      'other_races',\n",
    "      'two_races',\n",
    "      'housing_cost',\n",
    "      'transportation_cost',\n",
    "      'pub_school_score',\n",
    "      'pr_school_score',\n",
    "      'rest_score',\n",
    "      'rest_proximity']\n",
    "\n",
    "dpdown = widgets.Dropdown(options=data_columns, value='pct_bachelors')\n",
    "\n",
    "def update_dpdown(change):\n",
    "    value = change['new']\n",
    "    colors = data_to_colors(tract_data[value], colormap=mpl.cm.Reds)\n",
    "    cols = {}\n",
    "    for i in range(len(tracts)):\n",
    "        cols[tracts[i][4:]] = colors[i]\n",
    "    for feature in data['features']:\n",
    "        try:\n",
    "            style_col = cols[feature['properties']['tractce10']]\n",
    "        except KeyError:\n",
    "            style_col = 'grey'\n",
    "        feature['properties']['style'] = {\n",
    "            'color': style_col,\n",
    "            'weight': 1,\n",
    "            'fillColor': style_col,\n",
    "            'fillOpacity': 0.75,\n",
    "        }\n",
    "        \n",
    "    feature_layer = ll.GeoJSON(data=data)\n",
    "    \n",
    "    feature_map.layers = [feature_map.layers[0], feature_layer]\n",
    "    \n",
    "dpdown.observe(update_dpdown, names=['value'])\n",
    "\n",
    "feature_map.layout.align_self = 'stretch'\n",
    "display(widgets.VBox([feature_map, dpdown]))"
   ]
  },
  {
   "cell_type": "markdown",
   "metadata": {},
   "source": [
    "# From the Features to the Satisfaction Index"
   ]
  },
  {
   "cell_type": "code",
   "execution_count": null,
   "metadata": {
    "collapsed": false
   },
   "outputs": [],
   "source": [
    "ordinal_features_scale = bq.OrdinalScale()\n",
    "values_features_scale = bq.LinearScale()\n",
    "value_axis = bq.Axis(scale=values_features_scale, orientation='vertical')\n",
    "\n",
    "bars = bq.Bars(x=data_columns, y=np.zeros(len(data_columns)), \n",
    "               scales={\n",
    "        'x': ordinal_features_scale,\n",
    "        'y': values_features_scale\n",
    "    })\n",
    "\n",
    "indication = bq.Label(x=0.9, y=0.5, text='Hover On Map', font_size='50px', color='gray')\n",
    "\n",
    "ui_map = ll.Map(center=[37.7449, -122.42580993652344], zoom=11, layout=widgets.Layout(width='450px', height='450px'))\n",
    "ui_map.add_layer(survey_layer)\n",
    "ui_map.add_layer(grey_layer)\n",
    "\n",
    "predictors = pd.read_csv('./../analysis_data/predictors.csv').set_index('zip code')\n",
    "\n",
    "def scores(zip_code):\n",
    "    if zip_code in predictors.index:\n",
    "        dic = predictors.ix[zip_code].to_dict()\n",
    "        return [dic[v] for v in data_columns]\n",
    "    else:\n",
    "        return np.zeros(len(data_columns))\n",
    "\n",
    "def hover_handler(event=None, id=None, properties=None):\n",
    "    figure.marks = [bars]\n",
    "    bars.y = scores(int(id))\n",
    "\n",
    "survey_layer.on_hover(hover_handler)\n",
    "\n",
    "figure = bq.Figure(axes=[value_axis], marks=[bars, indication],\n",
    "                   title='Predictors',\n",
    "                   animation_duration=500, min_width=300, min_height=500)\n",
    "\n",
    "\n",
    "widgets.HBox([ui_map, figure])"
   ]
  },
  {
   "cell_type": "markdown",
   "metadata": {},
   "source": [
    "#### Bar Chart with reduced data"
   ]
  },
  {
   "cell_type": "code",
   "execution_count": null,
   "metadata": {
    "collapsed": true
   },
   "outputs": [],
   "source": [
    "ordinal_features_scale = bq.OrdinalScale()\n",
    "values_features_scale = bq.LinearScale()\n",
    "ord_axis = bq.Axis(scale=ordinal_features_scale)\n",
    "value_axis = bq.Axis(scale=values_features_scale, orientation='vertical')\n",
    "\n",
    "predictors = pd.read_csv('./../analysis_data/predictors.csv').set_index('zip code')\n",
    "imp_predictors = predictors.loc[:, ('env_health_idx', 'labor_idx', 'housing_cost', 'transportation_cost', 'crime_index',\n",
    "                                       'pub_school_score', 'rest_proximity')]\n",
    "imp_predictors.columns=['Environment', 'Labor', 'Housing', 'Transport', 'Crime', 'Schools', 'Resta']\n",
    "columns_reduced = imp_predictors.columns.values\n",
    "mean_scores = imp_predictors.mean().values\n",
    "\n",
    "bars = bq.Bars(x=columns_reduced, y=np.ones(len(columns_reduced)), \n",
    "               scales={\n",
    "        'x': ordinal_features_scale,\n",
    "        'y': values_features_scale\n",
    "    }, base=1.0)\n",
    "\n",
    "\n",
    "indication = bq.Label(x=0.9, y=0.5, text='Hover On Map', font_size='50px', color='gray')\n",
    "\n",
    "ui_map = ll.Map(center=[37.7449, -122.42580993652344], zoom=11, layout=widgets.Layout(width='450px', height='450px'))\n",
    "ui_map.add_layer(survey_layer)\n",
    "ui_map.add_layer(grey_layer)\n",
    "\n",
    "\n",
    "def scores(zip_code):\n",
    "    if zip_code in imp_predictors.index:\n",
    "        dic = imp_predictors.ix[zip_code].to_dict()\n",
    "        return [dic[v] for v in columns_reduced]\n",
    "    else:\n",
    "        return np.ones(len(columns_reduced))\n",
    "\n",
    "def hover_handler(event=None, id=None, properties=None):\n",
    "    figure.marks = [bars]\n",
    "    bars.y = scores(int(id)) / mean_scores\n",
    "\n",
    "survey_layer.on_hover(hover_handler)\n",
    "\n",
    "figure = bq.Figure(axes=[value_axis, ord_axis], marks=[bars, indication],\n",
    "                   title='Predictors',\n",
    "                   animation_duration=500, min_width=300, min_height=500)\n",
    "\n",
    "widgets.HBox([ui_map, figure])"
   ]
  },
  {
   "cell_type": "markdown",
   "metadata": {
    "collapsed": true
   },
   "source": [
    "#### Importances"
   ]
  },
  {
   "cell_type": "code",
   "execution_count": null,
   "metadata": {
    "collapsed": true
   },
   "outputs": [],
   "source": [
    "scores_data = survey_data.set_index(0)\n",
    "joint_df = pd.concat([imp_predictors, scores_data], axis=1).dropna()\n",
    "preds = joint_df.iloc[:, :-1].values\n",
    "response = joint_df.iloc[:, -1].values"
   ]
  },
  {
   "cell_type": "code",
   "execution_count": null,
   "metadata": {
    "collapsed": true
   },
   "outputs": [],
   "source": [
    "from sklearn.ensemble import RandomForestRegressor, GradientBoostingRegressor"
   ]
  },
  {
   "cell_type": "code",
   "execution_count": null,
   "metadata": {
    "collapsed": true
   },
   "outputs": [],
   "source": [
    "rf = RandomForestRegressor(max_features=1, min_samples_leaf=3, n_estimators=100, oob_score=True,\n",
    "                           n_jobs=-1)"
   ]
  },
  {
   "cell_type": "code",
   "execution_count": null,
   "metadata": {
    "collapsed": true
   },
   "outputs": [],
   "source": [
    "num_iter = 10\n",
    "imps = np.zeros(preds.shape[1])\n",
    "in_sample_scores = 0.\n",
    "out_sample_scores = 0.\n",
    "\n",
    "for it in range(num_iter):\n",
    "    rf.fit(preds, response)\n",
    "    imps += rf.feature_importances_\n",
    "    in_sample_scores += rf.score(preds, response)\n",
    "    out_sample_scores += rf.oob_score_"
   ]
  },
  {
   "cell_type": "code",
   "execution_count": null,
   "metadata": {
    "collapsed": true
   },
   "outputs": [],
   "source": [
    "from bqplot import pyplot as pl"
   ]
  },
  {
   "cell_type": "code",
   "execution_count": null,
   "metadata": {
    "collapsed": true
   },
   "outputs": [],
   "source": [
    "pl.figure(title='Importances of various factors for predicting the Satisfaction of a Neighborhood')\n",
    "pl.bar(imp_predictors.columns.values.astype(str), imps)\n",
    "pl.show()"
   ]
  }
 ],
 "metadata": {
  "kernelspec": {
   "display_name": "Python 2",
   "language": "python",
   "name": "python2"
  },
  "language_info": {
   "codemirror_mode": {
    "name": "ipython",
    "version": 2
   },
   "file_extension": ".py",
   "mimetype": "text/x-python",
   "name": "python",
   "nbconvert_exporter": "python",
   "pygments_lexer": "ipython2",
   "version": "2.7.11"
  },
  "widgets": {
   "state": {
    "00f2841f3f2a46748121ea82c40308eb": {
     "views": []
    },
    "027b344473d1423e95f272fa3a4a3131": {
     "views": []
    },
    "04285362be0d44e8b905a6d717141055": {
     "views": []
    },
    "0463d46852c047ae91fb1cfe8af57e8c": {
     "views": []
    },
    "129ea94e0d3248e1b46d3df63531059a": {
     "views": []
    },
    "12d144791c344335a4ff1279c16e9675": {
     "views": []
    },
    "12f1db593d7f418bad1d0cb6adc71c0f": {
     "views": []
    },
    "13cab6eddd5f4cd086cfb3499e902d82": {
     "views": []
    },
    "14a0c9493bc24d769b53a0dd15b413e0": {
     "views": []
    },
    "1ba15985531d4e49968e39a2342349e6": {
     "views": []
    },
    "1d650e2b184948c49dfd44da8f9182a8": {
     "views": []
    },
    "24dad1ed252441d5bdc2d4186428a7a9": {
     "views": []
    },
    "2537d8d85ca8466f9b268001f1bca05f": {
     "views": []
    },
    "284a2233d7544135a67f7b8d9e1b853f": {
     "views": []
    },
    "2b327d664c7540f98e9fd03d69817db3": {
     "views": []
    },
    "2efdc302c3c440e0afb4022acadefeb8": {
     "views": []
    },
    "32037026365146d0857c320521492834": {
     "views": []
    },
    "3520fa1284b44983b2848005db13a4bf": {
     "views": []
    },
    "35bb450686454e168b93e45b1721c961": {
     "views": []
    },
    "3a7c5de1e3d04a6db71273adbebb3abf": {
     "views": []
    },
    "3ce0773b4f7a4cefa9e6f4795c6f58cc": {
     "views": []
    },
    "3f04014cad644793a6f1cc202684e2f1": {
     "views": []
    },
    "3f27d91b1f4947b795d3e5a7751d1d6c": {
     "views": []
    },
    "40a5995297d6459899b69d3c3089c99e": {
     "views": []
    },
    "41487a67245b49b09fddc9a3cef553cd": {
     "views": []
    },
    "4271b24e7efb4abd98f4f2e543c592ea": {
     "views": []
    },
    "45e48105707c4cc88f51189acd779cb4": {
     "views": []
    },
    "45fe9b2ef2034a70b8e1a87a488c006b": {
     "views": []
    },
    "46a5c53913254a64899ffb4dc2abf973": {
     "views": []
    },
    "4ab83eb4bcb34d32a2c34779106417d9": {
     "views": []
    },
    "4bc3f2ffa4134974930f711f4a10f3d1": {
     "views": []
    },
    "53d35c211fa740b394f4dc0723f13c40": {
     "views": []
    },
    "58fc494942a24d44b8d7bb46f0fb9c13": {
     "views": []
    },
    "5bdfa0812f0d4043b1f5bce8804c4218": {
     "views": []
    },
    "5bf15d1e4e0a479195dcc0cbbb1801a0": {
     "views": []
    },
    "5c51dd597139498db62f0e9510ef58c2": {
     "views": []
    },
    "5dc8fd1aa7fb4f0ab059dd3e988789c3": {
     "views": []
    },
    "608ac4bc63a54acc8d5d01b080de71ae": {
     "views": []
    },
    "60ea46381160435eb467dff4bf97dc46": {
     "views": [
      {
       "cell": {
        "cell_type": "code",
        "execution_count": null,
        "metadata": {
         "collapsed": false,
         "trusted": true
        },
        "outputs": [],
        "source": "feature_map = ll.Map(center=[37.7749, -122.34580993652344], zoom=12, layout=widgets.Layout(height='450px'))\ntract_data = pd.read_csv('./../data/CensusData/sfo data/tract_data_normalized.csv')\ncolors = data_to_colors(tract_data['pct_bachelors'], colormap=mpl.cm.Reds)\ntracts = [str(int(i)) for i in tract_data.ix[:, 0].values]\n\ncols = {}\nfor i in range(len(tracts)):\n    cols[tracts[i][4:]] = colors[i]\n\nwith open('./../mapdata/sf_tracts.geojson') as f:\n    data = json.load(f)\nfor feature in data['features']:\n    try:\n        style_col = cols[feature['properties']['tractce10']]\n    except KeyError:\n        style_col = 'Grey'\n    feature['properties']['style'] = {\n        'color': style_col,\n        'weight': 1,\n        'fillColor': style_col,\n        'fillOpacity': 0.75,\n    }\n\nfeature_layer = ll.GeoJSON(data=data)\nfeature_map += feature_layer\n\ndata_columns = [\n      'pct_bachelors',\n      'labor_part_rate',\n      'pct_welfare',\n      'low_pov_idx',\n      'labor_idx',\n      'env_health_idx',\n      'hispanic',\n      'white',\n      'black',\n      'american_indian',\n      'asian',\n      'pac_islander',\n      'other_races',\n      'two_races',\n      'housing_cost',\n      'transportation_cost',\n      'pub_school_score',\n      'pr_school_score',\n      'rest_score',\n      'rest_proximity']\n\ndpdown = widgets.Dropdown(options=data_columns, value='pct_bachelors')\n\ndef update_dpdown(change):\n    value = change['new']\n    colors = data_to_colors(tract_data[value], colormap=mpl.cm.Reds)\n    cols = {}\n    for i in range(len(tracts)):\n        cols[tracts[i][4:]] = colors[i]\n    for feature in data['features']:\n        try:\n            style_col = cols[feature['properties']['tractce10']]\n        except KeyError:\n            style_col = 'grey'\n        feature['properties']['style'] = {\n            'color': style_col,\n            'weight': 1,\n            'fillColor': style_col,\n            'fillOpacity': 0.75,\n        }\n        \n    feature_layer = ll.GeoJSON(data=data)\n    \n    feature_map.layers = [feature_map.layers[0], feature_layer]\n    \ndpdown.observe(update_dpdown, names=['value'])\n\nfeature_map.layout.align_self = 'stretch'\ndisplay(widgets.VBox([feature_map, dpdown]))"
       },
       "cell_index": 7,
       "root": true
      }
     ]
    },
    "61278b559ed7459a8e8bd1ce6b13468b": {
     "views": []
    },
    "62478680ea49450fb8a3ae69d7556642": {
     "views": []
    },
    "63a8ba66a3de42d48810783bdc544d5d": {
     "views": []
    },
    "63b8e2570c774e40a15ef2c9570db1b1": {
     "views": []
    },
    "649b17614cfc4193906a92f5a5e37e2e": {
     "views": []
    },
    "64aa1ac90c8140d0a4cce9a1d0cf0744": {
     "views": []
    },
    "6a44edd9775c45538d99f0240405ff71": {
     "views": [
      {
       "cell": {
        "cell_type": "code",
        "execution_count": null,
        "metadata": {
         "collapsed": false,
         "trusted": true
        },
        "outputs": [],
        "source": "y_sc, col_sc = bq.OrdinalScale(reverse=True), bq.ColorScale(scheme='Reds')\nax_c = bq.ColorAxis(scale=col_sc, label='Correlations')\ngrid_map = bq.GridHeatMap(row=corr_data.columns.tolist(), color=corr_data, scales={'row': y_sc, 'color': col_sc})\nax_y = bq.Axis(scale=y_sc, orientation='vertical', side='right')\n\nfig = bq.Figure(marks=[grid_map], axes=[ax_y, ax_c], padding_y=0.0, \n             fig_margin={'bottom': 60, 'left': 5, 'right': 110, 'top': 60})\ndisplay(fig)"
       },
       "cell_index": 3,
       "root": true
      }
     ]
    },
    "6f3f199ad9fc407caa561104e7d5d718": {
     "views": []
    },
    "71fd04e1d8554ab0a7cfc4d3b762c83f": {
     "views": [
      {
       "cell": {
        "cell_type": "code",
        "execution_count": null,
        "metadata": {
         "collapsed": true,
         "trusted": true
        },
        "outputs": [],
        "source": "ordinal_features_scale = bq.OrdinalScale()\nvalues_features_scale = bq.LinearScale()\nord_axis = bq.Axis(scale=ordinal_features_scale)\nvalue_axis = bq.Axis(scale=values_features_scale, orientation='vertical')\n\npredictors = pd.read_csv('./../analysis_data/predictors.csv').set_index('zip code')\nimp_predictors = predictors.loc[:, ('env_health_idx', 'labor_idx', 'housing_cost', 'transportation_cost', 'crime_index',\n                                       'pub_school_score', 'rest_proximity')]\nimp_predictors.columns=['Environment', 'Labor', 'Housing', 'Transport', 'Crime', 'Schools', 'Resta']\ncolumns_reduced = imp_predictors.columns.values\nmean_scores = imp_predictors.mean().values\n\nbars = bq.Bars(x=columns_reduced, y=np.ones(len(columns_reduced)), \n               scales={\n        'x': ordinal_features_scale,\n        'y': values_features_scale\n    }, base=1.0)\n\n\nindication = bq.Label(x=0.9, y=0.5, text='Hover On Map', font_size='50px', color='gray')\n\nui_map = ll.Map(center=[37.7449, -122.42580993652344], zoom=11, layout=widgets.Layout(width='450px', height='450px'))\nui_map.add_layer(survey_layer)\nui_map.add_layer(grey_layer)\n\n\ndef scores(zip_code):\n    if zip_code in imp_predictors.index:\n        dic = imp_predictors.ix[zip_code].to_dict()\n        return [dic[v] for v in columns_reduced]\n    else:\n        return np.ones(len(columns_reduced))\n\ndef hover_handler(event=None, id=None, properties=None):\n    figure.marks = [bars]\n    bars.y = scores(int(id)) / mean_scores\n\nsurvey_layer.on_hover(hover_handler)\n\nfigure = bq.Figure(axes=[value_axis, ord_axis], marks=[bars, indication],\n                   title='Predictors',\n                   animation_duration=500, min_width=300, min_height=500)\n\nwidgets.HBox([ui_map, figure])"
       },
       "cell_index": 10,
       "root": true
      }
     ]
    },
    "7387497c64684e24a8ca2cac71fc764d": {
     "views": []
    },
    "755a8551218c4866876a84e9fc4a9624": {
     "views": []
    },
    "7661a5b7c58e434c8421f3ffd81e816e": {
     "views": []
    },
    "7672447ce9834ad7ab509cb2e78b6032": {
     "views": []
    },
    "7877399a3f844bc1a688a25c28bc6d39": {
     "views": []
    },
    "78e3f702bb7b4177a9413976248f1717": {
     "views": []
    },
    "79b698ebf24342a0aa358b5466d32b41": {
     "views": []
    },
    "7a5c635a303541b8b1cfc374c68e5690": {
     "views": []
    },
    "7f349f81b5b944eaa073dcb524ba0c9f": {
     "views": []
    },
    "80b5234e63f343c7acf4f5f8f7f41f39": {
     "views": []
    },
    "8633fc12ef2046779fcca5f7b1622c3e": {
     "views": []
    },
    "8689156d571e4f23bc09f0af5993ce00": {
     "views": []
    },
    "881afd959f8943bcaddc7e66bd2426c0": {
     "views": [
      {
       "cell": {
        "cell_type": "code",
        "execution_count": null,
        "metadata": {
         "collapsed": true,
         "trusted": true
        },
        "outputs": [],
        "source": "pl.figure(title='Importances of various factors for predicting the Satisfaction of a Neighborhood')\npl.bar(imp_predictors.columns.values.astype(str), imps)\npl.show()"
       },
       "cell_index": 19,
       "root": true
      }
     ]
    },
    "8a0808fcf7304f16971672ddfcd5fa86": {
     "views": []
    },
    "8beac4120fc54f00a95aa20aab2928e1": {
     "views": []
    },
    "8c9a4fda0eba4522b13a8949ddcf6f1d": {
     "views": []
    },
    "8e096070b7b44dc19d9da1aa8a18a5f8": {
     "views": []
    },
    "9092d560603749debfdb91edcc896056": {
     "views": []
    },
    "93348e6e29d24fa5b5d38a5ff5b42514": {
     "views": []
    },
    "93744c4f0ccc44c096fbb95f15a4e9f0": {
     "views": []
    },
    "9409f54b65404145969ad585b2024726": {
     "views": []
    },
    "9517b454d16c4808b05d9f3698aba2db": {
     "views": []
    },
    "95341b1b472c4183826f3ceda9ce420e": {
     "views": []
    },
    "954838ece7c14bda9be8412542cde89c": {
     "views": []
    },
    "95d40726b77c4361adc396f3247c9968": {
     "views": []
    },
    "97b8ef17de8c464291dd49344fde5952": {
     "views": []
    },
    "9910f104702f460496aa1d4139f7b404": {
     "views": []
    },
    "9a0e800122f841968cd54fd05bd34df8": {
     "views": []
    },
    "9d161562890b4b09aa5df69ed118ee71": {
     "views": []
    },
    "9f5e20b219c74098bba05d699fd682f4": {
     "views": []
    },
    "a010231bcb3c493fa74250a82157425c": {
     "views": []
    },
    "a099519075b3492c9a83aa3c2c8ad01f": {
     "views": []
    },
    "a2131f639c82461aa5af6ddc293b6fa8": {
     "views": []
    },
    "a47fc168f77f4b1b9865b084360c51ee": {
     "views": []
    },
    "a565766aab604be09f428b894aab5389": {
     "views": []
    },
    "a5d77982aa1b485194adf7c29ee697f9": {
     "views": []
    },
    "a7387bab4f944987879bd5c246db9dab": {
     "views": []
    },
    "a9095695b5aa4bf7baed987ae6fbd877": {
     "views": []
    },
    "b0775ff5e26549fca2394536bed39d2e": {
     "views": []
    },
    "b713f1bfb9374de09846cb68e0f8f014": {
     "views": []
    },
    "b81e997002f740178458a51c29d89eb7": {
     "views": []
    },
    "ba845ea5086c4d7a996c7b7a220afdf0": {
     "views": []
    },
    "bc8c0ec40a554bd8932704fd644cf4d6": {
     "views": []
    },
    "bd1eef14633a46579d2f87fef8f8805f": {
     "views": []
    },
    "bdca3357c25545bf9d2568406692bf6f": {
     "views": []
    },
    "c0c20f7c0ea843f6bcf5e4f4c8c37de9": {
     "views": [
      {
       "cell": {
        "cell_type": "code",
        "execution_count": null,
        "metadata": {
         "collapsed": false,
         "trusted": true
        },
        "outputs": [],
        "source": "survey_map = ll.Map(center=[37.7749, -122.34580993652344], zoom=12, layout=widgets.Layout(height='450px'))\n\nsurvey_data = pd.read_csv('./../analysis_data/scores_by_zipcodes.csv', header=None)\nsurvey_colors = data_to_colors(survey_data.ix[:, 1], colormap=mpl.cm.Greens)\nzips = [str(int(i)) for i in survey_data.ix[:, 0]]\ncols = {}\n\nfor i in range(len(zips)):\n    cols[zips[i]] = survey_colors[i]\n\n# Survey layer\nwith open('./../mapdata/sf_zipcodes.geojson') as f:\n    data = json.load(f)\n\nfor feature in data['features']:\n    feature['properties']['style'] = {\n        'color': cols[feature['id']],\n        'weight': 1,\n        'fillColor': cols[feature['id']],\n        'fillOpacity': 0.65,\n    }\n\nsurvey_layer = ll.GeoJSON(data=data, hover_style={'fillColor': 'red'})\nsurvey_map += survey_layer\n\nwith open('./../mapdata/bayarea_nosf_zipcodes.geojson') as f:\n    bay_data = json.load(f)\n    \n# Grey layer\ngrey_colors = n_colors(len(bay_data['features']), colormap=mpl.cm.Greys)\n\nfor feature, color in zip(bay_data['features'], grey_colors):\n    feature['properties']['style'] = {\n        'color': 'grey',\n        'weight': 1,\n        'fillColor': 'grey',\n        'fillOpacity': 0.2\n    }\n\ngrey_layer = ll.GeoJSON(data=bay_data, hover_style={'fillColor': 'red'})\n\nsurvey_map.add_layer(grey_layer)\n\nsurvey_map"
       },
       "cell_index": 5,
       "root": true
      }
     ]
    },
    "c5a81e5687b04a0ebccf478aa362bff5": {
     "views": []
    },
    "c6e975661f8c4acf9f43d957c01b45d7": {
     "views": []
    },
    "c74899c35bdc44cea2a059bfcb4398ca": {
     "views": []
    },
    "c9c3a666eb254285a28b61289af5d7c6": {
     "views": []
    },
    "ca0263569af349498e86910dae949f26": {
     "views": []
    },
    "cb106d9d33de49428ba161c7677efdbe": {
     "views": []
    },
    "d068c48adf72406e9379901bf7a3fa9d": {
     "views": []
    },
    "d1408c1740804b0ca0cad2eb6cda8864": {
     "views": []
    },
    "d254fc2d93c843b6adc24ba482db4f0f": {
     "views": []
    },
    "d29abf49513041748691e0a99eab18f9": {
     "views": []
    },
    "d2ec2b6751e34f6fa50a24a9b16e4ca9": {
     "views": []
    },
    "d574eefa27954b99a74b6e5e1135af52": {
     "views": []
    },
    "d6814dc6b2da4801b8eee11f38913ce1": {
     "views": []
    },
    "dc08c891f9b345faae94b998baa8538b": {
     "views": []
    },
    "dcbd7b33f10648769daac39b0c170688": {
     "views": []
    },
    "e0887cab587245008049517fcbcd8d01": {
     "views": []
    },
    "e13db233af3f4abc8d821783411e557b": {
     "views": []
    },
    "e24b052e2ac54f77bbb488a35886f991": {
     "views": []
    },
    "e31b6c07cfdd4f2aba83fc88b0828114": {
     "views": []
    },
    "e3dc3bcce4d140d69dd5ad388ca08174": {
     "views": []
    },
    "e415f53f7cbc4bcd9a7a307781a18501": {
     "views": []
    },
    "e6f2a0f8771e44eca525e72524ec38e1": {
     "views": []
    },
    "e796326d6dfa4678b749ecc325afab6f": {
     "views": []
    },
    "e935f477fc88481cab64f24e7176d396": {
     "views": []
    },
    "ebc3fd18af204c40a9282dab12fe9675": {
     "views": [
      {
       "cell": {
        "cell_type": "code",
        "execution_count": null,
        "metadata": {
         "collapsed": false,
         "trusted": true
        },
        "outputs": [],
        "source": "ordinal_features_scale = bq.OrdinalScale()\nvalues_features_scale = bq.LinearScale()\nvalue_axis = bq.Axis(scale=values_features_scale, orientation='vertical')\n\nbars = bq.Bars(x=data_columns, y=np.zeros(len(data_columns)), \n               scales={\n        'x': ordinal_features_scale,\n        'y': values_features_scale\n    })\n\nindication = bq.Label(x=0.9, y=0.5, text='Hover On Map', font_size='50px', color='gray')\n\nui_map = ll.Map(center=[37.7449, -122.42580993652344], zoom=11, layout=widgets.Layout(width='450px', height='450px'))\nui_map.add_layer(survey_layer)\nui_map.add_layer(grey_layer)\n\npredictors = pd.read_csv('./../analysis_data/predictors.csv').set_index('zip code')\n\ndef scores(zip_code):\n    if zip_code in predictors.index:\n        dic = predictors.ix[zip_code].to_dict()\n        return [dic[v] for v in data_columns]\n    else:\n        return np.zeros(len(data_columns))\n\ndef hover_handler(event=None, id=None, properties=None):\n    figure.marks = [bars]\n    bars.y = scores(int(id))\n\nsurvey_layer.on_hover(hover_handler)\n\nfigure = bq.Figure(axes=[value_axis], marks=[bars, indication],\n                   title='Predictors',\n                   animation_duration=500, min_width=300, min_height=500)\n\n\nwidgets.HBox([ui_map, figure])"
       },
       "cell_index": 9,
       "root": true
      }
     ]
    },
    "ec8bb7e863124f90a0def14005a844b2": {
     "views": []
    },
    "f12db43bc0b645f1b8851195fdec1b5c": {
     "views": []
    },
    "f7a2e2b964f3444cae6a1dab66000a88": {
     "views": []
    },
    "f86141470c544de58e36b6432b1ff9ac": {
     "views": []
    },
    "f89d07a5543a4b7b9c706c20dd198340": {
     "views": []
    },
    "fc7e397b72464b5da790b77e506bdee5": {
     "views": []
    },
    "fcc735eb8398460d89aa30002d987f69": {
     "views": []
    },
    "ff12c2b52b5f40748652ff2b66be3ce9": {
     "views": []
    }
   },
   "version": "1.0.0"
  }
 },
 "nbformat": 4,
 "nbformat_minor": 1
}
