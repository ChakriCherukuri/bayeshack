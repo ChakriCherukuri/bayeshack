{
 "cells": [
  {
   "cell_type": "code",
   "execution_count": 1,
   "metadata": {
    "collapsed": true
   },
   "outputs": [],
   "source": [
    "from __future__ import print_function\n",
    "\n",
    "# Jupyter display\n",
    "from IPython.display import display\n",
    "\n",
    "# json\n",
    "import json\n",
    "\n",
    "# widgets\n",
    "import ipywidgets as widgets\n",
    "import bqplot as bq\n",
    "import ipyleaflet as ll\n",
    "\n",
    "# numerics\n",
    "import pandas as pd\n",
    "import numpy as np\n",
    "\n",
    "# colormap\n",
    "import matplotlib as mpl\n",
    "import matplotlib.cm\n",
    "import matplotlib.colors\n",
    "\n",
    "def n_colors(n, colormap=mpl.cm.Blues):\n",
    "    data = np.linspace(0.0,1.0,n)\n",
    "    c = [mpl.colors.rgb2hex(d[0:3]) for d in colormap(data)]\n",
    "    return c\n",
    "\n",
    "def data_to_colors(data, colormap=mpl.cm.plasma):\n",
    "    c = [mpl.colors.rgb2hex(d[0:3]) for d in colormap(mpl.colors.Normalize()(data))]\n",
    "    return c"
   ]
  },
  {
   "cell_type": "markdown",
   "metadata": {},
   "source": [
    "# Satisfaction Score by ZIP Code"
   ]
  },
  {
   "cell_type": "code",
   "execution_count": 2,
   "metadata": {
    "collapsed": false
   },
   "outputs": [],
   "source": [
    "survey_map = ll.Map(center=[37.7749, -122.34580993652344], zoom=12, layout=widgets.Layout(height='450px'))\n",
    "\n",
    "survey_data = pd.read_csv('./../analysis_data/scores_by_zipcodes.csv', header=None)\n",
    "survey_colors = data_to_colors(survey_data.ix[:, 1], colormap=mpl.cm.Greens)\n",
    "zips = [str(int(i)) for i in survey_data.ix[:, 0]]\n",
    "cols = {}\n",
    "\n",
    "for i in range(len(zips)):\n",
    "    cols[zips[i]] = survey_colors[i]\n",
    "\n",
    "# Survey layer\n",
    "with open('./../mapdata/sf_zipcodes.geojson') as f:\n",
    "    data = json.load(f)\n",
    "\n",
    "for feature in data['features']:\n",
    "    feature['properties']['style'] = {\n",
    "        'color': cols[feature['id']],\n",
    "        'weight': 1,\n",
    "        'fillColor': cols[feature['id']],\n",
    "        'fillOpacity': 0.65,\n",
    "    }\n",
    "\n",
    "survey_layer = ll.GeoJSON(data=data, hover_style={'fillColor': 'red'})\n",
    "survey_map += survey_layer\n",
    "\n",
    "with open('./../mapdata/bayarea_nosf_zipcodes.geojson') as f:\n",
    "    bay_data = json.load(f)\n",
    "    \n",
    "# Grey layer\n",
    "grey_colors = n_colors(len(bay_data['features']), colormap=mpl.cm.Greys)\n",
    "\n",
    "for feature, color in zip(bay_data['features'], grey_colors):\n",
    "    feature['properties']['style'] = {\n",
    "        'color': 'gray',\n",
    "        'weight': 1,\n",
    "        'fillColor': 'gray',\n",
    "        'fillOpacity': 0.2\n",
    "    }\n",
    "\n",
    "gray_layer = ll.GeoJSON(data=bay_data, hover_style={'fillColor': 'red'})\n",
    "\n",
    "survey_map.add_layer(gray_layer)\n",
    "\n",
    "survey_map"
   ]
  },
  {
   "cell_type": "markdown",
   "metadata": {},
   "source": [
    "# Neighborhood features"
   ]
  },
  {
   "cell_type": "code",
   "execution_count": 3,
   "metadata": {
    "collapsed": false
   },
   "outputs": [],
   "source": [
    "feature_map = ll.Map(center=[37.7749, -122.34580993652344], zoom=12, layout=widgets.Layout(height='450px'))\n",
    "tract_data = pd.read_csv('./../data/CensusData/sfo data/tract_data_normalized.csv')\n",
    "colors = data_to_colors(tract_data['pct_bachelors'], colormap=mpl.cm.Reds)\n",
    "tracts = [str(int(i)) for i in tract_data.ix[:, 0].values]\n",
    "\n",
    "cols = {}\n",
    "for i in range(len(tracts)):\n",
    "    cols[tracts[i][4:]] = colors[i]\n",
    "\n",
    "with open('./../mapdata/sf_tracts.geojson') as f:\n",
    "    data = json.load(f)\n",
    "for feature in data['features']:\n",
    "    try:\n",
    "        style_col = cols[feature['properties']['tractce10']]\n",
    "    except KeyError:\n",
    "        style_col = 'Grey'\n",
    "    feature['properties']['style'] = {\n",
    "        'color': style_col,\n",
    "        'weight': 1,\n",
    "        'fillColor': style_col,\n",
    "        'fillOpacity': 0.75,\n",
    "    }\n",
    "\n",
    "feature_layer = ll.GeoJSON(data=data)\n",
    "feature_map += feature_layer\n",
    "data_columns = [\n",
    "      'pct_bachelors',\n",
    "      'labor_part_rate',\n",
    "      'pct_welfare',\n",
    "      'low_pov_idx',\n",
    "      'labor_idx',\n",
    "      'env_health_idx',\n",
    "      'hispanic',\n",
    "      'white',\n",
    "      'black',\n",
    "      'american_indian',\n",
    "      'asian',\n",
    "      'pac_islander',\n",
    "      'other_races',\n",
    "      'two_races',\n",
    "      'housing_cost',\n",
    "      'transportation_cost',\n",
    "      'pub_school_score',\n",
    "      'pr_school_score',\n",
    "      'rest_score',\n",
    "      'rest_proximity']\n",
    "\n",
    "dpdown = widgets.Dropdown(options=data_columns, value='pct_bachelors')\n",
    "\n",
    "def update_dpdown(change):\n",
    "    value = change['new']\n",
    "    colors = data_to_colors(tract_data[value], colormap=mpl.cm.Reds)\n",
    "    cols = {}\n",
    "    for i in range(len(tracts)):\n",
    "        cols[tracts[i][4:]] = colors[i]\n",
    "    for feature in data['features']:\n",
    "        try:\n",
    "            style_col = cols[feature['properties']['tractce10']]\n",
    "        except KeyError:\n",
    "            style_col = 'grey'\n",
    "        feature['properties']['style'] = {\n",
    "            'color': style_col,\n",
    "            'weight': 1,\n",
    "            'fillColor': style_col,\n",
    "            'fillOpacity': 0.75,\n",
    "        }\n",
    "        \n",
    "    feature_layer = ll.GeoJSON(data=data)\n",
    "    \n",
    "    feature_map.layers = [feature_map.layers[0], feature_layer]\n",
    "    \n",
    "dpdown.observe(update_dpdown, names=['value'])\n",
    "\n",
    "feature_map.layout.align_self = 'stretch'\n",
    "display(widgets.VBox([feature_map, dpdown]))"
   ]
  },
  {
   "cell_type": "markdown",
   "metadata": {},
   "source": [
    "# From the Features to the Satisfaction Index"
   ]
  },
  {
   "cell_type": "code",
   "execution_count": null,
   "metadata": {
    "collapsed": true
   },
   "outputs": [],
   "source": [
    "survey_layer . \n",
    "survey_map"
   ]
  },
  {
   "cell_type": "code",
   "execution_count": null,
   "metadata": {
    "collapsed": true
   },
   "outputs": [],
   "source": []
  },
  {
   "cell_type": "code",
   "execution_count": null,
   "metadata": {
    "collapsed": true
   },
   "outputs": [],
   "source": []
  },
  {
   "cell_type": "code",
   "execution_count": null,
   "metadata": {
    "collapsed": true
   },
   "outputs": [],
   "source": []
  },
  {
   "cell_type": "code",
   "execution_count": null,
   "metadata": {
    "collapsed": true
   },
   "outputs": [],
   "source": []
  }
 ],
 "metadata": {
  "kernelspec": {
   "display_name": "Python 2",
   "language": "python",
   "name": "python2"
  },
  "language_info": {
   "codemirror_mode": {
    "name": "ipython",
    "version": 2
   },
   "file_extension": ".py",
   "mimetype": "text/x-python",
   "name": "python",
   "nbconvert_exporter": "python",
   "pygments_lexer": "ipython2",
   "version": "2.7.11"
  },
  "widgets": {
   "state": {
    "0052db189d124714aab9cbc9da6a10c6": {
     "views": []
    },
    "05704a34660943c39265a627afd2f5f1": {
     "views": []
    },
    "07acfa5a8eb84e3bba53398c002ade3c": {
     "views": []
    },
    "0853d222a9b94e5d970b6dc7bc75e50b": {
     "views": []
    },
    "0da642b14b5845b986341e5fcc351afc": {
     "views": []
    },
    "0ed92d345a76400d9f5c0383c095e67e": {
     "views": []
    },
    "11128e9ca10c4a43b74da23fe575602f": {
     "views": []
    },
    "1172a79388bf4dbcbcddaa0bea46e04e": {
     "views": []
    },
    "11b682480286402f8a3ea3090107f628": {
     "views": []
    },
    "141580fa1f924c7c98abaa44f052b4ca": {
     "views": []
    },
    "176762995c76435a8feef57e0e6d07fc": {
     "views": []
    },
    "17ec4d9c6fa94e56ba0c94f335d9310f": {
     "views": []
    },
    "191acaa9136e4c7ea24eb889991e1863": {
     "views": []
    },
    "1a1bd1661eb94c57a37cc01b563679e7": {
     "views": []
    },
    "1b666dbc4bb640b6a64da0b8f111d75f": {
     "views": []
    },
    "1b85ccfb7e734971b4b9d36ecd2024ce": {
     "views": []
    },
    "1c5f1756af38448b8eeef7391a9545cf": {
     "views": []
    },
    "1e804ca97f1d4db0ad67320eb4be4c21": {
     "views": []
    },
    "1e97113d446c4a7abbc83dec1528b09f": {
     "views": []
    },
    "2232100cddd74335bcf394e9175e7e94": {
     "views": []
    },
    "234fa66232f0475ca53766fa9cc5a364": {
     "views": []
    },
    "275427d9d7b64f8bb217e95c29ff061d": {
     "views": []
    },
    "28cc0cd0d4104a9cae9dfe5d5672b8f6": {
     "views": []
    },
    "2a46fc9e93e24986bba94108de3a1785": {
     "views": []
    },
    "2b0040d3b386403f87337edad5124147": {
     "views": []
    },
    "2f706e79eb0b4876afd357ee5bbc84c8": {
     "views": [
      {
       "cell_index": 4
      }
     ]
    },
    "300dfccd3c2748519f4898737eb9dad6": {
     "views": []
    },
    "316a68dce9ab4b94bb34c5f6fafcc8ca": {
     "views": []
    },
    "3b2b6ed8c52e4de8b62b8cc48bcd74b0": {
     "views": []
    },
    "3d137995417c4062a5e88b8b86b797c1": {
     "views": []
    },
    "432f727fafac4b388fcad51d2aad7b2c": {
     "views": []
    },
    "448b561a53b441c6906bce2d4baf701b": {
     "views": []
    },
    "44989cef0a0441ab8bb8aec93c48df48": {
     "views": []
    },
    "459f62b7be9249c8affd17470734d608": {
     "views": []
    },
    "46adb51ca52b457cbfe06e2e94d09846": {
     "views": []
    },
    "485aa333e272472f9914213d52f5ec13": {
     "views": []
    },
    "48a806f0538e4aabb9bd1608f90e7bb6": {
     "views": []
    },
    "499355bdf34144f19a6a8af7be44ee7d": {
     "views": []
    },
    "4b3f5096f9b448a4bb2d45190a94e612": {
     "views": []
    },
    "4ce12cca766940cab2d79c4a859b1801": {
     "views": []
    },
    "4efa6770bf6b43abb5a4ea1a0133f86d": {
     "views": []
    },
    "5025906dc0ed4bfd923d9421bd8a1f45": {
     "views": []
    },
    "50c13cb118de45e7a04a7410f70ff36a": {
     "views": []
    },
    "531fa57b582748ed8fc3d4bbb91765c0": {
     "views": []
    },
    "53381db5c4ad4a8aa785fa943570083b": {
     "views": []
    },
    "53fa08cffa504a449ffde23cb9b9b3c5": {
     "views": []
    },
    "5b75f65176d14f7686d15cf6c5898936": {
     "views": []
    },
    "5bd53a9737cb4933ba2c9447fe3cb2a8": {
     "views": []
    },
    "5e3c00d1057a41f6aaf5ab6c73dbc124": {
     "views": []
    },
    "5e5790f8c9c9408a90eda92967c3aad9": {
     "views": []
    },
    "5e5d9c2f3932443fbabe25abbb747b7b": {
     "views": []
    },
    "5e9ea11691f24fb59fd3f7baf7e30372": {
     "views": []
    },
    "5eb17b3280e34ce79e1e4aee81a4fe06": {
     "views": []
    },
    "5f0ea0f59b334d7e9fdb4284beec3099": {
     "views": []
    },
    "5f19f98e98724b7ab415f62b7f09869c": {
     "views": []
    },
    "5f321cc585624884a65bd800b796e54f": {
     "views": []
    },
    "605962a294c342868c4c4af3079e4abe": {
     "views": []
    },
    "60af63e550e74bc6b1d4262d2cbb675b": {
     "views": []
    },
    "60fa287bcc2b4de0b59f8ae5775e87b4": {
     "views": []
    },
    "6435a9c8b3da40cc8fbd8531fb85ab88": {
     "views": []
    },
    "65d9ba180f96416db82af2cc16d22436": {
     "views": []
    },
    "6947a0ad725f4587b73721695721feb9": {
     "views": []
    },
    "6a331413f32d4985abb4f4f7703884ea": {
     "views": []
    },
    "6afa69ce6e3149078711e75c4ca9ac56": {
     "views": []
    },
    "6bcada1485174e839994b05ea39507bc": {
     "views": []
    },
    "6c55b0f7b44d45738da8c39916103032": {
     "views": []
    },
    "6e9c687f7d8b4d18a717a1031e434c2d": {
     "views": []
    },
    "751d6009b2514f71a239a9a68655f482": {
     "views": []
    },
    "761223d224ba4e1c8e8299738fef5d50": {
     "views": []
    },
    "79c8415c64b94134ac418c7a20416f5f": {
     "views": []
    },
    "7b6827bf446d4ebcaacfaaf27a36ef76": {
     "views": []
    },
    "7bffa7c5fdf34a9b81e888e41ea7b0a3": {
     "views": []
    },
    "7ed8b9087f574ed080eaba13acb786e6": {
     "views": []
    },
    "7f53a6a4c7114df69356e7ccf4a5f68a": {
     "views": []
    },
    "81ce011a864c446baf5a41199b9a22d3": {
     "views": []
    },
    "830119d5282447109aaf90a163aa9a2b": {
     "views": []
    },
    "837afa90285e418788d238335cbc7a4f": {
     "views": []
    },
    "88c54146ebae4af98c0346ad071a303f": {
     "views": []
    },
    "8c61b3d18e6b4ba9bf27473ccb37d774": {
     "views": []
    },
    "8e85fd6d010943f284686556add46833": {
     "views": []
    },
    "900dad5a9bf340dcb66ffb63c429c3ae": {
     "views": []
    },
    "91b3f5b4a75d404ab10cb90f48656e1a": {
     "views": []
    },
    "92494bb2ae444a68a7653e44c0230d9d": {
     "views": []
    },
    "92b7ab6a5def43b2a629f44b06f392e0": {
     "views": []
    },
    "932f38d15ae14a85b797b5a7d34a9e4c": {
     "views": []
    },
    "9753f662955b4705aab5c51e5244ae5f": {
     "views": []
    },
    "9c0876512867441787d2b71bc6ef7a95": {
     "views": []
    },
    "9c42d4ba760e4cc9b693967bd670edd2": {
     "views": []
    },
    "9c52c03630ba4e86b0153a19ab6ddd24": {
     "views": []
    },
    "9d101f0f79de4d08808b1cda229baa5a": {
     "views": []
    },
    "9d511d551f9c4363b458d96258daa281": {
     "views": []
    },
    "a05219528ddf4df79dfa7c8485d0abd6": {
     "views": []
    },
    "a176b8165a42438e9d61b8bfad5c8ec8": {
     "views": []
    },
    "a3d09f74cf1b41fe81a593b581c54d00": {
     "views": []
    },
    "a4de62fa7c9441688a523907760f1d34": {
     "views": []
    },
    "a89b9cea6740445d862e803cc7191674": {
     "views": []
    },
    "abab37ee564c4e65943377646f6c4f4a": {
     "views": []
    },
    "acd0e5c35fe04a939e63355c5897e51d": {
     "views": []
    },
    "ad3a0e52eec942cb867c6f4c65e4a1c3": {
     "views": []
    },
    "ad6540a7a5094d43b46abb5606dad8f9": {
     "views": []
    },
    "adc77d3dff2644c2b4bc106d4753fd8f": {
     "views": []
    },
    "adfbe36c05d941da81967e6582251d9f": {
     "views": []
    },
    "b19a3efe306e43de8d499f7aad377bfb": {
     "views": []
    },
    "b27245d090964b9e970956fdddf55ecc": {
     "views": []
    },
    "b2c138ec59c048b191b2f56a6bce3324": {
     "views": []
    },
    "b441f2e987094edeaa68fe407cbbe04d": {
     "views": []
    },
    "b636f7aa7f7e4436bf092fbd7dc8b295": {
     "views": []
    },
    "b65c74f0ab8642849686d10a57b9db31": {
     "views": []
    },
    "b91a70a2ce8c4761930039d526dadc4f": {
     "views": []
    },
    "ba951c7779e9485fab6f42bfd25cf3b6": {
     "views": []
    },
    "bb1489a5ef09460fbfeaabe8ad54f653": {
     "views": []
    },
    "bb671fbc4654484e9903c2f0c56aa8cb": {
     "views": []
    },
    "bd7a34add4d546169726b43bea0dc717": {
     "views": []
    },
    "bf38dd08741e46c788dca667e7c67650": {
     "views": []
    },
    "bfd4d2e9e0704768834541ffcaec8dd5": {
     "views": []
    },
    "c2a25b5017464d1284e3d76513e29847": {
     "views": []
    },
    "c3a481b90bbf44cf8517e15384852e3c": {
     "views": []
    },
    "cba382ab638a481891dc476baf200204": {
     "views": []
    },
    "cdb8d56ff2f44d3795961cb44d89137a": {
     "views": []
    },
    "cdd602cbd5eb468499a98afdc23167cb": {
     "views": []
    },
    "ce7fc560d4c24d8c8644a01ed08a3c4c": {
     "views": []
    },
    "cec67036727e4cff9c44290c852ea4b2": {
     "views": []
    },
    "cf5714bc4c974e0db0a1b40d09db86cb": {
     "views": []
    },
    "d03134fbe10f4b67acc96f32a39c6c5f": {
     "views": []
    },
    "d0be821eb7f5465fb6832a433599b444": {
     "views": []
    },
    "d1ebca17689b4e3db6142115ff5ef077": {
     "views": []
    },
    "d22931008c7a41ec85a73bdb22ee52e1": {
     "views": []
    },
    "d4067b6962f54ad7a71550e6e2e784d6": {
     "views": []
    },
    "d41b5de8ec2542cbb33b8c64e1918404": {
     "views": []
    },
    "d5b1eba0932645bb838a873b44115e02": {
     "views": []
    },
    "d70d637a82904c52bb0188e7a6247015": {
     "views": []
    },
    "dcd8a448a24444688cff392698c7124b": {
     "views": []
    },
    "ddb0d5ffd13a41339a607b77dcdd223e": {
     "views": []
    },
    "ddc161aa63054fc3b52edbfc213aca7a": {
     "views": []
    },
    "de7548b4b17c4d508954087a3cc0e5ff": {
     "views": []
    },
    "df37675648d14669acb16561d12de3a9": {
     "views": []
    },
    "dfd8ed250e9349559e905af08eb03219": {
     "views": []
    },
    "e0bb1ddf743a47078a28dc4f08db2cad": {
     "views": []
    },
    "e14418d75d9940feb4a838ad929c2ccf": {
     "views": []
    },
    "e182ca05e6044a8297d3b84089b53a7f": {
     "views": []
    },
    "e5015fe3a3024cda84e9a27fb4054962": {
     "views": []
    },
    "e62c0eb29f0547969eddbe5de76181e8": {
     "views": []
    },
    "e69e60810acf46a0b92b7df1aaf68d40": {
     "views": []
    },
    "e79a563ffea24b66b5e9cca7e6ed39c7": {
     "views": []
    },
    "e82a3867118d413c956aab69b8ad34da": {
     "views": []
    },
    "e858728981e2415d98d9f3007dcfb379": {
     "views": []
    },
    "e89fde4ac4bf4be190c383ca5018af86": {
     "views": [
      {
       "cell_index": 2
      }
     ]
    },
    "e9070629737342a2ab47a604618f4bf1": {
     "views": []
    },
    "eae909e6657f44e0a7743483e93c3a70": {
     "views": []
    },
    "f3b27175274c454ea55256fa7f350cbf": {
     "views": []
    },
    "f73beda6e790432c88b9d876ecf07a27": {
     "views": []
    },
    "fae22213e2f94c27b690e399d29ce106": {
     "views": []
    },
    "fb9ce0408d2f4a18b623b37281a908e1": {
     "views": []
    },
    "fe44ac25fbc941398b3b867a7a3a3c8e": {
     "views": []
    }
   },
   "version": "1.0.0"
  }
 },
 "nbformat": 4,
 "nbformat_minor": 1
}
