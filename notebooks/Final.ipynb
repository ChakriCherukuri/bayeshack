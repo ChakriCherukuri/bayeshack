{
 "cells": [
  {
   "cell_type": "code",
   "execution_count": null,
   "metadata": {
    "collapsed": true
   },
   "outputs": [],
   "source": [
    "from __future__ import print_function\n",
    "\n",
    "# Jupyter display\n",
    "from IPython.display import display\n",
    "\n",
    "# json\n",
    "import json\n",
    "\n",
    "# widgets\n",
    "import ipywidgets as widgets\n",
    "import bqplot as bq\n",
    "import ipyleaflet as ll\n",
    "\n",
    "# numerics\n",
    "import pandas as pd\n",
    "import numpy as np\n",
    "\n",
    "# colormap\n",
    "import matplotlib as mpl\n",
    "import matplotlib.cm\n",
    "import matplotlib.colors\n",
    "\n",
    "def n_colors(n, colormap=mpl.cm.Blues):\n",
    "    data = np.linspace(0.0,1.0,n)\n",
    "    c = [mpl.colors.rgb2hex(d[0:3]) for d in colormap(data)]\n",
    "    return c\n",
    "\n",
    "def data_to_colors(data, colormap=mpl.cm.plasma):\n",
    "    c = [mpl.colors.rgb2hex(d[0:3]) for d in colormap(mpl.colors.Normalize()(data))]\n",
    "    return c"
   ]
  },
  {
   "cell_type": "markdown",
   "metadata": {},
   "source": [
    "# Correlation Matrix for the Scores"
   ]
  },
  {
   "cell_type": "code",
   "execution_count": null,
   "metadata": {
    "collapsed": true
   },
   "outputs": [],
   "source": [
    "data = pd.read_csv('./../analysis_data/other_race_corrected_merged_data.csv')\n",
    "data = data.ix[:, 2:]\n",
    "\n",
    "corr_data = data.corr()"
   ]
  },
  {
   "cell_type": "code",
   "execution_count": null,
   "metadata": {
    "collapsed": false
   },
   "outputs": [],
   "source": [
    "y_sc, col_sc = bq.OrdinalScale(reverse=True), bq.ColorScale(scheme='Reds')\n",
    "ax_c = bq.ColorAxis(scale=col_sc, label='Correlations')\n",
    "grid_map = bq.GridHeatMap(row=corr_data.columns.tolist(), color=corr_data, scales={'row': y_sc, 'color': col_sc})\n",
    "ax_y = bq.Axis(scale=y_sc, orientation='vertical', side='right')\n",
    "\n",
    "fig = bq.Figure(marks=[grid_map], axes=[ax_y, ax_c], padding_y=0.0, \n",
    "             fig_margin={'bottom': 60, 'left': 5, 'right': 110, 'top': 60})\n",
    "display(fig)"
   ]
  },
  {
   "cell_type": "markdown",
   "metadata": {},
   "source": [
    "# Satisfaction Score by ZIP Code"
   ]
  },
  {
   "cell_type": "code",
   "execution_count": null,
   "metadata": {
    "collapsed": false
   },
   "outputs": [],
   "source": [
    "survey_map = ll.Map(center=[37.7749, -122.34580993652344], zoom=12, layout=widgets.Layout(height='450px'))\n",
    "\n",
    "survey_data = pd.read_csv('./../analysis_data/scores_by_zipcodes.csv', header=None)\n",
    "survey_colors = data_to_colors(survey_data.ix[:, 1], colormap=mpl.cm.Greens)\n",
    "zips = [str(int(i)) for i in survey_data.ix[:, 0]]\n",
    "cols = {}\n",
    "\n",
    "for i in range(len(zips)):\n",
    "    cols[zips[i]] = survey_colors[i]\n",
    "\n",
    "# Survey layer\n",
    "with open('./../mapdata/sf_zipcodes.geojson') as f:\n",
    "    data = json.load(f)\n",
    "\n",
    "for feature in data['features']:\n",
    "    feature['properties']['style'] = {\n",
    "        'color': cols[feature['id']],\n",
    "        'weight': 1,\n",
    "        'fillColor': cols[feature['id']],\n",
    "        'fillOpacity': 0.65,\n",
    "    }\n",
    "\n",
    "survey_layer = ll.GeoJSON(data=data, hover_style={'fillColor': 'red'})\n",
    "survey_map += survey_layer\n",
    "\n",
    "with open('./../mapdata/bayarea_nosf_zipcodes.geojson') as f:\n",
    "    bay_data = json.load(f)\n",
    "    \n",
    "# Grey layer\n",
    "grey_colors = n_colors(len(bay_data['features']), colormap=mpl.cm.Greys)\n",
    "\n",
    "for feature, color in zip(bay_data['features'], grey_colors):\n",
    "    feature['properties']['style'] = {\n",
    "        'color': 'grey',\n",
    "        'weight': 1,\n",
    "        'fillColor': 'grey',\n",
    "        'fillOpacity': 0.2\n",
    "    }\n",
    "\n",
    "grey_layer = ll.GeoJSON(data=bay_data, hover_style={'fillColor': 'red'})\n",
    "\n",
    "survey_map.add_layer(grey_layer)\n",
    "\n",
    "survey_map"
   ]
  },
  {
   "cell_type": "markdown",
   "metadata": {},
   "source": [
    "# Neighborhood features"
   ]
  },
  {
   "cell_type": "code",
   "execution_count": null,
   "metadata": {
    "collapsed": false
   },
   "outputs": [],
   "source": [
    "feature_map = ll.Map(center=[37.7749, -122.34580993652344], zoom=12, layout=widgets.Layout(height='450px'))\n",
    "tract_data = pd.read_csv('./../data/CensusData/sfo data/tract_data_normalized.csv')\n",
    "colors = data_to_colors(tract_data['pct_bachelors'], colormap=mpl.cm.Reds)\n",
    "tracts = [str(int(i)) for i in tract_data.ix[:, 0].values]\n",
    "\n",
    "cols = {}\n",
    "for i in range(len(tracts)):\n",
    "    cols[tracts[i][4:]] = colors[i]\n",
    "\n",
    "with open('./../mapdata/sf_tracts.geojson') as f:\n",
    "    data = json.load(f)\n",
    "for feature in data['features']:\n",
    "    try:\n",
    "        style_col = cols[feature['properties']['tractce10']]\n",
    "    except KeyError:\n",
    "        style_col = 'Grey'\n",
    "    feature['properties']['style'] = {\n",
    "        'color': style_col,\n",
    "        'weight': 1,\n",
    "        'fillColor': style_col,\n",
    "        'fillOpacity': 0.75,\n",
    "    }\n",
    "\n",
    "feature_layer = ll.GeoJSON(data=data)\n",
    "feature_map += feature_layer\n",
    "\n",
    "data_columns = [\n",
    "      'pct_bachelors',\n",
    "      'labor_part_rate',\n",
    "      'pct_welfare',\n",
    "      'low_pov_idx',\n",
    "      'labor_idx',\n",
    "      'env_health_idx',\n",
    "      'hispanic',\n",
    "      'white',\n",
    "      'black',\n",
    "      'american_indian',\n",
    "      'asian',\n",
    "      'pac_islander',\n",
    "      'other_races',\n",
    "      'two_races',\n",
    "      'housing_cost',\n",
    "      'transportation_cost',\n",
    "      'pub_school_score',\n",
    "      'pr_school_score',\n",
    "      'rest_score',\n",
    "      'rest_proximity']\n",
    "\n",
    "dpdown = widgets.Dropdown(options=data_columns, value='pct_bachelors')\n",
    "\n",
    "def update_dpdown(change):\n",
    "    value = change['new']\n",
    "    colors = data_to_colors(tract_data[value], colormap=mpl.cm.Reds)\n",
    "    cols = {}\n",
    "    for i in range(len(tracts)):\n",
    "        cols[tracts[i][4:]] = colors[i]\n",
    "    for feature in data['features']:\n",
    "        try:\n",
    "            style_col = cols[feature['properties']['tractce10']]\n",
    "        except KeyError:\n",
    "            style_col = 'grey'\n",
    "        feature['properties']['style'] = {\n",
    "            'color': style_col,\n",
    "            'weight': 1,\n",
    "            'fillColor': style_col,\n",
    "            'fillOpacity': 0.75,\n",
    "        }\n",
    "        \n",
    "    feature_layer = ll.GeoJSON(data=data)\n",
    "    \n",
    "    feature_map.layers = [feature_map.layers[0], feature_layer]\n",
    "    \n",
    "dpdown.observe(update_dpdown, names=['value'])\n",
    "\n",
    "feature_map.layout.align_self = 'stretch'\n",
    "display(widgets.VBox([feature_map, dpdown]))"
   ]
  },
  {
   "cell_type": "markdown",
   "metadata": {},
   "source": [
    "# From the Features to the Satisfaction Index"
   ]
  },
  {
   "cell_type": "code",
   "execution_count": null,
   "metadata": {
    "collapsed": false
   },
   "outputs": [],
   "source": [
    "ordinal_features_scale = bq.OrdinalScale()\n",
    "values_features_scale = bq.LinearScale()\n",
    "value_axis = bq.Axis(scale=values_features_scale, orientation='vertical')\n",
    "\n",
    "bars = bq.Bars(x=data_columns, y=np.zeros(len(data_columns)), \n",
    "               scales={\n",
    "        'x': ordinal_features_scale,\n",
    "        'y': values_features_scale\n",
    "    })\n",
    "\n",
    "indication = bq.Label(x=0.9, y=0.5, text='Hover On Map', font_size='50px', color='gray')\n",
    "\n",
    "ui_map = ll.Map(center=[37.7449, -122.42580993652344], zoom=11, layout=widgets.Layout(width='450px', height='450px'))\n",
    "ui_map.add_layer(survey_layer)\n",
    "ui_map.add_layer(grey_layer)\n",
    "\n",
    "predictors = pd.read_csv('./../analysis_data/predictors.csv').set_index('zip code')\n",
    "\n",
    "def scores(zip_code):\n",
    "    if zip_code in predictors.index:\n",
    "        dic = predictors.ix[zip_code].to_dict()\n",
    "        return [dic[v] for v in data_columns]\n",
    "    else:\n",
    "        return np.zeros(len(data_columns))\n",
    "\n",
    "def hover_handler(event=None, id=None, properties=None):\n",
    "    figure.marks = [bars]\n",
    "    bars.y = scores(int(id))\n",
    "\n",
    "survey_layer.on_hover(hover_handler)\n",
    "\n",
    "figure = bq.Figure(axes=[value_axis], marks=[bars, indication],\n",
    "                   title='Predictors',\n",
    "                   animation_duration=500, min_width=300, min_height=500)\n",
    "\n",
    "\n",
    "widgets.HBox([ui_map, figure])"
   ]
  },
  {
   "cell_type": "code",
   "execution_count": null,
   "metadata": {
    "collapsed": true
   },
   "outputs": [],
   "source": []
  },
  {
   "cell_type": "code",
   "execution_count": null,
   "metadata": {
    "collapsed": true
   },
   "outputs": [],
   "source": []
  }
 ],
 "metadata": {
  "kernelspec": {
   "display_name": "Python 3",
   "language": "python",
   "name": "python3"
  },
  "language_info": {
   "codemirror_mode": {
    "name": "ipython",
    "version": 3
   },
   "file_extension": ".py",
   "mimetype": "text/x-python",
   "name": "python",
   "nbconvert_exporter": "python",
   "pygments_lexer": "ipython3",
   "version": "3.4.4"
  },
  "widgets": {
   "state": {
    "116520403a994679b824f303ebc1c254": {
     "views": []
    },
    "20774f1d7f8a49f8a4f700edc231ddfe": {
     "views": []
    },
    "211711043a7845c2933d3d3656b53f80": {
     "views": []
    },
    "28feaac5763340609a82249d04d275c4": {
     "views": []
    },
    "329569ca84bb469193eb8d2bd18e59fa": {
     "views": []
    },
    "34c8ac0ccb6d4d818dd7b037d524be55": {
     "views": []
    },
    "414666f0bfdc46518beb835651ef5bf9": {
     "views": []
    },
    "48658be954e34df78efbc883fb2d0bf1": {
     "views": []
    },
    "4beb43001bfe4a8ebb72ac8b1e233e93": {
     "views": []
    },
    "55cd9f574e10451e8ac832aaa322b721": {
     "views": []
    },
    "6292c3702dd64ce79eadc33032a4f193": {
     "views": []
    },
    "65af1eadf121488093d38e8f50963bc4": {
     "views": []
    },
    "6de36d3e99814a25af0c2d9c2722a79a": {
     "views": []
    },
    "73f37b7654ce4a59a45c4752ad2edb27": {
     "views": []
    },
    "763b890581f14fb28fc298f82395248f": {
     "views": []
    },
    "7c6d431788044532815c5974e8e33ca8": {
     "views": [
      {
       "cell": {
        "cell_type": "code",
        "execution_count": null,
        "metadata": {
         "collapsed": false,
         "trusted": true
        },
        "outputs": [],
        "source": "y_sc, col_sc = bq.OrdinalScale(reverse=True), bq.ColorScale(scheme='Reds')\nax_c = bq.ColorAxis(scale=col_sc, label='Correlations')\ngrid_map = bq.GridHeatMap(row=corr_data.columns.tolist(), color=corr_data, scales={'row': y_sc, 'color': col_sc})\nax_y = bq.Axis(scale=y_sc, orientation='vertical', side='right')\n\nfig = bq.Figure(marks=[grid_map], axes=[ax_y, ax_c], padding_y=0.0, \n             fig_margin={'bottom': 60, 'left': 5, 'right': 110, 'top': 60})\ndisplay(fig)"
       },
       "cell_index": 3,
       "root": true
      }
     ]
    },
    "7f592501b57b4893ad91610bae919638": {
     "views": []
    },
    "84ccf2b605f248d49e8627db0980f2a5": {
     "views": []
    },
    "8deaf433310a4b458709c0b6449de8b3": {
     "views": []
    },
    "9117f9e8af0f4575879735c06bec4e24": {
     "views": []
    },
    "9430ac027b9b4427bf4f68c1a0b8e934": {
     "views": []
    },
    "9e94db3059e94446960559c3c4ab94d7": {
     "views": []
    },
    "a41e7ba556c843f9ab136fead8cacbb7": {
     "views": []
    },
    "aee1e02bb90148a5b94afcc0cac2dad4": {
     "views": []
    },
    "b5cef906c49d4109bb6d2c8babaac207": {
     "views": []
    },
    "c34107b98f064467be43f26047ae2a7d": {
     "views": []
    },
    "c5621b84b1a346e489cd12dcdf395832": {
     "views": []
    },
    "c8d4288e69974e9a9398f2734b8160cd": {
     "views": []
    },
    "ca6fb77d2440423a9c26c0d7de61d103": {
     "views": []
    },
    "da2d1ccad76b49ca846eb69fb41fd280": {
     "views": []
    },
    "dec603632b6d4effad866da2dd9e123b": {
     "views": []
    },
    "e0c072899a9642dc9ac12d9462af77b2": {
     "views": []
    },
    "e2232f7f01e343fcad0c8c04b654b93f": {
     "views": []
    },
    "e9263035a9984a91a08556ce79da448d": {
     "views": []
    },
    "ea05f79c6bf8419d86ef3ca6826bf262": {
     "views": []
    },
    "ea6ff4a3d16242a6a074e8b94ef0ee31": {
     "views": []
    },
    "f373917019ec440c9b9a8c4f51252578": {
     "views": []
    },
    "f90c05643aee4011849c47c27da516a5": {
     "views": []
    }
   },
   "version": "1.0.0"
  }
 },
 "nbformat": 4,
 "nbformat_minor": 1
}
