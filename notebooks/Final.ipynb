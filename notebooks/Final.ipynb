{
 "cells": [
  {
   "cell_type": "code",
   "execution_count": 5,
   "metadata": {
    "collapsed": true
   },
   "outputs": [],
   "source": [
    "from __future__ import print_function\n",
    "\n",
    "# Jupyter display\n",
    "from IPython.display import display\n",
    "\n",
    "# json\n",
    "import json\n",
    "\n",
    "# widgets\n",
    "import ipywidgets as widgets\n",
    "import bqplot as bq\n",
    "import ipyleaflet as ll\n",
    "\n",
    "# numerics\n",
    "import pandas as pd\n",
    "import numpy as np\n",
    "\n",
    "# colormap\n",
    "import matplotlib as mpl\n",
    "import matplotlib.cm\n",
    "import matplotlib.colors\n",
    "\n",
    "def n_colors(n, colormap=mpl.cm.Blues):\n",
    "    data = np.linspace(0.0,1.0,n)\n",
    "    c = [mpl.colors.rgb2hex(d[0:3]) for d in colormap(data)]\n",
    "    return c\n",
    "\n",
    "def data_to_colors(data, colormap=mpl.cm.plasma):\n",
    "    c = [mpl.colors.rgb2hex(d[0:3]) for d in colormap(mpl.colors.Normalize()(data))]\n",
    "    return c"
   ]
  },
  {
   "cell_type": "markdown",
   "metadata": {},
   "source": [
    "# Satisfaction Score by ZIP Code"
   ]
  },
  {
   "cell_type": "code",
   "execution_count": 6,
   "metadata": {
    "collapsed": false
   },
   "outputs": [],
   "source": [
    "survey_map = ll.Map(center=[37.7749, -122.34580993652344], zoom=12, layout=widgets.Layout(height='450px'))\n",
    "\n",
    "survey_data = pd.read_csv('./../analysis_data/scores_by_zipcodes.csv', header=None)\n",
    "survey_colors = data_to_colors(survey_data.ix[:, 1], colormap=mpl.cm.Greens)\n",
    "zips = [str(int(i)) for i in survey_data.ix[:, 0]]\n",
    "cols = {}\n",
    "\n",
    "for i in range(len(zips)):\n",
    "    cols[zips[i]] = survey_colors[i]\n",
    "\n",
    "# Survey layer\n",
    "with open('./../mapdata/sf_zipcodes.geojson') as f:\n",
    "    data = json.load(f)\n",
    "\n",
    "for feature in data['features']:\n",
    "    feature['properties']['style'] = {\n",
    "        'color': cols[feature['id']],\n",
    "        'weight': 1,\n",
    "        'fillColor': cols[feature['id']],\n",
    "        'fillOpacity': 0.65,\n",
    "    }\n",
    "\n",
    "survey_layer = ll.GeoJSON(data=data, hover_style={'fillColor': 'red'})\n",
    "survey_map += survey_layer\n",
    "\n",
    "with open('./../mapdata/bayarea_nosf_zipcodes.geojson') as f:\n",
    "    bay_data = json.load(f)\n",
    "    \n",
    "# Grey layer\n",
    "grey_colors = n_colors(len(bay_data['features']), colormap=mpl.cm.Greys)\n",
    "\n",
    "for feature, color in zip(bay_data['features'], grey_colors):\n",
    "    feature['properties']['style'] = {\n",
    "        'color': 'grey',\n",
    "        'weight': 1,\n",
    "        'fillColor': 'grey',\n",
    "        'fillOpacity': 0.2\n",
    "    }\n",
    "\n",
    "grey_layer = ll.GeoJSON(data=bay_data, hover_style={'fillColor': 'red'})\n",
    "\n",
    "survey_map.add_layer(grey_layer)\n",
    "\n",
    "survey_map"
   ]
  },
  {
   "cell_type": "markdown",
   "metadata": {},
   "source": [
    "# Neighborhood features"
   ]
  },
  {
   "cell_type": "code",
   "execution_count": 7,
   "metadata": {
    "collapsed": false
   },
   "outputs": [],
   "source": [
    "feature_map = ll.Map(center=[37.7749, -122.34580993652344], zoom=12, layout=widgets.Layout(height='450px'))\n",
    "tract_data = pd.read_csv('./../data/CensusData/sfo data/tract_data_normalized.csv')\n",
    "colors = data_to_colors(tract_data['pct_bachelors'], colormap=mpl.cm.Reds)\n",
    "tracts = [str(int(i)) for i in tract_data.ix[:, 0].values]\n",
    "\n",
    "cols = {}\n",
    "for i in range(len(tracts)):\n",
    "    cols[tracts[i][4:]] = colors[i]\n",
    "\n",
    "with open('./../mapdata/sf_tracts.geojson') as f:\n",
    "    data = json.load(f)\n",
    "for feature in data['features']:\n",
    "    try:\n",
    "        style_col = cols[feature['properties']['tractce10']]\n",
    "    except KeyError:\n",
    "        style_col = 'Grey'\n",
    "    feature['properties']['style'] = {\n",
    "        'color': style_col,\n",
    "        'weight': 1,\n",
    "        'fillColor': style_col,\n",
    "        'fillOpacity': 0.75,\n",
    "    }\n",
    "\n",
    "feature_layer = ll.GeoJSON(data=data)\n",
    "feature_map += feature_layer\n",
    "\n",
    "data_columns = [\n",
    "      'pct_bachelors',\n",
    "      'labor_part_rate',\n",
    "      'pct_welfare',\n",
    "      'low_pov_idx',\n",
    "      'labor_idx',\n",
    "      'env_health_idx',\n",
    "      'hispanic',\n",
    "      'white',\n",
    "      'black',\n",
    "      'american_indian',\n",
    "      'asian',\n",
    "      'pac_islander',\n",
    "      'other_races',\n",
    "      'two_races',\n",
    "      'housing_cost',\n",
    "      'transportation_cost',\n",
    "      'pub_school_score',\n",
    "      'pr_school_score',\n",
    "      'rest_score',\n",
    "      'rest_proximity']\n",
    "\n",
    "dpdown = widgets.Dropdown(options=data_columns, value='pct_bachelors')\n",
    "\n",
    "def update_dpdown(change):\n",
    "    value = change['new']\n",
    "    colors = data_to_colors(tract_data[value], colormap=mpl.cm.Reds)\n",
    "    cols = {}\n",
    "    for i in range(len(tracts)):\n",
    "        cols[tracts[i][4:]] = colors[i]\n",
    "    for feature in data['features']:\n",
    "        try:\n",
    "            style_col = cols[feature['properties']['tractce10']]\n",
    "        except KeyError:\n",
    "            style_col = 'grey'\n",
    "        feature['properties']['style'] = {\n",
    "            'color': style_col,\n",
    "            'weight': 1,\n",
    "            'fillColor': style_col,\n",
    "            'fillOpacity': 0.75,\n",
    "        }\n",
    "        \n",
    "    feature_layer = ll.GeoJSON(data=data)\n",
    "    \n",
    "    feature_map.layers = [feature_map.layers[0], feature_layer]\n",
    "    \n",
    "dpdown.observe(update_dpdown, names=['value'])\n",
    "\n",
    "feature_map.layout.align_self = 'stretch'\n",
    "display(widgets.VBox([feature_map, dpdown]))"
   ]
  },
  {
   "cell_type": "markdown",
   "metadata": {},
   "source": [
    "# From the Features to the Satisfaction Index"
   ]
  },
  {
   "cell_type": "code",
   "execution_count": 27,
   "metadata": {
    "collapsed": false
   },
   "outputs": [],
   "source": [
    "ordinal_features_scale = bq.OrdinalScale()\n",
    "values_features_scale = bq.LinearScale()\n",
    "value_axis = bq.Axis(scale=values_features_scale, orientation='vertical')\n",
    "\n",
    "bars = bq.Bars(x=data_columns, y=np.zeros(len(data_columns)), \n",
    "               scales={\n",
    "        'x': ordinal_features_scale,\n",
    "        'y': values_features_scale\n",
    "    })\n",
    "\n",
    "indication = bq.Label(x=0.9, y=0.5, text='Hover On Map', font_size='50px', color='gray')\n",
    "\n",
    "ui_map = ll.Map(center=[37.7449, -122.42580993652344], zoom=11, layout=widgets.Layout(width='450px', height='450px'))\n",
    "ui_map.add_layer(survey_layer)\n",
    "ui_map.add_layer(grey_layer)\n",
    "\n",
    "predictors = pd.read_csv('./../analysis_data/predictors.csv').set_index('zip code')\n",
    "\n",
    "def scores(zip_code):\n",
    "    if zip_code in predictors.index:\n",
    "        dic = predictors.ix[zip_code].to_dict()\n",
    "        return [dic[v] for v in data_columns]\n",
    "    else:\n",
    "        return np.zeros(len(data_columns))\n",
    "\n",
    "def hover_handler(event=None, id=None, properties=None):\n",
    "    figure.marks = [bars]\n",
    "    bars.y = scores(int(id))\n",
    "\n",
    "survey_layer.on_hover(hover_handler)\n",
    "\n",
    "figure = bq.Figure(axes=[value_axis], marks=[bars, indication],\n",
    "                   title='Predictors',\n",
    "                   animation_duration=500, min_width=300, min_height=500)\n",
    "\n",
    "\n",
    "widgets.HBox([ui_map, figure])"
   ]
  },
  {
   "cell_type": "code",
   "execution_count": null,
   "metadata": {
    "collapsed": true
   },
   "outputs": [],
   "source": []
  },
  {
   "cell_type": "code",
   "execution_count": null,
   "metadata": {
    "collapsed": true
   },
   "outputs": [],
   "source": []
  }
 ],
 "metadata": {
  "kernelspec": {
   "display_name": "Python 2",
   "language": "python",
   "name": "python2"
  },
  "language_info": {
   "codemirror_mode": {
    "name": "ipython",
    "version": 2
   },
   "file_extension": ".py",
   "mimetype": "text/x-python",
   "name": "python",
   "nbconvert_exporter": "python",
   "pygments_lexer": "ipython2",
   "version": "2.7.11"
  },
  "widgets": {
   "state": {
    "00e25e3e66c5420c88aa167a05019a29": {
     "views": []
    },
    "00e48210afeb45e797804e5a04f12697": {
     "views": []
    },
    "0420cb82190d4125864777557e8563e0": {
     "views": []
    },
    "0435601aacb9419b830bdb1e6dd1961f": {
     "views": []
    },
    "05028062ce8b445ba97252200835d0d0": {
     "views": []
    },
    "05ac5c06ac0a45f4bf4169b76fb653b8": {
     "views": []
    },
    "05ebb54c47044fbd80276c86d7d6871d": {
     "views": []
    },
    "05f3f3f504ec43f99d03d57fde727b69": {
     "views": []
    },
    "076b143792ab45409024213dfba264ea": {
     "views": []
    },
    "08af9cdc3f354796bbfe2cdcbae991f1": {
     "views": []
    },
    "0997b0a8a62d405199f450bf61eec121": {
     "views": []
    },
    "09c9ed01d8ac4f38a0d2a917495cbf64": {
     "views": []
    },
    "0ae7b7f1bcd64b77a2dc196c1ce27cc1": {
     "views": []
    },
    "0b2b89c94602414f8facf640862d19ee": {
     "views": []
    },
    "0bb1cfc068434974bbe8b80c24f24964": {
     "views": []
    },
    "0bc32485222c4a589f3be795c820fee6": {
     "views": []
    },
    "0c41b52b65864b63bc38a1d425405990": {
     "views": []
    },
    "0eeaae870cc946a7bd04d69fb325bcd4": {
     "views": []
    },
    "124ab9febe0e4c1094cf58a40b9c8ba6": {
     "views": []
    },
    "126c052bea25497597341d78cb80396c": {
     "views": []
    },
    "13057b5dd6694d519a3dc376db337b4a": {
     "views": []
    },
    "154025f27ff84002948338c1888a3ba2": {
     "views": []
    },
    "158bac6f976c4e7aa042a67d3783917b": {
     "views": []
    },
    "168d6b04b546445488d5ba31f2a45c00": {
     "views": []
    },
    "17808f9347334ec0a3eb241b3dbd503a": {
     "views": []
    },
    "19129c00b619437fa13785419e755f95": {
     "views": []
    },
    "195c9ef979d3418eb90699382451a144": {
     "views": []
    },
    "1a58598bf966424da462168955882974": {
     "views": []
    },
    "1a589ae50cf641589543d00eb476db92": {
     "views": []
    },
    "1abb84ec75364667a79b9d4c4c1d8b3a": {
     "views": []
    },
    "1c700cc6463645b99040bbe62ded2ef2": {
     "views": []
    },
    "1c7c707893264b1c9b27a4b9816ede46": {
     "views": []
    },
    "1d0182d6ea1447b7bee3e734b3d11144": {
     "views": []
    },
    "2065393a49274ddba3c1a98f590841bc": {
     "views": []
    },
    "210690288bd742dda75d74f36685b480": {
     "views": []
    },
    "211be94ca0804188a61c4bf1d7cc44d6": {
     "views": []
    },
    "21400b2db41e49359c15b33d95a6a4f8": {
     "views": []
    },
    "21e5178ef7a84ba8894d1112601ad842": {
     "views": []
    },
    "22568d88fd6d49bb9b62c6bd6e05f2d4": {
     "views": []
    },
    "232f31d42e72444ab6f78628afd60bc3": {
     "views": []
    },
    "2372f8f79898423291a6c752248e57ec": {
     "views": []
    },
    "238928db25ed4a94a2148d579618bbb4": {
     "views": []
    },
    "2478eae5094b445693f2ae0452240063": {
     "views": []
    },
    "248aa9f77ceb4130b6111b80d23304db": {
     "views": []
    },
    "27e6a0f677f94c9f980506c70b2bdceb": {
     "views": []
    },
    "281efee4b5a64ec2989124be60bf4541": {
     "views": []
    },
    "2857994cca0b4f0f880546ba718f31f2": {
     "views": []
    },
    "29573fe0f2a143f5b9f6c2b69d9a8e9e": {
     "views": []
    },
    "29a5e5fc1edb4ed6ab317df1a1da7d96": {
     "views": []
    },
    "29c38a2bb273482e8d11e1ad85b81ba3": {
     "views": []
    },
    "29d852d0f5f74170940d2efc8d504706": {
     "views": []
    },
    "2ad077b8d30348929302db0e03c43219": {
     "views": []
    },
    "2b1232cb5684447983f741bc000e5d44": {
     "views": []
    },
    "318a463635d143f8ae6c26684726b22e": {
     "views": []
    },
    "31e8e2cdddea46e9a24a82a5187975f3": {
     "views": []
    },
    "3330f2c7b24e45e8885cc703b319aff6": {
     "views": []
    },
    "3369670483e64681b0f0f7d4bea0b3d7": {
     "views": []
    },
    "3373291f952b4596b3cb065874fae981": {
     "views": []
    },
    "339d4ced1cdc40998883093d427ff3d3": {
     "views": []
    },
    "33cc65ee48c24edab12febf71b7e417c": {
     "views": []
    },
    "35b23156ab6d43c19f77eb2f7f437b83": {
     "views": []
    },
    "35c2e216aba54e0eac450023eddb4290": {
     "views": []
    },
    "36cce08343a44744a48a441207a4c62e": {
     "views": []
    },
    "36d861138f7949cda0fbc8ab1122f50c": {
     "views": []
    },
    "378f50ffe46e45ce8d57d6b61089628a": {
     "views": []
    },
    "380d75026d024d659edd91b9d72097cb": {
     "views": []
    },
    "391f80c13b2a46fcb948706148c2cd8b": {
     "views": []
    },
    "3a1f937e75714a3b8b730caa84f1ddf8": {
     "views": []
    },
    "3ade20bb5c0b404e940d7064a46006ec": {
     "views": []
    },
    "3b497812a1eb4485b50fefdacc770b88": {
     "views": []
    },
    "3c77c9e7430444b7b3db1214147e94a0": {
     "views": []
    },
    "3cd2fada68a4481ba021e0b02c4d178b": {
     "views": []
    },
    "3cd5f7f7f88b4d7aa887bb48e9f99068": {
     "views": []
    },
    "3d905e91b0284a8896225a5117d9b972": {
     "views": []
    },
    "3e89efbcdf6b432584527d00c3af910d": {
     "views": []
    },
    "3ee5604ff9d04f7c9492401b2713087e": {
     "views": []
    },
    "3fa0a3b054fa42dca92ac2e52c2daf54": {
     "views": []
    },
    "42bab9d6e9f344ffb8e3dd873cefbaa4": {
     "views": []
    },
    "43a6e7fac3b045f3871f9692d3a562d1": {
     "views": []
    },
    "47535a78f52c4327a2324d28329a5ea7": {
     "views": []
    },
    "475dd0aee32642d59b784e46478f00c1": {
     "views": []
    },
    "47b79355145f43f988b37bbccc10f1a9": {
     "views": []
    },
    "47dee0d71775490992ba35a4393c63d1": {
     "views": []
    },
    "48374e214243418e907486988feebd20": {
     "views": []
    },
    "48482743778a4711a491199af9cf50cc": {
     "views": []
    },
    "4869b5ab43b34d4fad6412042a4d0428": {
     "views": []
    },
    "493ab8bc41be4a598aa19e65d469363a": {
     "views": []
    },
    "4a03d13bbbb34c15b459d1f13b5adc57": {
     "views": []
    },
    "4a83309ba1b84be2a6cb8def4cf08bfa": {
     "views": []
    },
    "4af03a0cb24b47b592d364838aafe7db": {
     "views": []
    },
    "4b24817d7d9f45d2a3118524290f5ccd": {
     "views": []
    },
    "4c63ca713863485f8edf1b5ee2ef52f6": {
     "views": []
    },
    "4c94f150f9924cfa862031746ddedb64": {
     "views": []
    },
    "4cf531a48750433ebc9812afdfa06cb4": {
     "views": []
    },
    "4cf8a66d07ee4ccc9482ad16e55da471": {
     "views": []
    },
    "4d241d901fe14b45ae325bf26fa072cd": {
     "views": []
    },
    "4eb6c6c1e5324631988e18ae286cb05f": {
     "views": []
    },
    "523e2795baa0449da36618277677bb8d": {
     "views": []
    },
    "52b48555bf8e4169ad0d3492bd324aa8": {
     "views": []
    },
    "54052d7bc0e548a6a9eda148e9118e14": {
     "views": []
    },
    "543797f0d9014ab78701e27b7f1995df": {
     "views": []
    },
    "56fab9e1254c4e8abd6fac9000d27183": {
     "views": []
    },
    "581e4b6d31ba45c1bc9452636261a131": {
     "views": []
    },
    "5981d11b9cc447328b0007014fdeb408": {
     "views": []
    },
    "5ab6e3d9cbcf42c0939db442bec0401d": {
     "views": []
    },
    "5d96c7fe6800410096c4bb7c247697a8": {
     "views": []
    },
    "5e7be99166d242c1837c3d1f4fb50305": {
     "views": []
    },
    "5f5c302886e043f6870ffc985e6066f5": {
     "views": []
    },
    "6118ac9299f5412481650fa7447c2af8": {
     "views": []
    },
    "6348130bbfee4f2d94136aa5781f212e": {
     "views": []
    },
    "64150e7ca91c422486a1f9605bf3b502": {
     "views": []
    },
    "641cc99afe304331a7cf8352383233f2": {
     "views": []
    },
    "655bd7dbf2854f6287923c4a1bb6c618": {
     "views": []
    },
    "65892c13851943559baeb778db127c7b": {
     "views": []
    },
    "6603d83d42c448af9ec06d1d8b5bc0c3": {
     "views": []
    },
    "6610754cfc7e44568da6d7d73ec0cac8": {
     "views": []
    },
    "666d3e244fa84a008cecbc2a799cce5d": {
     "views": []
    },
    "66715c164379446b94ecd18e93013b20": {
     "views": []
    },
    "689fc47caa454a4195bb0cce2d813c41": {
     "views": []
    },
    "696530cf15464e7b9a1ee162e748b36e": {
     "views": []
    },
    "697d71fe23f94a36b80f64db60dad0d9": {
     "views": []
    },
    "69963755204541a7a5c01e9d5a288c9a": {
     "views": []
    },
    "69b6d6fc835041ca92f397378539ff13": {
     "views": []
    },
    "6a2bc522c2494726b4f9de5fbcce1af3": {
     "views": []
    },
    "6a2c6bf2eee64a898a9fee332bc0307b": {
     "views": []
    },
    "6a6a5fa04c46472787c7aad31367eb28": {
     "views": []
    },
    "6b0801f6e87840d189437d438fd78a65": {
     "views": []
    },
    "6bdba6bd9ac144a59cbd069fbd9f9acc": {
     "views": []
    },
    "6cb7942756444b399ac857de35ffbe81": {
     "views": []
    },
    "6e3fe18a2fa94f9c9ba52616248a726e": {
     "views": []
    },
    "6e88e0ca69c64574a1dbcedc0fbe06af": {
     "views": []
    },
    "6f2c6e3363b349afb3f619df2422cec9": {
     "views": []
    },
    "6f88c7d0d1bd46f88426508ab9b058b6": {
     "views": []
    },
    "6fc395e1a9ec4268915a097c4c98991f": {
     "views": []
    },
    "704c16804e1949b8b802efe6079d870c": {
     "views": []
    },
    "70665bb923d94f3098ddbd913ae5b367": {
     "views": []
    },
    "7122d7cf1fbd4874ab39be42acf56d89": {
     "views": []
    },
    "71858bc073b047c0b81df1cb88d5289d": {
     "views": []
    },
    "71b46503aa964c6f9fe1b88ffed4ce33": {
     "views": []
    },
    "72573556d43c4b83814f55532f5ff0c6": {
     "views": []
    },
    "72f8fb8467aa4959a9ee2642f82e3f44": {
     "views": []
    },
    "756a9a72a0a94a68b9422dc132610581": {
     "views": []
    },
    "75c2eaef54134a1b81f87cb3c0e43556": {
     "views": []
    },
    "768e28881bca4f0e88c9e4294eb6a18c": {
     "views": []
    },
    "774dd8ffb5594ad381ac040ae3aee7e8": {
     "views": []
    },
    "78017caba30e481b8e4c4ef51fe9cd84": {
     "views": []
    },
    "7814ddf9cb3b464cb163ce8ac8b51865": {
     "views": []
    },
    "789353f4248c4135a3fee28a1ba0dbec": {
     "views": []
    },
    "7922b386c03a4554900cf68b56747167": {
     "views": []
    },
    "7a37054a433543bc9b8f2f766c62c919": {
     "views": []
    },
    "7ca54e0a8abb44288f0f919fa1e6499c": {
     "views": []
    },
    "7cc00d0fb33e44fa8bfcea8caeb5d3ae": {
     "views": []
    },
    "7cfb27ca84b24c739b19bb28c897665a": {
     "views": []
    },
    "7dd9770bc8084b30925b6343508ac250": {
     "views": []
    },
    "7dfa8871f4d546a3a0ffaae4570e236d": {
     "views": []
    },
    "7fc4b247be5e4f25a181974d5295a8dd": {
     "views": []
    },
    "81790e40c98e4fd5bdd94375003a0520": {
     "views": []
    },
    "824f490eefce4a9eb1ec14831176ffa4": {
     "views": []
    },
    "82c077717f2d42bb826a6e26a924c92b": {
     "views": []
    },
    "839e590549a74f7295222fc5edb57e95": {
     "views": []
    },
    "845d9d253acc47e5b36e5de7eb3edd48": {
     "views": []
    },
    "85c9d7eb3a57465b870f15b435e734d0": {
     "views": []
    },
    "8691cde3ade04231b4b334b5775528b8": {
     "views": []
    },
    "87106706a5464568be390fa0bc88ff15": {
     "views": []
    },
    "871e2c672b1d48fd9011356d76ff676f": {
     "views": []
    },
    "8723bc2c1ae74ea299b545bffe66a7e9": {
     "views": []
    },
    "873c3d52fa31486d8eec6b10a41b73e4": {
     "views": []
    },
    "8889da8ba6f24b0ab2bbf6aa2f117760": {
     "views": []
    },
    "8a87af67389e46e9b77d122247c540b6": {
     "views": []
    },
    "8bc7ad47b7b54117955fa7148b051f30": {
     "views": []
    },
    "8ca7ede16c66465483089e77230cf33a": {
     "views": []
    },
    "8eb40e3861d54117a1c489ecb813dbd4": {
     "views": []
    },
    "8f1f25b606a84d699cc57ddd31911ef5": {
     "views": []
    },
    "8f237bcc3d714ba1a2f2a992a8789d72": {
     "views": []
    },
    "8f7a4488f9cb483bb9a8731b4741501b": {
     "views": [
      {
       "cell_index": 2
      }
     ]
    },
    "901317c414aa4e5ba1056bb1d377ab38": {
     "views": [
      {
       "cell_index": 6
      }
     ]
    },
    "90ff90ff5fbd4cc086065f235663fda5": {
     "views": []
    },
    "910f4a9604c743bea7b1c39d5fa4b2b2": {
     "views": []
    },
    "93102fa317dd40cc9d9b4c1f24b2d9dd": {
     "views": []
    },
    "93c3d41556a14550bb300c0dd92c8cf8": {
     "views": []
    },
    "94c396772022453fb7480d12848a2ccc": {
     "views": []
    },
    "9533ba563d7240efa9c5906bab56d711": {
     "views": []
    },
    "9608bfe0e9114e0ba8cf8f5f0de61c62": {
     "views": []
    },
    "9751638f50ce4dc2a42802a150563eb7": {
     "views": []
    },
    "97f8c79f5d16466e86f80472a6f1efe7": {
     "views": []
    },
    "98d79a9767194fc898005fcc3e9156cd": {
     "views": []
    },
    "9957794be29940fda59144e4f360a651": {
     "views": []
    },
    "9a7520f5793449abbf6a59786bcaf415": {
     "views": []
    },
    "9a788c3f49f44b9ebd3fc9f0d5e97dae": {
     "views": []
    },
    "9ab68d35432941a4b8cc543a679ef02a": {
     "views": []
    },
    "9b3ab9b79ebc4943ada8ea2e6c2e885d": {
     "views": []
    },
    "9c26f4e39ee54d6caf2d990b5f79d6f6": {
     "views": []
    },
    "9d11bb4c589b4454a6d09d466ee787ea": {
     "views": []
    },
    "9fd69edef67d44d79e79ecab0b541749": {
     "views": []
    },
    "a07f4c215b084a4da8a45941b6ca552a": {
     "views": []
    },
    "a0a15d961ab44a86b3b26f2df2d84abc": {
     "views": []
    },
    "a0d481ee896945faa85a24330546d7f3": {
     "views": []
    },
    "a0e21de5de48442286be03525cb2a692": {
     "views": []
    },
    "a2cd409f9e4f41f6b146c31a80621ae7": {
     "views": []
    },
    "a3b32fe4348949f2910271199100dd18": {
     "views": []
    },
    "a438c3fde5824a2787ff0f3cf21ec4bb": {
     "views": []
    },
    "a494505da67f48c7ada9950a807116c1": {
     "views": []
    },
    "a58bd0c63d2b4d25ae5076b3153d8c71": {
     "views": []
    },
    "a6d7270e620043308129146522a7ee1b": {
     "views": []
    },
    "a756080bf4a64cfabc47c1b5bbce4bc1": {
     "views": []
    },
    "a929f7a436d440f38541e6cc24b68f63": {
     "views": []
    },
    "aa1f045493024de09841ad55a4a6a21b": {
     "views": []
    },
    "ab17b00a19f449ecba36a8b3d8284e87": {
     "views": []
    },
    "abbba05bd2a443459285eb9d60a06483": {
     "views": []
    },
    "ae77ea31fbc745968fcad9d0375b9023": {
     "views": []
    },
    "b06a6ba051d94846b9ec2bf420db5af3": {
     "views": []
    },
    "b12fc93192c0465296dfec4c582f8275": {
     "views": []
    },
    "b229b69d1f6c463f856da64542ec5d5c": {
     "views": []
    },
    "b32297f69b6f403a85ae8b01cc9b0a29": {
     "views": []
    },
    "b498e8b56a294ff595623fa116cdb081": {
     "views": []
    },
    "b524b6454e7d4a4992817aa959ba8412": {
     "views": []
    },
    "b538d235782447c99204bfe89b0545ed": {
     "views": []
    },
    "b57b1a4d7bc34e9f81063d44b0fdc81e": {
     "views": []
    },
    "b6245ebe26864d9ab5639e32de8f120f": {
     "views": []
    },
    "b6d39d2d275c4ce99f22217ee74c4354": {
     "views": []
    },
    "b8d09bdadc534884b02cd30de311d9d2": {
     "views": []
    },
    "b8f6a81651c94718af9de763ac3999e1": {
     "views": []
    },
    "bb3845a6b66a4480bfbc1e0ae9678c65": {
     "views": []
    },
    "bc500f0b07b74ca69766bc26dc48e900": {
     "views": []
    },
    "bee957d8d49548d7a21bfea76151d9c6": {
     "views": []
    },
    "bf22bfd346394a339f85181852ff1618": {
     "views": []
    },
    "bf535766afb24eafbdf0932172ec67a6": {
     "views": []
    },
    "c3aaf462c55541118e38d9c5fa9dc3ad": {
     "views": []
    },
    "c3e5df963fa7434b894e04f738aaf70d": {
     "views": []
    },
    "c58593f92dbc4556bd154016087cf6fa": {
     "views": []
    },
    "c599d8a0a3c246e28c2f942823f995d4": {
     "views": []
    },
    "c600dd8b782b457ba094cff48a6b9b9f": {
     "views": []
    },
    "c6241206362e473a93223c78d5685eaf": {
     "views": []
    },
    "c694f77d40864fff81ec8cbc86a473b3": {
     "views": []
    },
    "c73404b6b05c43eb8a1e33c7d40ded6a": {
     "views": []
    },
    "c76f693fae184c76abd020b6bacb586e": {
     "views": []
    },
    "c834efaf90544b8aad2b409eda29470f": {
     "views": []
    },
    "c918f9e199bd417bba03465c95df2611": {
     "views": []
    },
    "c9b5fe068b39488ba95a66156c5260db": {
     "views": []
    },
    "c9f36290f2044de9baba22abd7bb1713": {
     "views": []
    },
    "cb77409d744b4674a36c0580eccf13e3": {
     "views": []
    },
    "cc0bb5c36f1142d2b8e922e0f042e9f5": {
     "views": []
    },
    "cc30de56d0ad414688ce35c3c9d91056": {
     "views": []
    },
    "cc9df9ae09864f6aab5ccf61c1dc80d6": {
     "views": []
    },
    "cd8314cf8cab4b399762fc4b05c39c22": {
     "views": []
    },
    "ce0fdae41b094e53be6d48c2217c2c26": {
     "views": []
    },
    "cf2a2a7bc53e4dd1bfe3c4fec08d3c40": {
     "views": []
    },
    "cf926aeafffa46b881fe5471236defc6": {
     "views": []
    },
    "cfd275b50f674f71ae3149c2c5d7948f": {
     "views": []
    },
    "cfd8773fc0bd40ddb35a55209ec7ecef": {
     "views": []
    },
    "d0175c04a8e74c31ab3c9cfb72c00493": {
     "views": []
    },
    "d0767aac5ded4ef7a76d4824a37df1fc": {
     "views": []
    },
    "d1efc2602a5e430e847c6e56261bba18": {
     "views": []
    },
    "d1f061e44e0740088eba71b243690b15": {
     "views": []
    },
    "d2165d1292ee4cecaec84f5e5d592f9a": {
     "views": []
    },
    "d29355cf92c844d89720a2be5a48c301": {
     "views": []
    },
    "d383d7f799284f8eb4239bc4f4e7c95a": {
     "views": []
    },
    "d4ad3f85cb934d95bac67e0da4d49e76": {
     "views": []
    },
    "d4fe806e907f4042b401179dde8b5e79": {
     "views": []
    },
    "d5055aaecb3b455581b8552e1596e3f1": {
     "views": []
    },
    "da593293ffab490599048e940be5a1be": {
     "views": []
    },
    "da7e29fbd4a5473d9457332906a235c4": {
     "views": []
    },
    "dbcc14074ffb4fbeabf9b87162b0ed16": {
     "views": []
    },
    "dd5f0d5668ff4544ba49a45168548451": {
     "views": []
    },
    "dfbfc511b4e94711957006eb7477b7d8": {
     "views": []
    },
    "e05d584d94e14d9490b4bd99556aca72": {
     "views": []
    },
    "e0c9b6501a1f4c4c9bad8d00688a54d1": {
     "views": []
    },
    "e22fe9ad5ebf443e9fb5ebaf5ef95655": {
     "views": []
    },
    "e2ff998e9a204997805f3ef30c183af5": {
     "views": []
    },
    "e3ea256459aa4603b3ed83484ea58047": {
     "views": []
    },
    "e48722c798b4480d8afe7c90323a0074": {
     "views": []
    },
    "e4aea93183f945ebad19902ef156cb60": {
     "views": []
    },
    "e4e7f1151207426a8396d860cecb49a4": {
     "views": []
    },
    "e6771dc062164d4e83bd16fe2238956e": {
     "views": []
    },
    "e8cdd3e0bc204f048cfe8b41393c3500": {
     "views": []
    },
    "eb3a5ca148d44820bd954594aff432ff": {
     "views": []
    },
    "ebdc28cf2fdd43df98f298d355079707": {
     "views": []
    },
    "ef9147d14fbf4d30aeab3c64610267a3": {
     "views": []
    },
    "f103507d2cf44ae3aa89efe6b7ce65d7": {
     "views": []
    },
    "f17b44640c624214b25d9f1e5b4eec49": {
     "views": []
    },
    "f29e025b51d04e8c9bfc88ef0c5f3a63": {
     "views": []
    },
    "f55b97bcb36447e2ac3f55ebf0be3674": {
     "views": [
      {
       "cell_index": 4
      }
     ]
    },
    "f57b08193c174d158a3273f53fe4f6d7": {
     "views": []
    },
    "f623c40ff1d44b80be0bf822626d9c18": {
     "views": []
    },
    "f69c532d69c84fc2a1914cb41be57b88": {
     "views": []
    },
    "f76bb96a7d424c4c84bfab16932c9ab5": {
     "views": []
    },
    "f76ced446e954053a5e16f0455742d1f": {
     "views": []
    },
    "f7d450d976b14278954594081c3e02bd": {
     "views": []
    },
    "f7f7b7403e2b426b95f240c931320676": {
     "views": []
    },
    "f8399380c9a044e0906fb52beaf4db70": {
     "views": []
    },
    "f85e64a4aa9f4e8b97259b6a7e1c06d3": {
     "views": []
    },
    "f8c5c4fcfd0b42bdb3362c7af4ccc400": {
     "views": []
    },
    "f98f4e8c8c004f0eb5360697fbcced10": {
     "views": []
    },
    "fa2a2b72616e41eb8f827d0163254da8": {
     "views": []
    },
    "fb3271f54cce45fcabaaa9544ac66cdc": {
     "views": []
    },
    "fc0ae4b9754246029327d74561ef5c5d": {
     "views": []
    },
    "fcee1d30272642ffb923f16a57becc87": {
     "views": []
    },
    "fd322acea3984a278a81d401c21212d5": {
     "views": []
    },
    "fd47d8b61e2243e7ab0813b2016349b9": {
     "views": []
    },
    "feb680a2568e4ad9bd8df0ad37d565c9": {
     "views": []
    }
   },
   "version": "1.0.0"
  }
 },
 "nbformat": 4,
 "nbformat_minor": 1
}
