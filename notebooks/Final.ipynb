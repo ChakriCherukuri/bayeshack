{
 "cells": [
  {
   "cell_type": "code",
   "execution_count": 1,
   "metadata": {
    "collapsed": true
   },
   "outputs": [],
   "source": [
    "from __future__ import print_function\n",
    "\n",
    "# Jupyter display\n",
    "from IPython.display import display\n",
    "\n",
    "# json\n",
    "import json\n",
    "\n",
    "# widgets\n",
    "import ipywidgets as widgets\n",
    "import bqplot as bq\n",
    "import ipyleaflet as ll\n",
    "\n",
    "# numerics\n",
    "import pandas as pd\n",
    "import numpy as np\n",
    "\n",
    "# colormap\n",
    "import matplotlib as mpl\n",
    "import matplotlib.cm\n",
    "import matplotlib.colors\n",
    "\n",
    "def n_colors(n, colormap=mpl.cm.Blues):\n",
    "    data = np.linspace(0.0,1.0,n)\n",
    "    c = [mpl.colors.rgb2hex(d[0:3]) for d in colormap(data)]\n",
    "    return c\n",
    "\n",
    "def data_to_colors(data, colormap=mpl.cm.plasma):\n",
    "    c = [mpl.colors.rgb2hex(d[0:3]) for d in colormap(mpl.colors.Normalize()(data))]\n",
    "    return c"
   ]
  },
  {
   "cell_type": "markdown",
   "metadata": {},
   "source": [
    "# Satisfaction Score by ZIP Code"
   ]
  },
  {
   "cell_type": "code",
   "execution_count": 2,
   "metadata": {
    "collapsed": false
   },
   "outputs": [],
   "source": [
    "survey_map = ll.Map(center=[37.7749, -122.34580993652344], zoom=12, layout=widgets.Layout(height='450px'))\n",
    "\n",
    "survey_data = pd.read_csv('./../analysis_data/scores_by_zipcodes.csv', header=None)\n",
    "survey_colors = data_to_colors(survey_data.ix[:, 1], colormap=mpl.cm.Greens)\n",
    "zips = [str(int(i)) for i in survey_data.ix[:, 0]]\n",
    "cols = {}\n",
    "\n",
    "for i in range(len(zips)):\n",
    "    cols[zips[i]] = survey_colors[i]\n",
    "\n",
    "# Survey layer\n",
    "with open('./../mapdata/sf_zipcodes.geojson') as f:\n",
    "    data = json.load(f)\n",
    "\n",
    "for feature in data['features']:\n",
    "    feature['properties']['style'] = {\n",
    "        'color': cols[feature['id']],\n",
    "        'weight': 1,\n",
    "        'fillColor': cols[feature['id']],\n",
    "        'fillOpacity': 0.65,\n",
    "    }\n",
    "\n",
    "survey_layer = ll.GeoJSON(data=data, hover_style={'fillColor': 'red'})\n",
    "survey_map += survey_layer\n",
    "\n",
    "with open('./../mapdata/bayarea_nosf_zipcodes.geojson') as f:\n",
    "    bay_data = json.load(f)\n",
    "    \n",
    "# Grey layer\n",
    "grey_colors = n_colors(len(bay_data['features']), colormap=mpl.cm.Greys)\n",
    "\n",
    "for feature, color in zip(bay_data['features'], grey_colors):\n",
    "    feature['properties']['style'] = {\n",
    "        'color': 'gray',\n",
    "        'weight': 1,\n",
    "        'fillColor': 'gray',\n",
    "        'fillOpacity': 0.2\n",
    "    }\n",
    "\n",
    "gray_layer = ll.GeoJSON(data=bay_data, hover_style={'fillColor': 'red'})\n",
    "\n",
    "survey_map.add_layer(gray_layer)\n",
    "\n",
    "survey_map"
   ]
  },
  {
   "cell_type": "markdown",
   "metadata": {},
   "source": [
    "# Neighborhood features"
   ]
  },
  {
   "cell_type": "code",
   "execution_count": 3,
   "metadata": {
    "collapsed": false
   },
   "outputs": [],
   "source": [
    "feature_map = ll.Map(center=[37.7749, -122.34580993652344], zoom=12, layout=widgets.Layout(height='450px'))\n",
    "tract_data = pd.read_csv('./../data/CensusData/sfo data/tract_data_normalized.csv')\n",
    "colors = data_to_colors(tract_data['pct_bachelors'], colormap=mpl.cm.Reds)\n",
    "tracts = [str(int(i)) for i in tract_data.ix[:, 0].values]\n",
    "\n",
    "cols = {}\n",
    "for i in range(len(tracts)):\n",
    "    cols[tracts[i][4:]] = colors[i]\n",
    "\n",
    "with open('./../mapdata/sf_tracts.geojson') as f:\n",
    "    data = json.load(f)\n",
    "for feature in data['features']:\n",
    "    try:\n",
    "        style_col = cols[feature['properties']['tractce10']]\n",
    "    except KeyError:\n",
    "        style_col = 'Grey'\n",
    "    feature['properties']['style'] = {\n",
    "        'color': style_col,\n",
    "        'weight': 1,\n",
    "        'fillColor': style_col,\n",
    "        'fillOpacity': 0.75,\n",
    "    }\n",
    "\n",
    "feature_layer = ll.GeoJSON(data=data)\n",
    "feature_map += feature_layer\n",
    "\n",
    "data_columns = [\n",
    "      'pct_bachelors',\n",
    "      'labor_part_rate',\n",
    "      'pct_welfare',\n",
    "      'low_pov_idx',\n",
    "      'labor_idx',\n",
    "      'env_health_idx',\n",
    "      'hispanic',\n",
    "      'white',\n",
    "      'black',\n",
    "      'american_indian',\n",
    "      'asian',\n",
    "      'pac_islander',\n",
    "      'other_races',\n",
    "      'two_races',\n",
    "      'housing_cost',\n",
    "      'transportation_cost',\n",
    "      'pub_school_score',\n",
    "      'pr_school_score',\n",
    "      'rest_score',\n",
    "      'rest_proximity']\n",
    "\n",
    "dpdown = widgets.Dropdown(options=data_columns, value='pct_bachelors')\n",
    "\n",
    "def update_dpdown(change):\n",
    "    value = change['new']\n",
    "    colors = data_to_colors(tract_data[value], colormap=mpl.cm.Reds)\n",
    "    cols = {}\n",
    "    for i in range(len(tracts)):\n",
    "        cols[tracts[i][4:]] = colors[i]\n",
    "    for feature in data['features']:\n",
    "        try:\n",
    "            style_col = cols[feature['properties']['tractce10']]\n",
    "        except KeyError:\n",
    "            style_col = 'grey'\n",
    "        feature['properties']['style'] = {\n",
    "            'color': style_col,\n",
    "            'weight': 1,\n",
    "            'fillColor': style_col,\n",
    "            'fillOpacity': 0.75,\n",
    "        }\n",
    "        \n",
    "    feature_layer = ll.GeoJSON(data=data)\n",
    "    \n",
    "    feature_map.layers = [feature_map.layers[0], feature_layer]\n",
    "    \n",
    "dpdown.observe(update_dpdown, names=['value'])\n",
    "\n",
    "feature_map.layout.align_self = 'stretch'\n",
    "display(widgets.VBox([feature_map, dpdown]))"
   ]
  },
  {
   "cell_type": "markdown",
   "metadata": {},
   "source": [
    "# From the Features to the Satisfaction Index"
   ]
  },
  {
   "cell_type": "code",
   "execution_count": 11,
   "metadata": {
    "collapsed": true
   },
   "outputs": [],
   "source": [
    "ordinal_features_scale = bq.OrdinalScale()\n",
    "ord_axis = bq.Axis(scale=ordinal_features_scale)\n",
    "values_features_scale = bq.LinearScale()\n",
    "value_axis = bq.Axis(scale=values_features_scale, orientation='vertical')\n",
    "\n",
    "scores_zipcode = pd.read_csv('./../analysis_data/scores_by_zipcodes.csv')\n",
    "\n",
    "bars = bq.Bars(x=data_columns, y=np.zeros(len(data_columns)), \n",
    "               scales={\n",
    "        'x': ordinal_features_scale,\n",
    "        'y': values_features_scale\n",
    "    })\n",
    "\n",
    "figure = bq.Figure(axes=[value_axis, ord_axis], marks=[bars], animate_duration=500)\n",
    "figure"
   ]
  },
  {
   "cell_type": "code",
   "execution_count": 12,
   "metadata": {
    "collapsed": false
   },
   "outputs": [
    {
     "data": {
      "text/html": [
       "<div>\n",
       "<table border=\"1\" class=\"dataframe\">\n",
       "  <thead>\n",
       "    <tr style=\"text-align: right;\">\n",
       "      <th></th>\n",
       "      <th>94101</th>\n",
       "      <th>8.28188818172</th>\n",
       "    </tr>\n",
       "  </thead>\n",
       "  <tbody>\n",
       "    <tr>\n",
       "      <th>0</th>\n",
       "      <td>94102</td>\n",
       "      <td>7.872967</td>\n",
       "    </tr>\n",
       "    <tr>\n",
       "      <th>1</th>\n",
       "      <td>94103</td>\n",
       "      <td>8.022743</td>\n",
       "    </tr>\n",
       "    <tr>\n",
       "      <th>2</th>\n",
       "      <td>94104</td>\n",
       "      <td>7.649829</td>\n",
       "    </tr>\n",
       "    <tr>\n",
       "      <th>3</th>\n",
       "      <td>94105</td>\n",
       "      <td>7.310335</td>\n",
       "    </tr>\n",
       "    <tr>\n",
       "      <th>4</th>\n",
       "      <td>94106</td>\n",
       "      <td>8.399158</td>\n",
       "    </tr>\n",
       "    <tr>\n",
       "      <th>5</th>\n",
       "      <td>94107</td>\n",
       "      <td>7.975440</td>\n",
       "    </tr>\n",
       "    <tr>\n",
       "      <th>6</th>\n",
       "      <td>94108</td>\n",
       "      <td>8.473097</td>\n",
       "    </tr>\n",
       "    <tr>\n",
       "      <th>7</th>\n",
       "      <td>94109</td>\n",
       "      <td>7.644697</td>\n",
       "    </tr>\n",
       "    <tr>\n",
       "      <th>8</th>\n",
       "      <td>94110</td>\n",
       "      <td>8.403898</td>\n",
       "    </tr>\n",
       "    <tr>\n",
       "      <th>9</th>\n",
       "      <td>94111</td>\n",
       "      <td>8.370478</td>\n",
       "    </tr>\n",
       "    <tr>\n",
       "      <th>10</th>\n",
       "      <td>94112</td>\n",
       "      <td>8.695922</td>\n",
       "    </tr>\n",
       "    <tr>\n",
       "      <th>11</th>\n",
       "      <td>94113</td>\n",
       "      <td>8.598866</td>\n",
       "    </tr>\n",
       "    <tr>\n",
       "      <th>12</th>\n",
       "      <td>94114</td>\n",
       "      <td>8.099825</td>\n",
       "    </tr>\n",
       "    <tr>\n",
       "      <th>13</th>\n",
       "      <td>94115</td>\n",
       "      <td>8.101893</td>\n",
       "    </tr>\n",
       "    <tr>\n",
       "      <th>14</th>\n",
       "      <td>94116</td>\n",
       "      <td>8.828484</td>\n",
       "    </tr>\n",
       "    <tr>\n",
       "      <th>15</th>\n",
       "      <td>94117</td>\n",
       "      <td>8.332837</td>\n",
       "    </tr>\n",
       "    <tr>\n",
       "      <th>16</th>\n",
       "      <td>94118</td>\n",
       "      <td>8.205283</td>\n",
       "    </tr>\n",
       "    <tr>\n",
       "      <th>17</th>\n",
       "      <td>94119</td>\n",
       "      <td>8.899250</td>\n",
       "    </tr>\n",
       "    <tr>\n",
       "      <th>18</th>\n",
       "      <td>94120</td>\n",
       "      <td>7.990204</td>\n",
       "    </tr>\n",
       "    <tr>\n",
       "      <th>19</th>\n",
       "      <td>94121</td>\n",
       "      <td>8.404675</td>\n",
       "    </tr>\n",
       "    <tr>\n",
       "      <th>20</th>\n",
       "      <td>94122</td>\n",
       "      <td>8.385986</td>\n",
       "    </tr>\n",
       "    <tr>\n",
       "      <th>21</th>\n",
       "      <td>94123</td>\n",
       "      <td>7.838465</td>\n",
       "    </tr>\n",
       "    <tr>\n",
       "      <th>22</th>\n",
       "      <td>94124</td>\n",
       "      <td>8.348234</td>\n",
       "    </tr>\n",
       "    <tr>\n",
       "      <th>23</th>\n",
       "      <td>94125</td>\n",
       "      <td>8.496970</td>\n",
       "    </tr>\n",
       "    <tr>\n",
       "      <th>24</th>\n",
       "      <td>94126</td>\n",
       "      <td>8.574048</td>\n",
       "    </tr>\n",
       "    <tr>\n",
       "      <th>25</th>\n",
       "      <td>94127</td>\n",
       "      <td>8.544668</td>\n",
       "    </tr>\n",
       "    <tr>\n",
       "      <th>26</th>\n",
       "      <td>94129</td>\n",
       "      <td>9.068667</td>\n",
       "    </tr>\n",
       "    <tr>\n",
       "      <th>27</th>\n",
       "      <td>94130</td>\n",
       "      <td>8.693164</td>\n",
       "    </tr>\n",
       "    <tr>\n",
       "      <th>28</th>\n",
       "      <td>94131</td>\n",
       "      <td>8.090366</td>\n",
       "    </tr>\n",
       "    <tr>\n",
       "      <th>29</th>\n",
       "      <td>94132</td>\n",
       "      <td>8.485269</td>\n",
       "    </tr>\n",
       "    <tr>\n",
       "      <th>30</th>\n",
       "      <td>94133</td>\n",
       "      <td>8.074360</td>\n",
       "    </tr>\n",
       "    <tr>\n",
       "      <th>31</th>\n",
       "      <td>94134</td>\n",
       "      <td>8.754626</td>\n",
       "    </tr>\n",
       "    <tr>\n",
       "      <th>32</th>\n",
       "      <td>94158</td>\n",
       "      <td>7.497538</td>\n",
       "    </tr>\n",
       "  </tbody>\n",
       "</table>\n",
       "</div>"
      ],
      "text/plain": [
       "    94101  8.28188818172\n",
       "0   94102       7.872967\n",
       "1   94103       8.022743\n",
       "2   94104       7.649829\n",
       "3   94105       7.310335\n",
       "4   94106       8.399158\n",
       "5   94107       7.975440\n",
       "6   94108       8.473097\n",
       "7   94109       7.644697\n",
       "8   94110       8.403898\n",
       "9   94111       8.370478\n",
       "10  94112       8.695922\n",
       "11  94113       8.598866\n",
       "12  94114       8.099825\n",
       "13  94115       8.101893\n",
       "14  94116       8.828484\n",
       "15  94117       8.332837\n",
       "16  94118       8.205283\n",
       "17  94119       8.899250\n",
       "18  94120       7.990204\n",
       "19  94121       8.404675\n",
       "20  94122       8.385986\n",
       "21  94123       7.838465\n",
       "22  94124       8.348234\n",
       "23  94125       8.496970\n",
       "24  94126       8.574048\n",
       "25  94127       8.544668\n",
       "26  94129       9.068667\n",
       "27  94130       8.693164\n",
       "28  94131       8.090366\n",
       "29  94132       8.485269\n",
       "30  94133       8.074360\n",
       "31  94134       8.754626\n",
       "32  94158       7.497538"
      ]
     },
     "execution_count": 12,
     "metadata": {},
     "output_type": "execute_result"
    }
   ],
   "source": [
    "scores_zipcode"
   ]
  },
  {
   "cell_type": "code",
   "execution_count": 9,
   "metadata": {
    "collapsed": true
   },
   "outputs": [],
   "source": []
  },
  {
   "cell_type": "code",
   "execution_count": 8,
   "metadata": {
    "collapsed": false
   },
   "outputs": [
    {
     "name": "stdout",
     "output_type": "stream",
     "text": [
      "311_Information_Requests_by_Month.csv  crime_data_8.csv\r\n",
      "AHBP_eligible_parcels.csv              crime_data_9.csv\r\n",
      "Untitled.ipynb                         crime_part_1.csv\r\n",
      "Untitled1.ipynb                        data read me.docx\r\n",
      "aff_index.csv                          demographics_sfo_2010 census.csv\r\n",
      "census_data_plus_affordability.csv     \u001b[1m\u001b[36mgoogle_transit\u001b[m\u001b[m/\r\n",
      "census_tract_numbers_for_sfo.xls       living_affordability_index_data.csv\r\n",
      "census_tracts_to_loc_list.txt          race_data_2010.csv\r\n",
      "crime_data_0.csv                       tract_census_data.csv\r\n",
      "crime_data_1.csv                       tract_census_data_new.csv\r\n",
      "crime_data_2.csv                       tract_coordinates.csv\r\n",
      "crime_data_3.csv                       tract_data_normalized.csv\r\n",
      "crime_data_4.csv                       tract_data_with_schools.csv\r\n",
      "crime_data_5.csv                       tracts_reduced_data.csv\r\n",
      "crime_data_6.csv                       ~$ta read me.docx\r\n",
      "crime_data_7.csv                       ~WRL2499.tmp\r\n"
     ]
    }
   ],
   "source": [
    "ls ../analysis_data/scores_by_zipcodes.csv"
   ]
  },
  {
   "cell_type": "code",
   "execution_count": null,
   "metadata": {
    "collapsed": true
   },
   "outputs": [],
   "source": []
  }
 ],
 "metadata": {
  "kernelspec": {
   "display_name": "Python 2",
   "language": "python",
   "name": "python2"
  },
  "language_info": {
   "codemirror_mode": {
    "name": "ipython",
    "version": 2
   },
   "file_extension": ".py",
   "mimetype": "text/x-python",
   "name": "python",
   "nbconvert_exporter": "python",
   "pygments_lexer": "ipython2",
   "version": "2.7.11"
  },
  "widgets": {
   "state": {
    "01d149e3d9fc4440b16084477afc39b2": {
     "views": []
    },
    "0325c7b0d9ec48d390db4f1b25775719": {
     "views": []
    },
    "04e09b6a37764bfda45400bcf8be0260": {
     "views": []
    },
    "1bed72471a45457a8e5afa07b8f27317": {
     "views": []
    },
    "1bfda1b32fce440b90f82ee73b001bee": {
     "views": [
      {
       "cell_index": 2
      }
     ]
    },
    "1f207627b29145a58b38899192a094d7": {
     "views": []
    },
    "2db1864c7a5041a9bcaa82959201ed0c": {
     "views": []
    },
    "2dce7127610c4750be266c764ed16254": {
     "views": []
    },
    "2f0d683f52594d24ae5a1c326bda8103": {
     "views": []
    },
    "39c52eb1e7aa43128075a9d7491b6b55": {
     "views": [
      {
       "cell_index": 6
      }
     ]
    },
    "3a2c61e4663c49ca9cd1bb528642de31": {
     "views": []
    },
    "3abf2da73fe04e0cbbfb44458a4999a8": {
     "views": []
    },
    "3bc92d159eea4542af21439834124207": {
     "views": []
    },
    "3fd4269014d241009b75bd34b64be98d": {
     "views": []
    },
    "4975d41bb42d458d8fed2400c92720e5": {
     "views": []
    },
    "4d9eb2ce64bf4b59a85e87e88f2e57a1": {
     "views": []
    },
    "5534bf072e514bbcb2ab12c76463aba8": {
     "views": []
    },
    "62df9ff2b17d417390930794e76b80fa": {
     "views": []
    },
    "6955974b28ff48e1891c973495e4360c": {
     "views": []
    },
    "71148636925743f3944cbb04af68524e": {
     "views": []
    },
    "8faae77c29b643b98335606caf2e5f1d": {
     "views": []
    },
    "99bfd6415b774e6296e2827578b83fd0": {
     "views": []
    },
    "9ebfe9dc1aed481ca775d9ac3d107c20": {
     "views": []
    },
    "b13268d10c6f492a95efac4959e7db92": {
     "views": []
    },
    "b71a3946b98247a789ff842b79eac49a": {
     "views": []
    },
    "ba705bf1d6614908b65de25c47e2688f": {
     "views": []
    },
    "cccb128a084544d0b0fb073883ebab06": {
     "views": []
    },
    "d2233da5d9d749ce87e03200af751a50": {
     "views": []
    },
    "d568f58d7222412e878455f3c80e2407": {
     "views": []
    },
    "d867944884024bbf8cf56dd04ada0aca": {
     "views": []
    },
    "dc5c200ea94a48adbfd7aadc8e26b73d": {
     "views": []
    },
    "dcd119bc613745199b7b6089ae49b106": {
     "views": []
    },
    "e33d951f26dc461c8a2f770572e54064": {
     "views": []
    },
    "eea00adafb4b4bee82d95f32c60d2d48": {
     "views": [
      {
       "cell_index": 4
      }
     ]
    },
    "f5a5df8acae246eda7c37f081db3d4de": {
     "views": []
    }
   },
   "version": "1.0.0"
  }
 },
 "nbformat": 4,
 "nbformat_minor": 1
}
