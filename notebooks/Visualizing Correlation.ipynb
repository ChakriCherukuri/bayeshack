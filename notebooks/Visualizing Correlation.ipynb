{
 "cells": [
  {
   "cell_type": "code",
   "execution_count": 25,
   "metadata": {
    "collapsed": true
   },
   "outputs": [],
   "source": [
    "from __future__ import print_function\n",
    "import numpy as np\n",
    "import pandas as pd\n",
    "from bqplot import GridHeatMap, ColorAxis, ColorScale\n",
    "from IPython.display import display"
   ]
  },
  {
   "cell_type": "code",
   "execution_count": 26,
   "metadata": {
    "collapsed": true
   },
   "outputs": [],
   "source": [
    "data = pd.read_csv('./../analysis_data/other_race_corrected_merged_data.csv')\n",
    "data = data.ix[:, 2:]"
   ]
  },
  {
   "cell_type": "code",
   "execution_count": 27,
   "metadata": {
    "collapsed": true
   },
   "outputs": [],
   "source": [
    "corr_data = data.corr()"
   ]
  },
  {
   "cell_type": "code",
   "execution_count": 41,
   "metadata": {
    "collapsed": false
   },
   "outputs": [],
   "source": [
    "y_sc, col_sc = OrdinalScale(reverse=True), ColorScale(scheme='Reds')\n",
    "ax_c = ColorAxis(scale=col_sc, label='Correlations')\n",
    "grid_map = GridHeatMap(row=corr_data.columns.tolist(), color=corr_data, scales={'row': y_sc, 'color': col_sc})\n",
    "ax_y = Axis(scale=y_sc, orientation='vertical', side='right')\n",
    "\n",
    "fig = Figure(marks=[grid_map], axes=[ax_y, ax_c], padding_y=0.0, \n",
    "             fig_margin={'bottom': 60, 'left': 5, 'right': 110, 'top': 60})\n",
    "display(fig)"
   ]
  }
 ],
 "metadata": {
  "kernelspec": {
   "display_name": "Python 3",
   "language": "python",
   "name": "python3"
  },
  "language_info": {
   "codemirror_mode": {
    "name": "ipython",
    "version": 3
   },
   "file_extension": ".py",
   "mimetype": "text/x-python",
   "name": "python",
   "nbconvert_exporter": "python",
   "pygments_lexer": "ipython3",
   "version": "3.4.4"
  },
  "widgets": {
   "state": {
    "001e84485f674932af855393076742fa": {
     "views": []
    },
    "01dd09e0f2664075b0312e2c424144f1": {
     "views": []
    },
    "047d78ed62674350a0f9614405f68a89": {
     "views": []
    },
    "048a21cd4c654f01b5a0ea313c5845e6": {
     "views": []
    },
    "061e21b1bc034225bc42cb8132092d71": {
     "views": []
    },
    "07ddb0c52a184432bc2eba98b5f268a5": {
     "views": []
    },
    "08ff5676ebd74f3591318e69a426672e": {
     "views": []
    },
    "0a6fb756be7041069d15bacd57763483": {
     "views": []
    },
    "0ac31caec59340f592f2242ca21458f5": {
     "views": []
    },
    "0e9ff94c66664a30b097dacbd967eaaa": {
     "views": []
    },
    "1006a82ae65e4b06a2fda7b326a6eeb0": {
     "views": []
    },
    "13b15e0bed74471082f8992effd31c18": {
     "views": []
    },
    "1405dd7910cd441b8585b7fd00225a14": {
     "views": []
    },
    "1645b8cdafda45c5b10845fc32e092e3": {
     "views": []
    },
    "169ee1177eb346bc90ad82baa6a3f54c": {
     "views": []
    },
    "17a817394a9a4f299815319e2b4253dd": {
     "views": []
    },
    "1855b52148fc445ca61cc232cc13cf3a": {
     "views": []
    },
    "19c7b5d12b194f2c83f08cc5d6485e85": {
     "views": []
    },
    "19fbf15de5a145ceb8e38f196bb31814": {
     "views": []
    },
    "1b608e898e674f32841f4703d5d6fa66": {
     "views": []
    },
    "1d14a727a3bd47d284eb6288eea49798": {
     "views": []
    },
    "1d43668efa714257b9b8bbeea7f8be94": {
     "views": []
    },
    "1e1396a0a0744779a322bd67651a55c1": {
     "views": []
    },
    "1e8ac95d795c4993b2c2a75414623d54": {
     "views": []
    },
    "1ec3939453ac4d799f8b126d325b3dc4": {
     "views": []
    },
    "1f3ec72495a44f768e2e643dc2e59dc8": {
     "views": []
    },
    "1f7af87151064c788eb46c88af2f41e8": {
     "views": []
    },
    "20b623f264624a3abe30f86dfd0a49e5": {
     "views": []
    },
    "24164118ba934950aa60d7355a6eea45": {
     "views": []
    },
    "257c1ff1a3fd42f9a18fbb1b2064d500": {
     "views": []
    },
    "258463eb9c8f454abb7eaf9fe80686ff": {
     "views": []
    },
    "26103bfc0bf24a2398c489884d17d554": {
     "views": []
    },
    "26a4895e65b14d2298707b40ae25314c": {
     "views": []
    },
    "29f01b4722bb4f3ca6a1de8adcbad003": {
     "views": []
    },
    "2a0222057b9e414da677bf9889561348": {
     "views": []
    },
    "2af329bfeb5b41b891ce7c948bb18e55": {
     "views": []
    },
    "2e47689e9fce49fa91a27d2cb73a5e99": {
     "views": []
    },
    "2f00e21c7b2f46d0b47e922f69ba5e01": {
     "views": []
    },
    "32c08ae4660b4d33957b3a0e69cde865": {
     "views": []
    },
    "34567cfa650242479a2a80c7963fa2a7": {
     "views": []
    },
    "357aa24141534b8cbb24b8e6de84f616": {
     "views": []
    },
    "37dd9c5a2ad44eaaa85c8cc2017e8741": {
     "views": []
    },
    "3a16001ebf37458f8c80e5ccdf898f37": {
     "views": []
    },
    "3a1bd9a3c895438f90dfc64d670c1b12": {
     "views": []
    },
    "3ac86bf4d3e4429bbabd0a47060c2747": {
     "views": []
    },
    "3af96621ce6a4a7a9c0e8c8c44cc75ca": {
     "views": []
    },
    "3b2a9c324be5405085d584a4c04ecb04": {
     "views": []
    },
    "3df54cadde6d47bb81c2cfb957cb78a7": {
     "views": []
    },
    "40422e4669104e19b64698c9421a3dfd": {
     "views": []
    },
    "4cf1ee9cb429474ebd51288a1f751905": {
     "views": []
    },
    "4d665dd4e1204313aaa023b65c1b8f56": {
     "views": []
    },
    "4e8a82f797794e72abd86d291690b32a": {
     "views": [
      {
       "cell": {
        "cell_type": "code",
        "execution_count": 41,
        "metadata": {
         "collapsed": false,
         "trusted": true
        },
        "outputs": [],
        "source": "y_sc, col_sc = OrdinalScale(reverse=True), ColorScale(scheme='Reds')\nax_c = ColorAxis(scale=col_sc, label='Correlations')\ngrid_map = GridHeatMap(row=corr_data.columns.tolist(), color=corr_data, scales={'row': y_sc, 'color': col_sc})\nax_y = Axis(scale=y_sc, orientation='vertical', side='right')\n\nfig = Figure(marks=[grid_map], axes=[ax_y, ax_c], padding_y=0.0, \n             fig_margin={'bottom': 60, 'left': 5, 'right': 110, 'top': 60})\ndisplay(fig)"
       },
       "cell_index": 3,
       "root": true
      }
     ]
    },
    "4f850477c3da416dba532de571bfe644": {
     "views": []
    },
    "50616f5658cf48508220591beeb78498": {
     "views": []
    },
    "50a34c8ab8684860884e917e0cc76cb7": {
     "views": []
    },
    "5209aca6da7e46cf85ae419c2cec50e1": {
     "views": []
    },
    "5221bc738ca34e739c32d6590e44587c": {
     "views": []
    },
    "52eb74f1fa234fb3b53fe9cffaca131a": {
     "views": []
    },
    "53ae3c6a612e40d08245f2d3962972e9": {
     "views": []
    },
    "53bae57d320744c698ee1bc7abd6269b": {
     "views": []
    },
    "5ca3dba1bcbe46df846439d2e30359ad": {
     "views": []
    },
    "5eaea64d7b4648eeb9e6b47a2a79899c": {
     "views": []
    },
    "61596d1b5a4f414fa19568d3f1d424e6": {
     "views": []
    },
    "62897834b80a44e78eb73124bb667ff9": {
     "views": []
    },
    "65b1f417d7ef42838fce0a9fa6873830": {
     "views": []
    },
    "6720bfc3a0584e13a6752091a5fa85e3": {
     "views": []
    },
    "678e88cba5f849b0a6e5728a7e4a7007": {
     "views": []
    },
    "699b6f6072d147719043db56f84646d0": {
     "views": []
    },
    "69c4d51ae4164ba0954e1380bd394f39": {
     "views": []
    },
    "6a2c82510c76474895fd419728b50eed": {
     "views": []
    },
    "6e4b0ed29ed14ff8af604636b8cdfb57": {
     "views": []
    },
    "6f1147382e264ca491807657a8f500fb": {
     "views": []
    },
    "712c64b507bb4a7c875a2b99d305b61f": {
     "views": []
    },
    "713321bf31854ca385fc910871d4bef0": {
     "views": []
    },
    "728778c0a7a146da87b650d849cde99d": {
     "views": []
    },
    "741c530ee0214441926e83dc05c1c5b9": {
     "views": []
    },
    "753cfd05831a4677bba62053e893faa4": {
     "views": []
    },
    "757f750dc0ef433dabee2dd1f9ebf4e8": {
     "views": []
    },
    "7635d6598498452ebeab498133ad3156": {
     "views": []
    },
    "764f8f48bf97404cadde7cad352d261e": {
     "views": []
    },
    "770b9285fe8741edb64be140c88a32d7": {
     "views": []
    },
    "7d2b12bc6792432ba4300f4f4a58d442": {
     "views": []
    },
    "7dfd115713c34ef6ac8012a6bdd18867": {
     "views": []
    },
    "7e36f9ccde174e52a81a01f2414851d7": {
     "views": []
    },
    "7eaa81d27d6341749a1c97c75e73df10": {
     "views": []
    },
    "80712a3e2c3b40d7a94704042a47846e": {
     "views": []
    },
    "81d73044d0e949c1a4365f2014eead65": {
     "views": []
    },
    "82b48bb0fcdf4a59a5de3b3dddf6fd5a": {
     "views": []
    },
    "8861be3e0f0f4f7d9bad1ec54c8b2a63": {
     "views": []
    },
    "8f741f896e904caf92396048f0850a5d": {
     "views": []
    },
    "920027e70c7a44faa134d8f4151050e6": {
     "views": []
    },
    "95688b8f0e624ff18e9e76963508c4ef": {
     "views": []
    },
    "958693e69e74496db28935c495fdd92d": {
     "views": []
    },
    "963003c3380c42ff84eb8f6bcd2aa616": {
     "views": []
    },
    "966146725f8c4a809c3e4737e8090d53": {
     "views": []
    },
    "98d36906eee74fdaabb824160cedfd51": {
     "views": []
    },
    "9b1a5eeaec90473ea8cbf2ab014cb294": {
     "views": []
    },
    "9d35e7811b90427ea8e334c81569637c": {
     "views": []
    },
    "9dba49a4f9b841cdbd6822093658d695": {
     "views": []
    },
    "9dcf5a8dba2e4078bbb8fb9c92aea36f": {
     "views": []
    },
    "9fb0f4c6fbe24ca082685d310bd75085": {
     "views": []
    },
    "a0070f99bb9f4b79a57731a1a20fa2fb": {
     "views": []
    },
    "a042e23dd3ba471ebc4e94cfd3412781": {
     "views": []
    },
    "a065c2d6d3b6484c85b0b679adb51a89": {
     "views": []
    },
    "a0d4f0eb80ae41cca4bf94bab30ba87c": {
     "views": []
    },
    "a222544f8f4f4197bde7627fbee9db8d": {
     "views": []
    },
    "a382dec499c64615b9678018092858de": {
     "views": []
    },
    "a4679544d8c54dc3a91319b6d031181a": {
     "views": []
    },
    "a4833744ee194ebaaf789cd74c21e62e": {
     "views": []
    },
    "a6623b72b3364219add21df31924e5f3": {
     "views": []
    },
    "a6e54541c3da4767a81dddf0b922b63a": {
     "views": []
    },
    "a89a2e1a488c48258e790335d2e03ba7": {
     "views": []
    },
    "a901303e036e43da94252db9a5664adc": {
     "views": []
    },
    "a9f80eeb3c534c29b6d7a977fe48d648": {
     "views": []
    },
    "ae63b1502e8a4705b042e1e93a1585bd": {
     "views": []
    },
    "aef7caa641b341239962531f4cfb77ec": {
     "views": []
    },
    "af0955a3003a46c7b166dd0adb9f95fb": {
     "views": []
    },
    "b5d141f94c8f401996ec2313806dccbf": {
     "views": []
    },
    "b5ea5efc484644718cda18f6a7c06488": {
     "views": []
    },
    "b6d22db39ab2427381481a6d38f40168": {
     "views": []
    },
    "b758f107613f488a9373a4ac5a41bf77": {
     "views": []
    },
    "b86438b0a3484aa2ac63041ccad09f27": {
     "views": []
    },
    "b89e6e93d39f4e6c8a490664bf675208": {
     "views": []
    },
    "b8d1b0a08de84baf954b167c043e2228": {
     "views": []
    },
    "b9595069df1c4df780bd79ddc2b72e6a": {
     "views": []
    },
    "ba50a428d2fc4fbcbc0a6a4da59b440f": {
     "views": []
    },
    "bb68f0849fc04268a4a149b89b4bab45": {
     "views": []
    },
    "bb99841cffe2454c8908ea74c39592f5": {
     "views": []
    },
    "be217a79262241eca9823bc2a8c87187": {
     "views": []
    },
    "bf33f877b18647a1a455ef3354dce69a": {
     "views": []
    },
    "bf6937dc46754db086a83a92f77844d6": {
     "views": []
    },
    "bf8fbf4734914ea0aa122cc71148972c": {
     "views": []
    },
    "c3651c6142a3420b8440f253132b64d2": {
     "views": []
    },
    "c38c4555357643c69e323667cfcc0c5b": {
     "views": []
    },
    "c5a8cd74c1b2410ca574ab9bd5f9a42a": {
     "views": []
    },
    "c8f7c1c3db0a4e0e97dd3549ff4ba18f": {
     "views": []
    },
    "c95e4b6dc74c479fa35a00725b85afad": {
     "views": []
    },
    "ce910953cdf04490a255d6603dbe71a9": {
     "views": []
    },
    "cee6b5e24d6b41ddbe4b6767686658e7": {
     "views": []
    },
    "cf42ec6bd95c4b789f0373b7fe29a0fa": {
     "views": []
    },
    "cf5fe7b99fd8471c9229f8bf26205870": {
     "views": []
    },
    "d4277a4cc2f54c52953874cbef654b4a": {
     "views": []
    },
    "d50800722d0949e7aa1f2848e5bab747": {
     "views": []
    },
    "d5d4fe5fe96f46e1acab6b5c15ace265": {
     "views": []
    },
    "da551e9c505f4f4c88275cd8c576be0f": {
     "views": []
    },
    "db4210349a2f4654b5d522ab08173c66": {
     "views": []
    },
    "dc391a1d6bac4ecdaebf024063270cf2": {
     "views": []
    },
    "dd1d5bade4cd487780b0af2cea7e1e7a": {
     "views": []
    },
    "ddf4b56958994207ab5f4e3fdde917e8": {
     "views": []
    },
    "deb92e370c264945ab39bdcbf9a1227c": {
     "views": []
    },
    "dfb55e9fdea7402b812f3a6396d081ff": {
     "views": []
    },
    "dfe36dc12b434991acb2c6b200d951ba": {
     "views": []
    },
    "e644514faccd401c93db23b2d0644b52": {
     "views": []
    },
    "e65bb9c74ce348b384fb9fec56a2ab76": {
     "views": []
    },
    "e74c76d3709e48fda7fa5dee82c640b5": {
     "views": []
    },
    "e9ba64a74ffb4c3fb1b23cb98d08bae6": {
     "views": []
    },
    "e9daa83ff63c4882b742091d468951c1": {
     "views": []
    },
    "ea19463002bf4373a806f0c3578c9913": {
     "views": []
    },
    "ed96d43a40734b6095c9846f0bd31946": {
     "views": []
    },
    "f0108933f35441918dced8ee663336fd": {
     "views": []
    },
    "f1d4b1d7617f4250ace0e7444abf99a5": {
     "views": []
    },
    "f23060cfa7ce43f4a9be98af03423a1d": {
     "views": []
    },
    "f236bd799b194bbebe443977ac457ea9": {
     "views": []
    },
    "f430f50be74d4f25b829fb97022ff9e0": {
     "views": []
    },
    "f46f9c27a8dd49378e61367b0270021e": {
     "views": []
    },
    "f4e4e05c826b454fadee9e26e3eaa994": {
     "views": []
    },
    "f962cb661ad74c1d8265990653e575f1": {
     "views": []
    },
    "fc41f2ce344648d98bd5b6ef0c70385e": {
     "views": []
    },
    "fc4567286acd4fcfb3629a9d2749b8b3": {
     "views": []
    },
    "fe0852db1bde4dbfaec3463541c4b00a": {
     "views": []
    },
    "fe0d87d6c38c4d328b094e98acd74141": {
     "views": []
    },
    "fed2e0cbefab49f08845e9df363b52db": {
     "views": []
    },
    "ff8d8851e61e4979a6aa2625ce807c25": {
     "views": []
    }
   },
   "version": "1.0.0"
  }
 },
 "nbformat": 4,
 "nbformat_minor": 1
}
