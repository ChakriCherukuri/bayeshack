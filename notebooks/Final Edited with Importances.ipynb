{
 "cells": [
  {
   "cell_type": "code",
   "execution_count": 80,
   "metadata": {
    "collapsed": true
   },
   "outputs": [],
   "source": [
    "from __future__ import print_function\n",
    "\n",
    "# Jupyter display\n",
    "from IPython.display import display\n",
    "\n",
    "# json\n",
    "import json\n",
    "\n",
    "# widgets\n",
    "import ipywidgets as widgets\n",
    "import bqplot as bq\n",
    "import ipyleaflet as ll\n",
    "\n",
    "# numerics\n",
    "import pandas as pd\n",
    "import numpy as np\n",
    "\n",
    "# colormap\n",
    "import matplotlib as mpl\n",
    "import matplotlib.cm\n",
    "import matplotlib.colors\n",
    "\n",
    "def n_colors(n, colormap=mpl.cm.Blues):\n",
    "    data = np.linspace(0.0,1.0,n)\n",
    "    c = [mpl.colors.rgb2hex(d[0:3]) for d in colormap(data)]\n",
    "    return c\n",
    "\n",
    "def data_to_colors(data, colormap=mpl.cm.plasma):\n",
    "    c = [mpl.colors.rgb2hex(d[0:3]) for d in colormap(mpl.colors.Normalize()(data))]\n",
    "    return c"
   ]
  },
  {
   "cell_type": "markdown",
   "metadata": {},
   "source": [
    "# Satisfaction Score by ZIP Code"
   ]
  },
  {
   "cell_type": "code",
   "execution_count": 81,
   "metadata": {
    "collapsed": false
   },
   "outputs": [],
   "source": [
    "survey_map = ll.Map(center=[37.7749, -122.34580993652344], zoom=12, layout=widgets.Layout(height='450px'))\n",
    "\n",
    "survey_data = pd.read_csv('./../analysis_data/scores_by_zipcodes.csv', header=None)\n",
    "survey_colors = data_to_colors(survey_data.ix[:, 1], colormap=mpl.cm.Greens)\n",
    "zips = [str(int(i)) for i in survey_data.ix[:, 0]]\n",
    "cols = {}\n",
    "\n",
    "for i in range(len(zips)):\n",
    "    cols[zips[i]] = survey_colors[i]\n",
    "\n",
    "# Survey layer\n",
    "with open('./../mapdata/sf_zipcodes.geojson') as f:\n",
    "    data = json.load(f)\n",
    "\n",
    "for feature in data['features']:\n",
    "    feature['properties']['style'] = {\n",
    "        'color': cols[feature['id']],\n",
    "        'weight': 1,\n",
    "        'fillColor': cols[feature['id']],\n",
    "        'fillOpacity': 0.65,\n",
    "    }\n",
    "\n",
    "survey_layer = ll.GeoJSON(data=data, hover_style={'fillColor': 'red'})\n",
    "survey_map += survey_layer\n",
    "\n",
    "with open('./../mapdata/bayarea_nosf_zipcodes.geojson') as f:\n",
    "    bay_data = json.load(f)\n",
    "    \n",
    "# Grey layer\n",
    "grey_colors = n_colors(len(bay_data['features']), colormap=mpl.cm.Greys)\n",
    "\n",
    "for feature, color in zip(bay_data['features'], grey_colors):\n",
    "    feature['properties']['style'] = {\n",
    "        'color': 'grey',\n",
    "        'weight': 1,\n",
    "        'fillColor': 'grey',\n",
    "        'fillOpacity': 0.2\n",
    "    }\n",
    "\n",
    "grey_layer = ll.GeoJSON(data=bay_data, hover_style={'fillColor': 'red'})\n",
    "\n",
    "survey_map.add_layer(grey_layer)\n",
    "\n",
    "survey_map"
   ]
  },
  {
   "cell_type": "markdown",
   "metadata": {},
   "source": [
    "# Neighborhood features"
   ]
  },
  {
   "cell_type": "code",
   "execution_count": 82,
   "metadata": {
    "collapsed": false
   },
   "outputs": [],
   "source": [
    "feature_map = ll.Map(center=[37.7749, -122.34580993652344], zoom=12, layout=widgets.Layout(height='450px'))\n",
    "tract_data = pd.read_csv('./../data/CensusData/sfo data/tract_data_normalized.csv')\n",
    "colors = data_to_colors(tract_data['pct_bachelors'], colormap=mpl.cm.Reds)\n",
    "tracts = [str(int(i)) for i in tract_data.ix[:, 0].values]\n",
    "\n",
    "cols = {}\n",
    "for i in range(len(tracts)):\n",
    "    cols[tracts[i][4:]] = colors[i]\n",
    "\n",
    "with open('./../mapdata/sf_tracts.geojson') as f:\n",
    "    data = json.load(f)\n",
    "for feature in data['features']:\n",
    "    try:\n",
    "        style_col = cols[feature['properties']['tractce10']]\n",
    "    except KeyError:\n",
    "        style_col = 'Grey'\n",
    "    feature['properties']['style'] = {\n",
    "        'color': style_col,\n",
    "        'weight': 1,\n",
    "        'fillColor': style_col,\n",
    "        'fillOpacity': 0.75,\n",
    "    }\n",
    "\n",
    "feature_layer = ll.GeoJSON(data=data)\n",
    "feature_map += feature_layer\n",
    "\n",
    "data_columns = [\n",
    "      'pct_bachelors',\n",
    "      'labor_part_rate',\n",
    "      'pct_welfare',\n",
    "      'low_pov_idx',\n",
    "      'labor_idx',\n",
    "      'env_health_idx',\n",
    "      'hispanic',\n",
    "      'white',\n",
    "      'black',\n",
    "      'american_indian',\n",
    "      'asian',\n",
    "      'pac_islander',\n",
    "      'other_races',\n",
    "      'two_races',\n",
    "      'housing_cost',\n",
    "      'transportation_cost',\n",
    "      'pub_school_score',\n",
    "      'pr_school_score',\n",
    "      'rest_score',\n",
    "      'rest_proximity']\n",
    "\n",
    "dpdown = widgets.Dropdown(options=data_columns, value='pct_bachelors')\n",
    "\n",
    "def update_dpdown(change):\n",
    "    value = change['new']\n",
    "    colors = data_to_colors(tract_data[value], colormap=mpl.cm.Reds)\n",
    "    cols = {}\n",
    "    for i in range(len(tracts)):\n",
    "        cols[tracts[i][4:]] = colors[i]\n",
    "    for feature in data['features']:\n",
    "        try:\n",
    "            style_col = cols[feature['properties']['tractce10']]\n",
    "        except KeyError:\n",
    "            style_col = 'grey'\n",
    "        feature['properties']['style'] = {\n",
    "            'color': style_col,\n",
    "            'weight': 1,\n",
    "            'fillColor': style_col,\n",
    "            'fillOpacity': 0.75,\n",
    "        }\n",
    "        \n",
    "    feature_layer = ll.GeoJSON(data=data)\n",
    "    \n",
    "    feature_map.layers = [feature_map.layers[0], feature_layer]\n",
    "    \n",
    "dpdown.observe(update_dpdown, names=['value'])\n",
    "\n",
    "feature_map.layout.align_self = 'stretch'\n",
    "display(widgets.VBox([feature_map, dpdown]))"
   ]
  },
  {
   "cell_type": "markdown",
   "metadata": {},
   "source": [
    "# From the Features to the Satisfaction Index"
   ]
  },
  {
   "cell_type": "code",
   "execution_count": 83,
   "metadata": {
    "collapsed": false
   },
   "outputs": [],
   "source": [
    "ordinal_features_scale = bq.OrdinalScale()\n",
    "values_features_scale = bq.LinearScale()\n",
    "value_axis = bq.Axis(scale=values_features_scale, orientation='vertical')\n",
    "\n",
    "bars = bq.Bars(x=data_columns, y=np.zeros(len(data_columns)), \n",
    "               scales={\n",
    "        'x': ordinal_features_scale,\n",
    "        'y': values_features_scale\n",
    "    })\n",
    "\n",
    "indication = bq.Label(x=0.9, y=0.5, text='Hover On Map', font_size='50px', color='gray')\n",
    "\n",
    "ui_map = ll.Map(center=[37.7449, -122.42580993652344], zoom=11, layout=widgets.Layout(width='450px', height='450px'))\n",
    "ui_map.add_layer(survey_layer)\n",
    "ui_map.add_layer(grey_layer)\n",
    "\n",
    "predictors = pd.read_csv('./../analysis_data/predictors.csv').set_index('zip code')\n",
    "\n",
    "def scores(zip_code):\n",
    "    if zip_code in predictors.index:\n",
    "        dic = predictors.ix[zip_code].to_dict()\n",
    "        return [dic[v] for v in data_columns]\n",
    "    else:\n",
    "        return np.zeros(len(data_columns))\n",
    "\n",
    "def hover_handler(event=None, id=None, properties=None):\n",
    "    figure.marks = [bars]\n",
    "    bars.y = scores(int(id))\n",
    "\n",
    "survey_layer.on_hover(hover_handler)\n",
    "\n",
    "figure = bq.Figure(axes=[value_axis], marks=[bars, indication],\n",
    "                   title='Predictors',\n",
    "                   animation_duration=500, min_width=300, min_height=500)\n",
    "\n",
    "\n",
    "widgets.HBox([ui_map, figure])"
   ]
  },
  {
   "cell_type": "markdown",
   "metadata": {},
   "source": [
    "#### Bar chart with reduced data"
   ]
  },
  {
   "cell_type": "code",
   "execution_count": 84,
   "metadata": {
    "collapsed": false
   },
   "outputs": [],
   "source": [
    "ordinal_features_scale = bq.OrdinalScale()\n",
    "values_features_scale = bq.LinearScale()\n",
    "ord_axis = bq.Axis(scale=ordinal_features_scale)\n",
    "value_axis = bq.Axis(scale=values_features_scale, orientation='vertical')\n",
    "\n",
    "predictors = pd.read_csv('./../analysis_data/predictors.csv').set_index('zip code')\n",
    "imp_predictors = predictors.loc[:, ('env_health_idx', 'labor_idx', 'housing_cost', 'transportation_cost', 'crime_index',\n",
    "                                       'pub_school_score', 'rest_proximity')]\n",
    "imp_predictors.columns=['Environment', 'Labor', 'Housing', 'Transport', 'Crime', 'Schools', 'Resta']\n",
    "columns_reduced = imp_predictors.columns.values\n",
    "mean_scores = imp_predictors.mean().values\n",
    "\n",
    "bars = bq.Bars(x=columns_reduced, y=np.ones(len(columns_reduced)), \n",
    "               scales={\n",
    "        'x': ordinal_features_scale,\n",
    "        'y': values_features_scale\n",
    "    }, base=1.0)\n",
    "\n",
    "\n",
    "indication = bq.Label(x=0.9, y=0.5, text='Hover On Map', font_size='50px', color='gray')\n",
    "\n",
    "ui_map = ll.Map(center=[37.7449, -122.42580993652344], zoom=11, layout=widgets.Layout(width='450px', height='450px'))\n",
    "ui_map.add_layer(survey_layer)\n",
    "ui_map.add_layer(grey_layer)\n",
    "\n",
    "\n",
    "def scores(zip_code):\n",
    "    if zip_code in imp_predictors.index:\n",
    "        dic = imp_predictors.ix[zip_code].to_dict()\n",
    "        return [dic[v] for v in columns_reduced]\n",
    "    else:\n",
    "        return np.ones(len(columns_reduced))\n",
    "\n",
    "def hover_handler(event=None, id=None, properties=None):\n",
    "    figure.marks = [bars]\n",
    "    bars.y = scores(int(id)) / mean_scores\n",
    "\n",
    "survey_layer.on_hover(hover_handler)\n",
    "\n",
    "figure = bq.Figure(axes=[value_axis, ord_axis], marks=[bars, indication],\n",
    "                   title='Predictors',\n",
    "                   animation_duration=500, min_width=300, min_height=500)\n",
    "\n",
    "widgets.HBox([ui_map, figure])"
   ]
  },
  {
   "cell_type": "markdown",
   "metadata": {
    "collapsed": true
   },
   "source": [
    "#### Feature Importances"
   ]
  },
  {
   "cell_type": "code",
   "execution_count": 85,
   "metadata": {
    "collapsed": false
   },
   "outputs": [],
   "source": [
    "scores_data = survey_data.set_index(0)\n",
    "joint_df = pd.concat([imp_predictors, scores_data], axis=1).dropna()\n",
    "preds = joint_df.iloc[:, :-1].values\n",
    "response = joint_df.iloc[:, -1].values"
   ]
  },
  {
   "cell_type": "code",
   "execution_count": 86,
   "metadata": {
    "collapsed": false
   },
   "outputs": [],
   "source": [
    "from sklearn.ensemble import RandomForestRegressor, GradientBoostingRegressor"
   ]
  },
  {
   "cell_type": "code",
   "execution_count": 87,
   "metadata": {
    "collapsed": true
   },
   "outputs": [],
   "source": [
    "rf = RandomForestRegressor(max_features=2, min_samples_leaf=2, n_estimators=100, oob_score=True,\n",
    "                           n_jobs=-1)"
   ]
  },
  {
   "cell_type": "code",
   "execution_count": 88,
   "metadata": {
    "collapsed": false
   },
   "outputs": [],
   "source": [
    "num_iter = 10\n",
    "imps = np.zeros(preds.shape[1])\n",
    "in_sample_scores = 0.\n",
    "out_sample_scores = 0.\n",
    "\n",
    "for it in range(num_iter):\n",
    "    rf.fit(preds, response)\n",
    "    imps += rf.feature_importances_\n",
    "    in_sample_scores += rf.score(preds, response)\n",
    "    out_sample_scores += rf.oob_score_"
   ]
  },
  {
   "cell_type": "code",
   "execution_count": 90,
   "metadata": {
    "collapsed": false
   },
   "outputs": [],
   "source": [
    "from bqplot import pyplot as pl"
   ]
  },
  {
   "cell_type": "code",
   "execution_count": 92,
   "metadata": {
    "collapsed": false
   },
   "outputs": [],
   "source": [
    "pl.figure(title='Importances of various factors for predicting the Satisfaction of a Neighborhood')\n",
    "pl.bar(imp_predictors.columns.values.astype(str), imps)\n",
    "pl.show()"
   ]
  }
 ],
 "metadata": {
  "kernelspec": {
   "display_name": "Python 2",
   "language": "python",
   "name": "python2"
  },
  "language_info": {
   "codemirror_mode": {
    "name": "ipython",
    "version": 2
   },
   "file_extension": ".py",
   "mimetype": "text/x-python",
   "name": "python",
   "nbconvert_exporter": "python",
   "pygments_lexer": "ipython2",
   "version": "2.7.11"
  },
  "widgets": {
   "state": {
    "02cae231369c46e9bc85b10b4952feb8": {
     "views": []
    },
    "079fed0a573149b59ca84079b445ff16": {
     "views": []
    },
    "09baafacc50a437f908efcf97cf398f0": {
     "views": []
    },
    "0b33dd937a6947b2bc80c02b72cd25bb": {
     "views": []
    },
    "0c98870791b8487ea20b22bef8ce51d6": {
     "views": []
    },
    "0f25fbc546a2407d8db6f3d25433bf1f": {
     "views": []
    },
    "1047f9d724c64769be98ec5b35128a24": {
     "views": []
    },
    "130ab06e04c446d8b33e3d0154a71b14": {
     "views": []
    },
    "14a49419b24a43548231f364e9279e22": {
     "views": []
    },
    "161d0ebca33840fd9457b827ac6e9917": {
     "views": []
    },
    "162c4baeb04247abab0cf14b60894208": {
     "views": []
    },
    "1691ad4ab54e46ef9b2c8b7767fd8449": {
     "views": []
    },
    "1dac6cf9c0704fa68f2a52022363ed32": {
     "views": []
    },
    "1f5ef404a43e45e2be01054d82b6fe2e": {
     "views": []
    },
    "20361d0ca3d34dd286966b059e47436f": {
     "views": []
    },
    "205df9b16ab74f8e9756386b90e4e2a9": {
     "views": []
    },
    "2496669f749e41da8ab3bfc5b68c06e2": {
     "views": []
    },
    "2670725a75384f4d97e12ed8f592a21e": {
     "views": []
    },
    "2af2971600854bbfb02e06aa739760f5": {
     "views": []
    },
    "2c07a7b600524e44a49b5147538935a1": {
     "views": []
    },
    "2c5b8806fbd94742863efc49f230edf3": {
     "views": []
    },
    "2ca0881c640347ab9fd0fac236d6dab4": {
     "views": []
    },
    "3042c6d5438443eab013a1281f6e717b": {
     "views": []
    },
    "33593803f02e42a08b5b3e414a6b2498": {
     "views": []
    },
    "3425437b2341410eabaa8c85167e23e4": {
     "views": []
    },
    "3444fb643b674f649e05e3a7ce30a62d": {
     "views": []
    },
    "3611c48fb871446ebdf856223701ddc7": {
     "views": []
    },
    "39400acb2c0844229e0d88b2bd108cce": {
     "views": []
    },
    "39e9a334d96e4b5d901e72e51c16b04d": {
     "views": []
    },
    "3a7bf609270f49ac967d46b18ed9b2a2": {
     "views": []
    },
    "3c2423c3dd174aa3b2e6f892a1d5fc11": {
     "views": [
      {
       "cell": {
        "cell_type": "code",
        "execution_count": 92,
        "metadata": {
         "collapsed": false,
         "trusted": true
        },
        "outputs": [],
        "source": "pl.figure(title='Importances of various factors for predicting the Satisfaction of a Neighborhood')\npl.bar(imp_predictors.columns.values.astype(str), imps)\npl.show()"
       },
       "cell_index": 16,
       "root": true
      }
     ]
    },
    "3ced495015d0441f8420b8e0641fc4bb": {
     "views": []
    },
    "3d106e8f05d74a8793f35a50e5e486f9": {
     "views": []
    },
    "425ab897dfec498694829baaaf6c6aa9": {
     "views": []
    },
    "447e975718a748b681cdcedcd7cad699": {
     "views": []
    },
    "4572c8997bb340e488cfb21a50e6d889": {
     "views": []
    },
    "4a0437237bea47628acb5a51afb8a998": {
     "views": []
    },
    "4b6aa8bb519c488f874a641c6c6b0eb5": {
     "views": []
    },
    "4d60c1f17b08409c8dd3cd494ab56272": {
     "views": []
    },
    "4f1aa4b7670b4d1da41ecdfb36ae932a": {
     "views": []
    },
    "4f622e4efd7247a58695cdc9fcf3edb7": {
     "views": []
    },
    "50916450163d475b80622ebcfc958dce": {
     "views": []
    },
    "52028802f85445d68a30da451b7c0055": {
     "views": []
    },
    "527cfb7e1ad04cf5bc2f45fe95475f50": {
     "views": []
    },
    "5320a43aab974fb783bbf93f0545870b": {
     "views": []
    },
    "53e5ac3b97294c728cd4fadc983b2e3c": {
     "views": []
    },
    "555bfb0de19a4acea9e78f4eb1eb67c8": {
     "views": []
    },
    "5646972942354061af3cc492cbf254e7": {
     "views": []
    },
    "56c4cc864b7d4acb9dad79b73733fd16": {
     "views": []
    },
    "5e9eaaf884954d358625a3195fe0eeab": {
     "views": []
    },
    "5eaa531a00ea4181b00d38a9cef9e6b4": {
     "views": []
    },
    "629414ecacde40c9a457f8a331fedad5": {
     "views": []
    },
    "62de0bee78c94a6496738a80f0296b3f": {
     "views": []
    },
    "656672c6a52644d490b0b69f590911b0": {
     "views": []
    },
    "657a23b7981b44cf9881877546130c8b": {
     "views": []
    },
    "667f2c2918f442ea89246f5da5837864": {
     "views": []
    },
    "66a3067a2b4f42518532df1ebe380227": {
     "views": []
    },
    "679b195b6261460797961800ae377b4b": {
     "views": []
    },
    "68524f9eb74b4d4b852d8e12d35817bb": {
     "views": []
    },
    "6880a608c56a4c7aaa1f022a89db8b1c": {
     "views": []
    },
    "6ae004ede8384c628bc33a90c44d763e": {
     "views": []
    },
    "6c39f0985c824019904bf6d63e7ab8ed": {
     "views": []
    },
    "6dfa49a4eae74082be166b6ee9ccda51": {
     "views": []
    },
    "6e7b189910ba447f8a5fa9cb7da190ae": {
     "views": []
    },
    "6f2c0683bccf491c89b0b476600b2e5b": {
     "views": []
    },
    "72300ccf60524c9494858bb7272b7847": {
     "views": []
    },
    "75efabb2c2b24ba29171cd9bb381d618": {
     "views": []
    },
    "7b781379756f4e8a893adcfc2676989b": {
     "views": []
    },
    "7ce22d2955ba45d29d69986d09d3aa3a": {
     "views": []
    },
    "8329c525cfe54159ad476073041b946c": {
     "views": []
    },
    "842a7cc4ec4846b3b434dcab7f31c4a4": {
     "views": []
    },
    "84702343e03c465a9afd1ee8c11a12de": {
     "views": []
    },
    "85053cdea28940748877a9a39c162297": {
     "views": []
    },
    "8632d4e262e84ca785977b8d2b10ac71": {
     "views": []
    },
    "877d4f2a5c3a40f48f3741543aa34ff4": {
     "views": []
    },
    "897e2975654b48e5ade5e008048a8988": {
     "views": []
    },
    "89858c9a2b7a4eea845f3143967b4d3d": {
     "views": []
    },
    "8a20e202696240f1b00ab786dec83d56": {
     "views": []
    },
    "8e403becff9c4363992c90247ed87c18": {
     "views": []
    },
    "8fbf5a4db4144e518fc6bc905196b867": {
     "views": []
    },
    "90423715f6a9472cb8154b598a103990": {
     "views": []
    },
    "93800282042f4c33b07e94265c4322d2": {
     "views": []
    },
    "9723a976031e40549db9df254f1c0500": {
     "views": []
    },
    "97d39dda312c4bcda0f54fb83c824b97": {
     "views": []
    },
    "998ea61345c14355aebcf26320bea87b": {
     "views": []
    },
    "99f311468477492f93fbfff20d97d5d5": {
     "views": []
    },
    "9a3606f4e107474ea6ae11f976826264": {
     "views": [
      {
       "cell": {
        "cell_type": "code",
        "execution_count": 84,
        "metadata": {
         "collapsed": false,
         "trusted": true
        },
        "outputs": [],
        "source": "ordinal_features_scale = bq.OrdinalScale()\nvalues_features_scale = bq.LinearScale()\nord_axis = bq.Axis(scale=ordinal_features_scale)\nvalue_axis = bq.Axis(scale=values_features_scale, orientation='vertical')\n\npredictors = pd.read_csv('./../analysis_data/predictors.csv').set_index('zip code')\nimp_predictors = predictors.loc[:, ('env_health_idx', 'labor_idx', 'housing_cost', 'transportation_cost', 'crime_index',\n                                       'pub_school_score', 'rest_proximity')]\nimp_predictors.columns=['Environment', 'Labor', 'Housing', 'Transport', 'Crime', 'Schools', 'Resta']\ncolumns_reduced = imp_predictors.columns.values\nmean_scores = imp_predictors.mean().values\n\nbars = bq.Bars(x=columns_reduced, y=np.ones(len(columns_reduced)), \n               scales={\n        'x': ordinal_features_scale,\n        'y': values_features_scale\n    }, base=1.0)\n\n\nindication = bq.Label(x=0.9, y=0.5, text='Hover On Map', font_size='50px', color='gray')\n\nui_map = ll.Map(center=[37.7449, -122.42580993652344], zoom=11, layout=widgets.Layout(width='450px', height='450px'))\nui_map.add_layer(survey_layer)\nui_map.add_layer(grey_layer)\n\n\ndef scores(zip_code):\n    if zip_code in imp_predictors.index:\n        dic = imp_predictors.ix[zip_code].to_dict()\n        return [dic[v] for v in columns_reduced]\n    else:\n        return np.ones(len(columns_reduced))\n\ndef hover_handler(event=None, id=None, properties=None):\n    figure.marks = [bars]\n    bars.y = scores(int(id)) / mean_scores\n\nsurvey_layer.on_hover(hover_handler)\n\nfigure = bq.Figure(axes=[value_axis, ord_axis], marks=[bars, indication],\n                   title='Predictors',\n                   animation_duration=500, min_width=300, min_height=500)\n\nwidgets.HBox([ui_map, figure])"
       },
       "cell_index": 8,
       "root": true
      }
     ]
    },
    "9c0c643651a241f79cb9cadd4a6ec661": {
     "views": []
    },
    "9c2ba8da2b194c4c86d4d7cef8a59a4e": {
     "views": []
    },
    "9e3227970c90412585c91e091dd4c203": {
     "views": []
    },
    "a0791270e8e84e9fa8dedb335da0ae76": {
     "views": []
    },
    "a18ddf731e9b472689905e6b27b8adc8": {
     "views": []
    },
    "a35abfa6a2cb4f2d85216f89d2dad46c": {
     "views": []
    },
    "a38e5fa374774776b12acae46a4a5c26": {
     "views": []
    },
    "a45d0da88f4f479b9301978add49c292": {
     "views": []
    },
    "a619c28e2f37427fabd1d5711d4ab2c7": {
     "views": []
    },
    "a68abef41ca14a0180a4a6e7839e3caa": {
     "views": []
    },
    "a6b2d869636c4555818d464191225920": {
     "views": []
    },
    "aa0da43b97e74239b5465fb78b2133d7": {
     "views": []
    },
    "aa54f1cb4e7d4865b80e21778a1b55f1": {
     "views": []
    },
    "aca37f88fb5342db8a36d99b9d37a919": {
     "views": []
    },
    "ad63e7bd5429407c8c8bf07404fe661b": {
     "views": []
    },
    "ad8db8be822549829262ec99cb392d16": {
     "views": []
    },
    "b1163b6e64574b9aaa8310f77d76b38f": {
     "views": []
    },
    "b441f14476c04905a3d74aa54c565471": {
     "views": [
      {
       "cell": {
        "cell_type": "code",
        "execution_count": 82,
        "metadata": {
         "collapsed": false,
         "trusted": true
        },
        "outputs": [],
        "source": "feature_map = ll.Map(center=[37.7749, -122.34580993652344], zoom=12, layout=widgets.Layout(height='450px'))\ntract_data = pd.read_csv('./../data/CensusData/sfo data/tract_data_normalized.csv')\ncolors = data_to_colors(tract_data['pct_bachelors'], colormap=mpl.cm.Reds)\ntracts = [str(int(i)) for i in tract_data.ix[:, 0].values]\n\ncols = {}\nfor i in range(len(tracts)):\n    cols[tracts[i][4:]] = colors[i]\n\nwith open('./../mapdata/sf_tracts.geojson') as f:\n    data = json.load(f)\nfor feature in data['features']:\n    try:\n        style_col = cols[feature['properties']['tractce10']]\n    except KeyError:\n        style_col = 'Grey'\n    feature['properties']['style'] = {\n        'color': style_col,\n        'weight': 1,\n        'fillColor': style_col,\n        'fillOpacity': 0.75,\n    }\n\nfeature_layer = ll.GeoJSON(data=data)\nfeature_map += feature_layer\n\ndata_columns = [\n      'pct_bachelors',\n      'labor_part_rate',\n      'pct_welfare',\n      'low_pov_idx',\n      'labor_idx',\n      'env_health_idx',\n      'hispanic',\n      'white',\n      'black',\n      'american_indian',\n      'asian',\n      'pac_islander',\n      'other_races',\n      'two_races',\n      'housing_cost',\n      'transportation_cost',\n      'pub_school_score',\n      'pr_school_score',\n      'rest_score',\n      'rest_proximity']\n\ndpdown = widgets.Dropdown(options=data_columns, value='pct_bachelors')\n\ndef update_dpdown(change):\n    value = change['new']\n    colors = data_to_colors(tract_data[value], colormap=mpl.cm.Reds)\n    cols = {}\n    for i in range(len(tracts)):\n        cols[tracts[i][4:]] = colors[i]\n    for feature in data['features']:\n        try:\n            style_col = cols[feature['properties']['tractce10']]\n        except KeyError:\n            style_col = 'grey'\n        feature['properties']['style'] = {\n            'color': style_col,\n            'weight': 1,\n            'fillColor': style_col,\n            'fillOpacity': 0.75,\n        }\n        \n    feature_layer = ll.GeoJSON(data=data)\n    \n    feature_map.layers = [feature_map.layers[0], feature_layer]\n    \ndpdown.observe(update_dpdown, names=['value'])\n\nfeature_map.layout.align_self = 'stretch'\ndisplay(widgets.VBox([feature_map, dpdown]))"
       },
       "cell_index": 4,
       "root": true
      }
     ]
    },
    "b49489356f7b40378a2de13249f85823": {
     "views": []
    },
    "b7020273752d45e1a394a50ff7f4a234": {
     "views": []
    },
    "b85649507a9449a3b231245a3b8f4f77": {
     "views": []
    },
    "b8e61cfe983841d0a155f36bdb85fdd8": {
     "views": []
    },
    "bc3607acdfd04ca79942f2de4cee0a12": {
     "views": []
    },
    "bca313a285374a15a93356c539c24acd": {
     "views": []
    },
    "bcbea5c999564a9aa1e3a3d1a0ea86bf": {
     "views": []
    },
    "bd86c80154d648a896fa87bc279c4853": {
     "views": []
    },
    "c0d6b138e15d49c094765fa8b0131fe3": {
     "views": []
    },
    "c4b62e7a90be467c88fc4e7734f809d3": {
     "views": []
    },
    "c5001f5475e8460b8d787cf15e8ed53a": {
     "views": []
    },
    "c69daef275774c918d94227dd14ac809": {
     "views": []
    },
    "cae4a1047a7b4a969259349b2e0c160c": {
     "views": []
    },
    "cd3c03a8c40643578ec7297db5b46ac6": {
     "views": []
    },
    "d4f154aa7faf4e08a931e0329f7a99c9": {
     "views": []
    },
    "d547213773a54c5b99019b0d7dfbe90f": {
     "views": []
    },
    "d571b3d1be2e44bebeef480dee11a256": {
     "views": []
    },
    "d6bdf36366cb4980945c22a1667a765b": {
     "views": []
    },
    "d6c0e92001aa43488eabf9aee96bbd4b": {
     "views": []
    },
    "d91bf88b05f249329467beffb2f599d5": {
     "views": []
    },
    "db8ccea7f8d742baa0f23a027f14a92f": {
     "views": [
      {
       "cell": {
        "cell_type": "code",
        "execution_count": 83,
        "metadata": {
         "collapsed": false,
         "trusted": true
        },
        "outputs": [],
        "source": "ordinal_features_scale = bq.OrdinalScale()\nvalues_features_scale = bq.LinearScale()\nvalue_axis = bq.Axis(scale=values_features_scale, orientation='vertical')\n\nbars = bq.Bars(x=data_columns, y=np.zeros(len(data_columns)), \n               scales={\n        'x': ordinal_features_scale,\n        'y': values_features_scale\n    })\n\nindication = bq.Label(x=0.9, y=0.5, text='Hover On Map', font_size='50px', color='gray')\n\nui_map = ll.Map(center=[37.7449, -122.42580993652344], zoom=11, layout=widgets.Layout(width='450px', height='450px'))\nui_map.add_layer(survey_layer)\nui_map.add_layer(grey_layer)\n\npredictors = pd.read_csv('./../analysis_data/predictors.csv').set_index('zip code')\n\ndef scores(zip_code):\n    if zip_code in predictors.index:\n        dic = predictors.ix[zip_code].to_dict()\n        return [dic[v] for v in data_columns]\n    else:\n        return np.zeros(len(data_columns))\n\ndef hover_handler(event=None, id=None, properties=None):\n    figure.marks = [bars]\n    bars.y = scores(int(id))\n\nsurvey_layer.on_hover(hover_handler)\n\nfigure = bq.Figure(axes=[value_axis], marks=[bars, indication],\n                   title='Predictors',\n                   animation_duration=500, min_width=300, min_height=500)\n\n\nwidgets.HBox([ui_map, figure])"
       },
       "cell_index": 6,
       "root": true
      }
     ]
    },
    "dce7a27311a8419193dbe21cb27148f0": {
     "views": []
    },
    "df1a033338a64fb2b557b6666815cce4": {
     "views": []
    },
    "df8cb84556f94417ba7cf116d020fdd4": {
     "views": []
    },
    "e48e39984a9b467c84ddeff5b80c6dff": {
     "views": []
    },
    "e599cb647e924b699de2e0bc61b39439": {
     "views": []
    },
    "e61bdcadb42741b5adb7dc27f2a635f7": {
     "views": []
    },
    "e7b0e995b6ad49418624ff77d2170858": {
     "views": []
    },
    "e7fda9371dba4aa58d2bc0aea1d8cc93": {
     "views": []
    },
    "e9b051cf1c564324917b16a401442203": {
     "views": []
    },
    "ec99b36751644665895451c71dc6832f": {
     "views": []
    },
    "ed91cf4f64bf428391942333b7a56227": {
     "views": []
    },
    "eeac5f64149e44cdb255196e5bae02d0": {
     "views": []
    },
    "ef8da9fafba042588d9debd37a830674": {
     "views": []
    },
    "f005a3291b4b478a9450afb130000da1": {
     "views": []
    },
    "f07337e1ae134a84b5462cb432787a58": {
     "views": []
    },
    "f13ade0ee8c14f4a9413fe7ae4eb2c91": {
     "views": [
      {
       "cell": {
        "cell_type": "code",
        "execution_count": 81,
        "metadata": {
         "collapsed": false,
         "trusted": true
        },
        "outputs": [],
        "source": "survey_map = ll.Map(center=[37.7749, -122.34580993652344], zoom=12, layout=widgets.Layout(height='450px'))\n\nsurvey_data = pd.read_csv('./../analysis_data/scores_by_zipcodes.csv', header=None)\nsurvey_colors = data_to_colors(survey_data.ix[:, 1], colormap=mpl.cm.Greens)\nzips = [str(int(i)) for i in survey_data.ix[:, 0]]\ncols = {}\n\nfor i in range(len(zips)):\n    cols[zips[i]] = survey_colors[i]\n\n# Survey layer\nwith open('./../mapdata/sf_zipcodes.geojson') as f:\n    data = json.load(f)\n\nfor feature in data['features']:\n    feature['properties']['style'] = {\n        'color': cols[feature['id']],\n        'weight': 1,\n        'fillColor': cols[feature['id']],\n        'fillOpacity': 0.65,\n    }\n\nsurvey_layer = ll.GeoJSON(data=data, hover_style={'fillColor': 'red'})\nsurvey_map += survey_layer\n\nwith open('./../mapdata/bayarea_nosf_zipcodes.geojson') as f:\n    bay_data = json.load(f)\n    \n# Grey layer\ngrey_colors = n_colors(len(bay_data['features']), colormap=mpl.cm.Greys)\n\nfor feature, color in zip(bay_data['features'], grey_colors):\n    feature['properties']['style'] = {\n        'color': 'grey',\n        'weight': 1,\n        'fillColor': 'grey',\n        'fillOpacity': 0.2\n    }\n\ngrey_layer = ll.GeoJSON(data=bay_data, hover_style={'fillColor': 'red'})\n\nsurvey_map.add_layer(grey_layer)\n\nsurvey_map"
       },
       "cell_index": 2,
       "root": true
      }
     ]
    },
    "f277e3f31c4843728f49f98131502731": {
     "views": []
    },
    "f2a8147ed5f248fda1cc5f116aca96f6": {
     "views": []
    },
    "f4b1fbf6033b41e4a1045436b60adf06": {
     "views": []
    },
    "f4e734eef7d24d76a9efe183a272ac38": {
     "views": []
    },
    "f568d7f68ad7411da6e3a75860529927": {
     "views": []
    },
    "f59d991de7454624925e3f612019e60f": {
     "views": []
    },
    "f5fd430827c04a32b0dc434ba10c85fa": {
     "views": []
    },
    "f780d8f334184667bb2c5621b204f509": {
     "views": []
    },
    "fa97a8d0b6684538960f5e44287e7c24": {
     "views": []
    },
    "fb13cd29969341d985da774bcd2658e7": {
     "views": []
    }
   },
   "version": "1.0.0"
  }
 },
 "nbformat": 4,
 "nbformat_minor": 1
}
