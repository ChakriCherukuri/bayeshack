{
 "cells": [
  {
   "cell_type": "code",
   "execution_count": null,
   "metadata": {
    "collapsed": true
   },
   "outputs": [],
   "source": [
    "from __future__ import print_function\n",
    "\n",
    "# Jupyter display\n",
    "from IPython.display import display\n",
    "\n",
    "# json\n",
    "import json\n",
    "\n",
    "# widgets\n",
    "import ipywidgets as widgets\n",
    "import bqplot as bq\n",
    "import ipyleaflet as ll\n",
    "\n",
    "# numerics\n",
    "import pandas as pd\n",
    "import numpy as np\n",
    "\n",
    "# colormap\n",
    "import matplotlib as mpl\n",
    "import matplotlib.cm\n",
    "import matplotlib.colors\n",
    "\n",
    "def n_colors(n, colormap=mpl.cm.Blues):\n",
    "    data = np.linspace(0.0,1.0,n)\n",
    "    c = [mpl.colors.rgb2hex(d[0:3]) for d in colormap(data)]\n",
    "    return c\n",
    "\n",
    "def data_to_colors(data, colormap=mpl.cm.plasma):\n",
    "    c = [mpl.colors.rgb2hex(d[0:3]) for d in colormap(mpl.colors.Normalize()(data))]\n",
    "    return c"
   ]
  },
  {
   "cell_type": "markdown",
   "metadata": {},
   "source": [
    "# Satisfaction Score by ZIP Code"
   ]
  },
  {
   "cell_type": "code",
   "execution_count": null,
   "metadata": {
    "collapsed": false
   },
   "outputs": [],
   "source": [
    "survey_map = ll.Map(center=[37.7749, -122.34580993652344], zoom=12, layout=widgets.Layout(height='450px'))\n",
    "\n",
    "survey_data = pd.read_csv('./../analysis_data/scores_by_zipcodes.csv', header=None)\n",
    "survey_colors = data_to_colors(survey_data.ix[:, 1], colormap=mpl.cm.Greens)\n",
    "zips = [str(int(i)) for i in survey_data.ix[:, 0]]\n",
    "cols = {}\n",
    "\n",
    "for i in range(len(zips)):\n",
    "    cols[zips[i]] = survey_colors[i]\n",
    "\n",
    "# Survey layer\n",
    "with open('./../mapdata/sf_zipcodes.geojson') as f:\n",
    "    data = json.load(f)\n",
    "\n",
    "for feature in data['features']:\n",
    "    feature['properties']['style'] = {\n",
    "        'color': cols[feature['id']],\n",
    "        'weight': 1,\n",
    "        'fillColor': cols[feature['id']],\n",
    "        'fillOpacity': 0.65,\n",
    "    }\n",
    "\n",
    "survey_layer = ll.GeoJSON(data=data, hover_style={'fillColor': 'red'})\n",
    "survey_map += survey_layer\n",
    "\n",
    "with open('./../mapdata/bayarea_nosf_zipcodes.geojson') as f:\n",
    "    bay_data = json.load(f)\n",
    "    \n",
    "# Grey layer\n",
    "grey_colors = n_colors(len(bay_data['features']), colormap=mpl.cm.Greys)\n",
    "\n",
    "for feature, color in zip(bay_data['features'], grey_colors):\n",
    "    feature['properties']['style'] = {\n",
    "        'color': 'grey',\n",
    "        'weight': 1,\n",
    "        'fillColor': 'grey',\n",
    "        'fillOpacity': 0.2\n",
    "    }\n",
    "\n",
    "grey_layer = ll.GeoJSON(data=bay_data, hover_style={'fillColor': 'red'})\n",
    "\n",
    "survey_map.add_layer(grey_layer)\n",
    "\n",
    "survey_map"
   ]
  },
  {
   "cell_type": "markdown",
   "metadata": {},
   "source": [
    "# Neighborhood features"
   ]
  },
  {
   "cell_type": "code",
   "execution_count": null,
   "metadata": {
    "collapsed": false
   },
   "outputs": [],
   "source": [
    "feature_map = ll.Map(center=[37.7749, -122.34580993652344], zoom=12, layout=widgets.Layout(height='450px'))\n",
    "tract_data = pd.read_csv('./../data/CensusData/sfo data/tract_data_normalized.csv')\n",
    "colors = data_to_colors(tract_data['pct_bachelors'], colormap=mpl.cm.Reds)\n",
    "tracts = [str(int(i)) for i in tract_data.ix[:, 0].values]\n",
    "\n",
    "cols = {}\n",
    "for i in range(len(tracts)):\n",
    "    cols[tracts[i][4:]] = colors[i]\n",
    "\n",
    "with open('./../mapdata/sf_tracts.geojson') as f:\n",
    "    data = json.load(f)\n",
    "for feature in data['features']:\n",
    "    try:\n",
    "        style_col = cols[feature['properties']['tractce10']]\n",
    "    except KeyError:\n",
    "        style_col = 'Grey'\n",
    "    feature['properties']['style'] = {\n",
    "        'color': style_col,\n",
    "        'weight': 1,\n",
    "        'fillColor': style_col,\n",
    "        'fillOpacity': 0.75,\n",
    "    }\n",
    "\n",
    "feature_layer = ll.GeoJSON(data=data)\n",
    "feature_map += feature_layer\n",
    "\n",
    "data_columns = [\n",
    "      'pct_bachelors',\n",
    "      'labor_part_rate',\n",
    "      'pct_welfare',\n",
    "      'low_pov_idx',\n",
    "      'labor_idx',\n",
    "      'env_health_idx',\n",
    "      'hispanic',\n",
    "      'white',\n",
    "      'black',\n",
    "      'american_indian',\n",
    "      'asian',\n",
    "      'pac_islander',\n",
    "      'other_races',\n",
    "      'two_races',\n",
    "      'housing_cost',\n",
    "      'transportation_cost',\n",
    "      'pub_school_score',\n",
    "      'pr_school_score',\n",
    "      'rest_score',\n",
    "      'rest_proximity']\n",
    "\n",
    "dpdown = widgets.Dropdown(options=data_columns, value='pct_bachelors')\n",
    "\n",
    "def update_dpdown(change):\n",
    "    value = change['new']\n",
    "    colors = data_to_colors(tract_data[value], colormap=mpl.cm.Reds)\n",
    "    cols = {}\n",
    "    for i in range(len(tracts)):\n",
    "        cols[tracts[i][4:]] = colors[i]\n",
    "    for feature in data['features']:\n",
    "        try:\n",
    "            style_col = cols[feature['properties']['tractce10']]\n",
    "        except KeyError:\n",
    "            style_col = 'grey'\n",
    "        feature['properties']['style'] = {\n",
    "            'color': style_col,\n",
    "            'weight': 1,\n",
    "            'fillColor': style_col,\n",
    "            'fillOpacity': 0.75,\n",
    "        }\n",
    "        \n",
    "    feature_layer = ll.GeoJSON(data=data)\n",
    "    \n",
    "    feature_map.layers = [feature_map.layers[0], feature_layer]\n",
    "    \n",
    "dpdown.observe(update_dpdown, names=['value'])\n",
    "\n",
    "feature_map.layout.align_self = 'stretch'\n",
    "display(widgets.VBox([feature_map, dpdown]))"
   ]
  },
  {
   "cell_type": "markdown",
   "metadata": {},
   "source": [
    "# From the Features to the Satisfaction Index"
   ]
  },
  {
   "cell_type": "code",
   "execution_count": null,
   "metadata": {
    "collapsed": false
   },
   "outputs": [],
   "source": [
    "ordinal_features_scale = bq.OrdinalScale()\n",
    "values_features_scale = bq.LinearScale()\n",
    "value_axis = bq.Axis(scale=values_features_scale, orientation='vertical')\n",
    "\n",
    "bars = bq.Bars(x=data_columns, y=np.zeros(len(data_columns)), \n",
    "               scales={\n",
    "        'x': ordinal_features_scale,\n",
    "        'y': values_features_scale\n",
    "    })\n",
    "\n",
    "indication = bq.Label(x=0.9, y=0.5, text='Hover On Map', font_size='50px', color='gray')\n",
    "\n",
    "ui_map = ll.Map(center=[37.7449, -122.42580993652344], zoom=11, layout=widgets.Layout(width='450px', height='450px'))\n",
    "ui_map.add_layer(survey_layer)\n",
    "ui_map.add_layer(grey_layer)\n",
    "\n",
    "predictors = pd.read_csv('./../analysis_data/predictors.csv').set_index('zip code')\n",
    "\n",
    "def scores(zip_code):\n",
    "    if zip_code in predictors.index:\n",
    "        dic = predictors.ix[zip_code].to_dict()\n",
    "        return [dic[v] for v in data_columns]\n",
    "    else:\n",
    "        return np.zeros(len(data_columns))\n",
    "\n",
    "def hover_handler(event=None, id=None, properties=None):\n",
    "    figure.marks = [bars]\n",
    "    bars.y = scores(int(id))\n",
    "\n",
    "survey_layer.on_hover(hover_handler)\n",
    "\n",
    "figure = bq.Figure(axes=[value_axis], marks=[bars, indication],\n",
    "                   title='Predictors',\n",
    "                   animation_duration=500, min_width=300, min_height=500)\n",
    "\n",
    "\n",
    "widgets.HBox([ui_map, figure])"
   ]
  },
  {
   "cell_type": "markdown",
   "metadata": {},
   "source": [
    "#### Bar chart with reduced data"
   ]
  },
  {
   "cell_type": "code",
   "execution_count": null,
   "metadata": {
    "collapsed": false
   },
   "outputs": [],
   "source": [
    "ordinal_features_scale = bq.OrdinalScale()\n",
    "values_features_scale = bq.LinearScale()\n",
    "ord_axis = bq.Axis(scale=ordinal_features_scale)\n",
    "value_axis = bq.Axis(scale=values_features_scale, orientation='vertical')\n",
    "\n",
    "imp_predictors = pd.read_csv('./../analysis_data/predictors.csv').set_index('zip code')\n",
    "imp_predictors = imp_predictors.loc[:, ('env_health_idx', 'labor_idx', 'housing_cost', 'transportation_cost', 'crime_index',\n",
    "                                       'pub_school_score', 'rest_proximity')]\n",
    "imp_predictors.columns=['Environment', 'Labor', 'Housing', 'Transport', 'Crime', 'Schools', 'Resta']\n",
    "columns_reduced = imp_predictors.columns.values\n",
    "mean_scores = imp_predictors.mean().values\n",
    "\n",
    "bars = bq.Bars(x=columns_reduced, y=np.ones(len(columns_reduced)), \n",
    "               scales={\n",
    "        'x': ordinal_features_scale,\n",
    "        'y': values_features_scale\n",
    "    }, base=1.0)\n",
    "\n",
    "\n",
    "indication = bq.Label(x=0.9, y=0.5, text='Hover On Map', font_size='50px', color='gray')\n",
    "\n",
    "ui_map = ll.Map(center=[37.7449, -122.42580993652344], zoom=11, layout=widgets.Layout(width='450px', height='450px'))\n",
    "ui_map.add_layer(survey_layer)\n",
    "ui_map.add_layer(grey_layer)\n",
    "\n",
    "\n",
    "def scores(zip_code):\n",
    "    if zip_code in imp_predictors.index:\n",
    "        dic = imp_predictors.ix[zip_code].to_dict()\n",
    "        return [dic[v] for v in columns_reduced]\n",
    "    else:\n",
    "        return np.ones(len(columns_reduced))\n",
    "\n",
    "def hover_handler(event=None, id=None, properties=None):\n",
    "    figure.marks = [bars]\n",
    "    bars.y = scores(int(id)) / mean_scores\n",
    "\n",
    "survey_layer.on_hover(hover_handler)\n",
    "\n",
    "figure = bq.Figure(axes=[value_axis, ord_axis], marks=[bars, indication],\n",
    "                   title='Predictors',\n",
    "                   animation_duration=500, min_width=300, min_height=500)\n",
    "\n",
    "widgets.HBox([ui_map, figure])"
   ]
  },
  {
   "cell_type": "code",
   "execution_count": null,
   "metadata": {
    "collapsed": true
   },
   "outputs": [],
   "source": []
  }
 ],
 "metadata": {
  "kernelspec": {
   "display_name": "Python 2",
   "language": "python",
   "name": "python2"
  },
  "language_info": {
   "codemirror_mode": {
    "name": "ipython",
    "version": 2
   },
   "file_extension": ".py",
   "mimetype": "text/x-python",
   "name": "python",
   "nbconvert_exporter": "python",
   "pygments_lexer": "ipython2",
   "version": "2.7.11"
  },
  "widgets": {
   "state": {
    "0363b6dd7da84e9db2d909ef88a2e942": {
     "views": []
    },
    "0557f2c3d2eb4be98f987025a070b03f": {
     "views": []
    },
    "078de3731960496ead4237430dc868c2": {
     "views": []
    },
    "07d844b9e1324deab7661d9db80cf0b2": {
     "views": []
    },
    "080703d70e104c54bd7ed49e12e1a4e3": {
     "views": []
    },
    "0bfb3aea8fea4e2f923c9458ebfc46e7": {
     "views": []
    },
    "0faea43845b0480fa39bac7a31909ebb": {
     "views": []
    },
    "175cbfd5cbae4c4897145ead528dc473": {
     "views": []
    },
    "178af1c410034fe9a4cc11ecf15f9390": {
     "views": []
    },
    "19a082a5e5124897b948b0873da7b293": {
     "views": []
    },
    "1b6f16f24c8c420baddb0cb232f00ae1": {
     "views": []
    },
    "1f7ed2d06d244e29b144d39fcaf3316b": {
     "views": []
    },
    "22c35d5bbcc749ccb5acc27ec9b4c083": {
     "views": []
    },
    "250e70d238164a31a32bde79c2909a08": {
     "views": []
    },
    "2514dd060cb14dc29e17690877210e72": {
     "views": []
    },
    "2639d72988c743419e418f46d4ade4c0": {
     "views": []
    },
    "2774aedffa4b416c86798266be5e6719": {
     "views": []
    },
    "287608e86a75495b961a1d1af43a277f": {
     "views": []
    },
    "3316dbef001244feb9e99c0576e80069": {
     "views": []
    },
    "331e0cb1e11440ff92980d9c14352cbc": {
     "views": []
    },
    "353b879289ad4e54ab300f6c7fa875d1": {
     "views": []
    },
    "3592c17117634b18a0c896f8c1230659": {
     "views": []
    },
    "3a7f2ce278704d26b2a6b3254189a059": {
     "views": []
    },
    "3b44efe9ee9548778408bbadb17bf59d": {
     "views": []
    },
    "3d447435e90c4490a89f97460fd5be99": {
     "views": []
    },
    "42d10ec16e0040f7b9b72a49c11fb7df": {
     "views": []
    },
    "436c6f11357b4c13be9708e6bb24d434": {
     "views": []
    },
    "53c4bfd837ac4b0fb326a6f5e00fea9b": {
     "views": []
    },
    "56cd9b010f454783ad6ca2950ca0cd54": {
     "views": []
    },
    "5b4cb0e53f964cc199c1117684537cf7": {
     "views": []
    },
    "5f808011158c4b54b2eba0ef42169028": {
     "views": []
    },
    "6262f522a06a4cedb5182c1d82b85f09": {
     "views": []
    },
    "6400cd37ddcd439fbd280d7115da1c8f": {
     "views": []
    },
    "65fb20f653774cd7b600fe67bd29a201": {
     "views": []
    },
    "669ec319bd4b4108a492ef23d7ae547d": {
     "views": []
    },
    "6d468d1001a14106a18ccb838d94273c": {
     "views": []
    },
    "79968e78b97940869ff050c3f19ef70e": {
     "views": []
    },
    "7c639939b75e4b14a7e9274d66b3aad6": {
     "views": []
    },
    "7e322051dd4b409e9fbe678469bca730": {
     "views": []
    },
    "810a61946b684e059ba4e0749fe7e28d": {
     "views": []
    },
    "84bf62ce0a6a4e829bbbd7e6238c67ae": {
     "views": []
    },
    "85c001fabf3a40cfb04fcbf65694d7fb": {
     "views": []
    },
    "864bd2bba9644c13993d3367689b29c3": {
     "views": []
    },
    "8ab44b97453b45daab0eefeeb1ab3f8d": {
     "views": []
    },
    "8ced3eb639534a4d8be5b36777dcead2": {
     "views": []
    },
    "8f4698864cdf46daba0a3d822da37879": {
     "views": []
    },
    "93acedd293f74a3a91935db1593feb2c": {
     "views": []
    },
    "9923d97b75664068a790822521b01901": {
     "views": []
    },
    "994b1db0527c46d9b9f36ce3050fbb80": {
     "views": []
    },
    "99c0bd1508ba4dbdae7499f6f87ec095": {
     "views": []
    },
    "9bf9b31720e54194a2cbc697359570a0": {
     "views": []
    },
    "9e63ac42e4654ba1937623f702d0901f": {
     "views": []
    },
    "a9d65693682340e6b3d8ee3441b51e7e": {
     "views": []
    },
    "adeeac6fc6b545eb976c6903e7f8b4ea": {
     "views": []
    },
    "b0caa441471e4b7ea1050c2b235aed02": {
     "views": []
    },
    "b4d6265f529d4da8a35f586ab01298b1": {
     "views": []
    },
    "bcb6d32f7d7d4182aba3b0312482f225": {
     "views": []
    },
    "c28674d18b78411f9aa8b8374a976c29": {
     "views": []
    },
    "c8b1b504380d4b2cb22dc068ed67dd04": {
     "views": []
    },
    "c8f5c35230a94294a702824d3bddf429": {
     "views": []
    },
    "cc361ee153b8472e975a7adf27631863": {
     "views": []
    },
    "d2308129b1ee4a1a8b361b0f7cb83ff6": {
     "views": []
    },
    "d277d743b6ba4013b6a9d255bedb5500": {
     "views": []
    },
    "d6a0c2a930fb45a6ace2ce5e8d666fc7": {
     "views": []
    },
    "d79543d24b4e444699c47bf965c6259b": {
     "views": []
    },
    "e0ee4770329d41019f769a8f39798f9e": {
     "views": []
    },
    "e1f5fcea299347aa91645791e4665360": {
     "views": []
    },
    "e42d361f7b89466c84fd4a6d94cc271b": {
     "views": []
    },
    "e67b9164779b4a8196b31e307b09b74e": {
     "views": []
    },
    "e6ffbb752051440aa86d5499de9ba1cf": {
     "views": []
    },
    "e957c4e484a44683861cfa89282e5c10": {
     "views": []
    },
    "e9e25d1127bc4fa6893b95db17db64da": {
     "views": []
    },
    "f03aed5c79a8475e895c362dab0d6265": {
     "views": []
    },
    "f5e19a32c08945aeabe9ebe7f52717e5": {
     "views": []
    }
   },
   "version": "1.0.0"
  }
 },
 "nbformat": 4,
 "nbformat_minor": 1
}
