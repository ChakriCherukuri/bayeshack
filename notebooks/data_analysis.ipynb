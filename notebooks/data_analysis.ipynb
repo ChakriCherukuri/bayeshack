{
 "cells": [
  {
   "cell_type": "code",
   "execution_count": 1,
   "metadata": {
    "collapsed": true
   },
   "outputs": [],
   "source": [
    "import pandas as pd\n",
    "import numpy as np"
   ]
  },
  {
   "cell_type": "code",
   "execution_count": 2,
   "metadata": {
    "collapsed": false
   },
   "outputs": [],
   "source": [
    "import re\n",
    "dict_file = '../data/survey/7041-1996-2015_City_Survey_DataSF.xlsx'\n",
    "data_dict = pd.read_excel(dict_file, 0, skiprows=3)\n",
    "data_dict['Variable'] = data_dict['Variable'].str.replace('\\n', '') \n",
    "data_dict = data_dict.set_index('Variable')\n",
    "\n",
    "#keep only questions which have FDCBA grades\n",
    "data_dict1 = data_dict.ix[['id', 'year', 'finweigh', 'zipcode', 'district', 'region']]\n",
    "data_dict2 = data_dict[data_dict['Value Labels'].str.contains('F-Failing', flags=re.IGNORECASE).fillna(False)]\n",
    "# remove column 'swcndnbd' as it's not present in data csv\n",
    "data_dict2 = data_dict2.drop('swcndnbd')\n",
    "data_dict = pd.concat([data_dict1, data_dict2])"
   ]
  },
  {
   "cell_type": "code",
   "execution_count": 3,
   "metadata": {
    "collapsed": false,
    "scrolled": true
   },
   "outputs": [
    {
     "name": "stdout",
     "output_type": "stream",
     "text": [
      "(10271, 60)\n"
     ]
    },
    {
     "name": "stderr",
     "output_type": "stream",
     "text": [
      "c:\\users\\srinivas\\anaconda\\lib\\site-packages\\IPython\\core\\interactiveshell.py:2723: DtypeWarning: Columns (181,183,214) have mixed types. Specify dtype option on import or set low_memory=False.\n",
      "  interactivity=interactivity, compiler=compiler, result=result)\n"
     ]
    }
   ],
   "source": [
    "survey_df = pd.read_csv('../data/survey/San_Francisco_City_Survey_Data_1996-2015.csv')\n",
    "\n",
    "# keep only valid cols\n",
    "survey_df = survey_df[list(set(data_dict.index) & set(survey_df.columns))]\n",
    "\n",
    "# remove values of 6 and 7 (dont know, not provided responses)\n",
    "replace_dict = {col: {6: np.nan, 7: np.nan} for col in data_dict2.index}\n",
    "survey_df = survey_df.replace(replace_dict)\n",
    "\n",
    "# consider data only from 2009 - 2015\n",
    "survey_df = survey_df[survey_df['year'].isin([2009, 2011, 2013, 2015])]\n",
    "\n",
    "# consider only 941XX zip codes for SF city\n",
    "survey_df = survey_df[(survey_df['zipcode'] > 94100) & (survey_df['zipcode'] < 94200)]\n",
    "print survey_df.shape"
   ]
  },
  {
   "cell_type": "code",
   "execution_count": 4,
   "metadata": {
    "collapsed": false
   },
   "outputs": [
    {
     "data": {
      "text/plain": [
       "Recreation and Parks     14\n",
       "Infrastructure           11\n",
       "City Services General    11\n",
       "Libraries                 9\n",
       "Transportation            8\n",
       "Children and Families     1\n",
       "Name: Category, dtype: int64"
      ]
     },
     "execution_count": 4,
     "metadata": {},
     "output_type": "execute_result"
    }
   ],
   "source": [
    "cat_qs_counts = data_dict2['Category'].value_counts()\n",
    "cat_qs_counts"
   ]
  },
  {
   "cell_type": "code",
   "execution_count": 11,
   "metadata": {
    "collapsed": false
   },
   "outputs": [],
   "source": [
    "## weight for each category is the count of the number of questions\n",
    "# weights = [cat_qs_counts[data_dict2.ix[col, 'Category']] for col in data_dict2.index]\n",
    "\n",
    "# weight_mat = survey_df[data_dict2.index].notnull() * weights\n",
    "# satisfaction_scores = (weight_mat * survey_df[data_dict2.index]).sum(axis=1) / weight_mat.sum(axis=1)\n",
    "# scores_by_zip = satisfaction_scores.groupby(survey_df['zipcode']).mean()"
   ]
  },
  {
   "cell_type": "code",
   "execution_count": 13,
   "metadata": {
    "collapsed": true
   },
   "outputs": [],
   "source": [
    "## weight for each category is the count of the number of questions\n",
    "weights = [cat_qs_counts[data_dict2.ix[col, 'Category']] for col in data_dict2.index]\n",
    "\n",
    "# weight_mat = survey_df[data_dict2.index].notnull() / weights\n",
    "satisfaction_scores = (survey_df[data_dict2.index] / weights).sum(axis=1) \n",
    "scores_by_zip = satisfaction_scores.groupby(survey_df['zipcode']).mean()"
   ]
  },
  {
   "cell_type": "code",
   "execution_count": 14,
   "metadata": {
    "collapsed": false
   },
   "outputs": [
    {
     "data": {
      "text/plain": [
       "zipcode\n",
       "94105.0    7.361457\n",
       "94158.0    7.497538\n",
       "94109.0    7.644697\n",
       "94104.0    7.649829\n",
       "94123.0    7.880494\n",
       "94102.0    7.891319\n",
       "94120.0    7.990204\n",
       "94107.0    7.992125\n",
       "94103.0    8.022743\n",
       "94133.0    8.074360\n",
       "94131.0    8.090366\n",
       "94114.0    8.115738\n",
       "94115.0    8.133479\n",
       "94118.0    8.205283\n",
       "94101.0    8.337101\n",
       "94117.0    8.346542\n",
       "94111.0    8.370478\n",
       "94124.0    8.370736\n",
       "94122.0    8.385986\n",
       "94106.0    8.399158\n",
       "94121.0    8.404675\n",
       "94110.0    8.413215\n",
       "94108.0    8.492486\n",
       "94125.0    8.496970\n",
       "94132.0    8.520045\n",
       "94127.0    8.544668\n",
       "94126.0    8.636632\n",
       "94113.0    8.642738\n",
       "94130.0    8.693164\n",
       "94112.0    8.710941\n",
       "94134.0    8.754626\n",
       "94116.0    8.828484\n",
       "94119.0    8.899250\n",
       "94129.0    9.068667\n",
       "dtype: float64"
      ]
     },
     "execution_count": 14,
     "metadata": {},
     "output_type": "execute_result"
    }
   ],
   "source": [
    "scores_by_zip.sort_values()"
   ]
  }
 ],
 "metadata": {
  "kernelspec": {
   "display_name": "Python 2",
   "language": "python",
   "name": "python2"
  },
  "language_info": {
   "codemirror_mode": {
    "name": "ipython",
    "version": 2
   },
   "file_extension": ".py",
   "mimetype": "text/x-python",
   "name": "python",
   "nbconvert_exporter": "python",
   "pygments_lexer": "ipython2",
   "version": "2.7.11"
  },
  "widgets": {
   "state": {},
   "version": "0.3.0"
  }
 },
 "nbformat": 4,
 "nbformat_minor": 0
}
