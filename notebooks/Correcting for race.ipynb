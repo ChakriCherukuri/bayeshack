{
 "cells": [
  {
   "cell_type": "code",
   "execution_count": 231,
   "metadata": {
    "collapsed": true
   },
   "outputs": [],
   "source": [
    "from __future__ import print_function\n",
    "\n",
    "# Jupyter display\n",
    "from IPython.display import display\n",
    "\n",
    "# json\n",
    "import json\n",
    "\n",
    "# widgets\n",
    "import ipywidgets as widgets\n",
    "import bqplot as bq\n",
    "import ipyleaflet as ll\n",
    "\n",
    "# numerics\n",
    "import pandas as pd\n",
    "import numpy as np\n",
    "from sklearn import linear_model\n",
    "\n",
    "# colormap\n",
    "import matplotlib as mpl\n",
    "import matplotlib.cm\n",
    "import matplotlib.colors\n",
    "\n",
    "def n_colors(n, colormap=mpl.cm.Blues):\n",
    "    data = np.linspace(0.0,1.0,n)\n",
    "    c = [mpl.colors.rgb2hex(d[0:3]) for d in colormap(data)]\n",
    "    return c\n",
    "\n",
    "def data_to_colors(data, colormap=mpl.cm.plasma):\n",
    "    c = [mpl.colors.rgb2hex(d[0:3]) for d in colormap(mpl.colors.Normalize()(data))]\n",
    "    return c"
   ]
  },
  {
   "cell_type": "code",
   "execution_count": 232,
   "metadata": {
    "collapsed": false
   },
   "outputs": [],
   "source": [
    "data = pd.read_csv('./../analysis_data/merged_data.csv')"
   ]
  },
  {
   "cell_type": "code",
   "execution_count": 233,
   "metadata": {
    "collapsed": false
   },
   "outputs": [],
   "source": [
    "race_data = data[['hispanic', 'white',\n",
    "       'black', 'american_indian', 'asian', 'pac_islander', 'other_races', 'two_races']]"
   ]
  },
  {
   "cell_type": "code",
   "execution_count": 234,
   "metadata": {
    "collapsed": false
   },
   "outputs": [],
   "source": [
    "race_data = race_data / 100."
   ]
  },
  {
   "cell_type": "code",
   "execution_count": 235,
   "metadata": {
    "collapsed": false
   },
   "outputs": [],
   "source": [
    "result = data['score']"
   ]
  },
  {
   "cell_type": "code",
   "execution_count": 236,
   "metadata": {
    "collapsed": true
   },
   "outputs": [],
   "source": [
    "clf = linear_model.LinearRegression(fit_intercept=False)"
   ]
  },
  {
   "cell_type": "code",
   "execution_count": 237,
   "metadata": {
    "collapsed": false
   },
   "outputs": [
    {
     "data": {
      "text/plain": [
       "LinearRegression(copy_X=True, fit_intercept=False, n_jobs=1, normalize=False)"
      ]
     },
     "execution_count": 237,
     "metadata": {},
     "output_type": "execute_result"
    }
   ],
   "source": [
    "clf.fit(race_data.values, result.values)"
   ]
  },
  {
   "cell_type": "code",
   "execution_count": 238,
   "metadata": {
    "collapsed": false
   },
   "outputs": [
    {
     "data": {
      "text/plain": [
       "array([  8.53779252,   7.23122887,   6.87597854, -11.30570004,\n",
       "         8.33566622,  13.47011833,  22.60022925,  25.02258295])"
      ]
     },
     "execution_count": 238,
     "metadata": {},
     "output_type": "execute_result"
    }
   ],
   "source": [
    "clf.coef_"
   ]
  },
  {
   "cell_type": "code",
   "execution_count": 239,
   "metadata": {
    "collapsed": false,
    "scrolled": true
   },
   "outputs": [
    {
     "data": {
      "text/plain": [
       "0.0"
      ]
     },
     "execution_count": 239,
     "metadata": {},
     "output_type": "execute_result"
    }
   ],
   "source": [
    "clf.intercept_"
   ]
  },
  {
   "cell_type": "code",
   "execution_count": 240,
   "metadata": {
    "collapsed": false
   },
   "outputs": [],
   "source": [
    "race_corrected_scores = result.values - clf.predict(race_data.values)"
   ]
  },
  {
   "cell_type": "code",
   "execution_count": 241,
   "metadata": {
    "collapsed": false
   },
   "outputs": [
    {
     "data": {
      "text/plain": [
       "array([-0.66824351, -0.13678397, -0.68460998, -0.12926007,  0.18275362,\n",
       "       -0.53382416,  0.09590031,  0.08165585,  0.31821955,  0.07203872,\n",
       "        0.08359963,  0.44225876,  0.02452543, -0.13185275, -0.24675444,\n",
       "       -0.10308096,  0.07683122,  0.21375581,  0.29287825,  0.93558465,\n",
       "       -0.06722998, -0.06038546, -0.06514861,  0.31351156, -0.30858819])"
      ]
     },
     "execution_count": 241,
     "metadata": {},
     "output_type": "execute_result"
    }
   ],
   "source": [
    "race_corrected_scores"
   ]
  },
  {
   "cell_type": "code",
   "execution_count": 242,
   "metadata": {
    "collapsed": true
   },
   "outputs": [],
   "source": [
    "race_corrected_data = data.copy(deep=True)"
   ]
  },
  {
   "cell_type": "code",
   "execution_count": 243,
   "metadata": {
    "collapsed": false
   },
   "outputs": [],
   "source": [
    "race_corrected_data.rename(columns={'Unnamed: 0': 'zipcode'}, inplace=True)"
   ]
  },
  {
   "cell_type": "code",
   "execution_count": 244,
   "metadata": {
    "collapsed": false
   },
   "outputs": [],
   "source": [
    "race_corrected_data['score'] = race_corrected_scores"
   ]
  },
  {
   "cell_type": "code",
   "execution_count": 245,
   "metadata": {
    "collapsed": true
   },
   "outputs": [],
   "source": [
    "race_corrected_data.to_csv('./../analysis_data/race_corrected_merged_data.csv')"
   ]
  },
  {
   "cell_type": "code",
   "execution_count": 246,
   "metadata": {
    "collapsed": false,
    "scrolled": false
   },
   "outputs": [
    {
     "data": {
      "text/plain": [
       "zipcode                0.235022\n",
       "pct_bachelors         -0.007863\n",
       "labor_part_rate        0.435326\n",
       "pct_welfare            0.398628\n",
       "low_pov_idx            0.426255\n",
       "labor_idx              0.002488\n",
       "env_health_idx         0.282486\n",
       "hispanic               0.000420\n",
       "white                  0.000682\n",
       "black                  0.000238\n",
       "american_indian        0.000211\n",
       "asian                  0.000496\n",
       "pac_islander           0.000355\n",
       "other_races            0.000304\n",
       "two_races              0.000700\n",
       "housing_cost          -0.282558\n",
       "transportation_cost    0.559355\n",
       "pub_school_score      -0.127418\n",
       "pr_school_score       -0.286654\n",
       "rest_score            -0.210170\n",
       "rest_proximity        -0.485048\n",
       "crime_index           -0.474078\n",
       "score                  1.000000\n",
       "Name: score, dtype: float64"
      ]
     },
     "execution_count": 246,
     "metadata": {},
     "output_type": "execute_result"
    }
   ],
   "source": [
    "race_corrected_data.corr().ix[:, -1]"
   ]
  },
  {
   "cell_type": "markdown",
   "metadata": {},
   "source": [
    "## TEST"
   ]
  },
  {
   "cell_type": "code",
   "execution_count": 247,
   "metadata": {
    "collapsed": true
   },
   "outputs": [],
   "source": [
    "other_race_data = data[['hispanic',\n",
    "       'black', 'american_indian', 'asian', 'pac_islander', 'other_races', 'two_races']]\n",
    "white_data = data[['white']]"
   ]
  },
  {
   "cell_type": "code",
   "execution_count": 248,
   "metadata": {
    "collapsed": true
   },
   "outputs": [],
   "source": [
    "other_race_data = other_race_data / 100.\n",
    "white_data = white_data / 100."
   ]
  },
  {
   "cell_type": "code",
   "execution_count": 249,
   "metadata": {
    "collapsed": true
   },
   "outputs": [],
   "source": [
    "other_races = other_race_data.sum(axis=1)"
   ]
  },
  {
   "cell_type": "code",
   "execution_count": 250,
   "metadata": {
    "collapsed": true
   },
   "outputs": [],
   "source": [
    "clf2 = linear_model.LinearRegression(fit_intercept=False)"
   ]
  },
  {
   "cell_type": "code",
   "execution_count": 251,
   "metadata": {
    "collapsed": false
   },
   "outputs": [
    {
     "data": {
      "text/plain": [
       "LinearRegression(copy_X=True, fit_intercept=False, n_jobs=1, normalize=False)"
      ]
     },
     "execution_count": 251,
     "metadata": {},
     "output_type": "execute_result"
    }
   ],
   "source": [
    "clf.fit(np.array([other_races.values, white_data.values.flatten()]).T, result.values)"
   ]
  },
  {
   "cell_type": "code",
   "execution_count": 252,
   "metadata": {
    "collapsed": true
   },
   "outputs": [],
   "source": [
    "other_race_corrected_scores = result.values - \\\n",
    "            clf.predict(np.array([other_races.values, white_data.values.flatten()]).T)"
   ]
  },
  {
   "cell_type": "code",
   "execution_count": 253,
   "metadata": {
    "collapsed": false
   },
   "outputs": [
    {
     "data": {
      "text/plain": [
       "array([-0.37893909, -0.24284901, -0.8797087 , -0.17084286,  0.12171745,\n",
       "       -0.6107209 ,  0.14540864,  0.26859612,  0.31393066, -0.01587959,\n",
       "       -0.11789936,  0.5411346 ,  0.18897944,  0.00228196,  0.1387698 ,\n",
       "        0.1077993 , -0.22842552, -0.07852794,  0.35971443,  0.98541225,\n",
       "       -0.04101819,  0.18391665, -0.20202538,  0.32261695, -0.71620061])"
      ]
     },
     "execution_count": 253,
     "metadata": {},
     "output_type": "execute_result"
    }
   ],
   "source": [
    "other_race_corrected_scores"
   ]
  },
  {
   "cell_type": "code",
   "execution_count": 254,
   "metadata": {
    "collapsed": true
   },
   "outputs": [],
   "source": [
    "other_race_corrected_data = data.copy(deep=True)"
   ]
  },
  {
   "cell_type": "code",
   "execution_count": 255,
   "metadata": {
    "collapsed": false
   },
   "outputs": [],
   "source": [
    "other_race_corrected_data.rename(columns={'Unnamed: 0': 'zipcode'}, inplace=True)"
   ]
  },
  {
   "cell_type": "code",
   "execution_count": 256,
   "metadata": {
    "collapsed": true
   },
   "outputs": [],
   "source": [
    "other_race_corrected_data['score'] = other_race_corrected_scores"
   ]
  },
  {
   "cell_type": "code",
   "execution_count": 257,
   "metadata": {
    "collapsed": false,
    "scrolled": true
   },
   "outputs": [
    {
     "data": {
      "text/plain": [
       "zipcode                0.235022\n",
       "pct_bachelors         -0.007863\n",
       "labor_part_rate        0.435326\n",
       "pct_welfare            0.398628\n",
       "low_pov_idx            0.426255\n",
       "labor_idx              0.002488\n",
       "env_health_idx         0.282486\n",
       "hispanic               0.000420\n",
       "white                  0.000682\n",
       "black                  0.000238\n",
       "american_indian        0.000211\n",
       "asian                  0.000496\n",
       "pac_islander           0.000355\n",
       "other_races            0.000304\n",
       "two_races              0.000700\n",
       "housing_cost          -0.282558\n",
       "transportation_cost    0.559355\n",
       "pub_school_score      -0.127418\n",
       "pr_school_score       -0.286654\n",
       "rest_score            -0.210170\n",
       "rest_proximity        -0.485048\n",
       "crime_index           -0.474078\n",
       "score                  1.000000\n",
       "Name: score, dtype: float64"
      ]
     },
     "execution_count": 257,
     "metadata": {},
     "output_type": "execute_result"
    }
   ],
   "source": [
    "race_corrected_data.corr().ix[:, -1]"
   ]
  },
  {
   "cell_type": "code",
   "execution_count": 258,
   "metadata": {
    "collapsed": false,
    "scrolled": true
   },
   "outputs": [
    {
     "data": {
      "text/plain": [
       "zipcode                0.085783\n",
       "pct_bachelors         -0.021863\n",
       "labor_part_rate        0.304789\n",
       "pct_welfare            0.320157\n",
       "low_pov_idx            0.444121\n",
       "labor_idx              0.038270\n",
       "env_health_idx         0.574074\n",
       "hispanic              -0.020540\n",
       "white                  0.000730\n",
       "black                 -0.146189\n",
       "american_indian       -0.170569\n",
       "asian                  0.052830\n",
       "pac_islander          -0.036748\n",
       "other_races            0.216303\n",
       "two_races              0.283502\n",
       "housing_cost          -0.304907\n",
       "transportation_cost    0.575663\n",
       "pub_school_score      -0.336108\n",
       "pr_school_score       -0.553049\n",
       "rest_score            -0.464413\n",
       "rest_proximity        -0.512932\n",
       "crime_index           -0.456346\n",
       "score                  1.000000\n",
       "Name: score, dtype: float64"
      ]
     },
     "execution_count": 258,
     "metadata": {},
     "output_type": "execute_result"
    }
   ],
   "source": [
    "other_race_corrected_data.corr().ix[:, -1]"
   ]
  },
  {
   "cell_type": "code",
   "execution_count": 259,
   "metadata": {
    "collapsed": true
   },
   "outputs": [],
   "source": [
    "other_race_corrected_data.to_csv('./../analysis_data/other_race_corrected_merged_data.csv')"
   ]
  }
 ],
 "metadata": {
  "kernelspec": {
   "display_name": "Python 3",
   "language": "python",
   "name": "python3"
  },
  "language_info": {
   "codemirror_mode": {
    "name": "ipython",
    "version": 3
   },
   "file_extension": ".py",
   "mimetype": "text/x-python",
   "name": "python",
   "nbconvert_exporter": "python",
   "pygments_lexer": "ipython3",
   "version": "3.4.4"
  },
  "widgets": {
   "state": {},
   "version": "1.0.0"
  }
 },
 "nbformat": 4,
 "nbformat_minor": 1
}
