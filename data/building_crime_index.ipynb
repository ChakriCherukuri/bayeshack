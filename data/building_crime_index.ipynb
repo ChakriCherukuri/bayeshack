{
 "cells": [
  {
   "cell_type": "code",
   "execution_count": 1,
   "metadata": {
    "collapsed": true
   },
   "outputs": [],
   "source": [
    "import pandas as pd"
   ]
  },
  {
   "cell_type": "markdown",
   "metadata": {},
   "source": [
    "## Getting tracts with their respective coordinates"
   ]
  },
  {
   "cell_type": "code",
   "execution_count": 2,
   "metadata": {
    "collapsed": false
   },
   "outputs": [
    {
     "data": {
      "text/html": [
       "<div>\n",
       "<table border=\"1\" class=\"dataframe\">\n",
       "  <thead>\n",
       "    <tr style=\"text-align: right;\">\n",
       "      <th></th>\n",
       "      <th>tractid</th>\n",
       "      <th>latitude</th>\n",
       "      <th>longitude</th>\n",
       "    </tr>\n",
       "  </thead>\n",
       "  <tbody>\n",
       "    <tr>\n",
       "      <th>0</th>\n",
       "      <td>6075010100</td>\n",
       "      <td>37.808420</td>\n",
       "      <td>-122.408579</td>\n",
       "    </tr>\n",
       "    <tr>\n",
       "      <th>1</th>\n",
       "      <td>6075010200</td>\n",
       "      <td>37.805861</td>\n",
       "      <td>-122.422925</td>\n",
       "    </tr>\n",
       "    <tr>\n",
       "      <th>2</th>\n",
       "      <td>6075010300</td>\n",
       "      <td>37.801620</td>\n",
       "      <td>-122.415681</td>\n",
       "    </tr>\n",
       "    <tr>\n",
       "      <th>3</th>\n",
       "      <td>6075010400</td>\n",
       "      <td>37.802273</td>\n",
       "      <td>-122.407558</td>\n",
       "    </tr>\n",
       "    <tr>\n",
       "      <th>4</th>\n",
       "      <td>6075010500</td>\n",
       "      <td>37.802684</td>\n",
       "      <td>-122.399059</td>\n",
       "    </tr>\n",
       "  </tbody>\n",
       "</table>\n",
       "</div>"
      ],
      "text/plain": [
       "      tractid   latitude   longitude\n",
       "0  6075010100  37.808420 -122.408579\n",
       "1  6075010200  37.805861 -122.422925\n",
       "2  6075010300  37.801620 -122.415681\n",
       "3  6075010400  37.802273 -122.407558\n",
       "4  6075010500  37.802684 -122.399059"
      ]
     },
     "execution_count": 2,
     "metadata": {},
     "output_type": "execute_result"
    }
   ],
   "source": [
    "tracts = pd.read_csv('./Mapping/tract_coordinates.csv')\n",
    "tracts.head()"
   ]
  },
  {
   "cell_type": "markdown",
   "metadata": {},
   "source": [
    "## Fetching crime data"
   ]
  },
  {
   "cell_type": "code",
   "execution_count": 3,
   "metadata": {
    "collapsed": true
   },
   "outputs": [],
   "source": [
    "data_path = './CensusData/sfo data/'"
   ]
  },
  {
   "cell_type": "code",
   "execution_count": 4,
   "metadata": {
    "collapsed": false
   },
   "outputs": [
    {
     "data": {
      "text/html": [
       "<div>\n",
       "<table border=\"1\" class=\"dataframe\">\n",
       "  <thead>\n",
       "    <tr style=\"text-align: right;\">\n",
       "      <th></th>\n",
       "      <th>Unnamed: 0</th>\n",
       "      <th>﻿IncidntNum</th>\n",
       "      <th>Category</th>\n",
       "      <th>Descript</th>\n",
       "      <th>DayOfWeek</th>\n",
       "      <th>Date</th>\n",
       "      <th>Time</th>\n",
       "      <th>PdDistrict</th>\n",
       "      <th>Resolution</th>\n",
       "      <th>Address</th>\n",
       "      <th>X</th>\n",
       "      <th>Y</th>\n",
       "      <th>Location</th>\n",
       "      <th>PdId</th>\n",
       "    </tr>\n",
       "  </thead>\n",
       "  <tbody>\n",
       "    <tr>\n",
       "      <th>0</th>\n",
       "      <td>0</td>\n",
       "      <td>150027849</td>\n",
       "      <td>NON-CRIMINAL</td>\n",
       "      <td>SEARCH WARRANT SERVICE</td>\n",
       "      <td>Friday</td>\n",
       "      <td>01/09/2015</td>\n",
       "      <td>22:02</td>\n",
       "      <td>NORTHERN</td>\n",
       "      <td>ARREST, BOOKED</td>\n",
       "      <td>200 Block of LAGUNA ST</td>\n",
       "      <td>-122.425723</td>\n",
       "      <td>37.773431</td>\n",
       "      <td>(37.7734305349811, -122.425722704575)</td>\n",
       "      <td>15002784975025</td>\n",
       "    </tr>\n",
       "    <tr>\n",
       "      <th>1</th>\n",
       "      <td>1</td>\n",
       "      <td>150046504</td>\n",
       "      <td>VANDALISM</td>\n",
       "      <td>MALICIOUS MISCHIEF, VANDALISM OF VEHICLES</td>\n",
       "      <td>Thursday</td>\n",
       "      <td>01/15/2015</td>\n",
       "      <td>19:00</td>\n",
       "      <td>SOUTHERN</td>\n",
       "      <td>NONE</td>\n",
       "      <td>400 Block of THE EMBARCADEROSOUTH ST</td>\n",
       "      <td>-122.396709</td>\n",
       "      <td>37.797873</td>\n",
       "      <td>(37.7978728855933, -122.39670853026)</td>\n",
       "      <td>15004650428160</td>\n",
       "    </tr>\n",
       "    <tr>\n",
       "      <th>2</th>\n",
       "      <td>2</td>\n",
       "      <td>150048817</td>\n",
       "      <td>LARCENY/THEFT</td>\n",
       "      <td>PETTY THEFT SHOPLIFTING</td>\n",
       "      <td>Friday</td>\n",
       "      <td>01/16/2015</td>\n",
       "      <td>16:26</td>\n",
       "      <td>CENTRAL</td>\n",
       "      <td>NONE</td>\n",
       "      <td>200 Block of GRANT AV</td>\n",
       "      <td>-122.405254</td>\n",
       "      <td>37.789253</td>\n",
       "      <td>(37.7892525040522, -122.405254463024)</td>\n",
       "      <td>15004881706363</td>\n",
       "    </tr>\n",
       "    <tr>\n",
       "      <th>3</th>\n",
       "      <td>3</td>\n",
       "      <td>150380578</td>\n",
       "      <td>LARCENY/THEFT</td>\n",
       "      <td>PETTY THEFT FROM A BUILDING</td>\n",
       "      <td>Friday</td>\n",
       "      <td>05/01/2015</td>\n",
       "      <td>16:44</td>\n",
       "      <td>TARAVAL</td>\n",
       "      <td>ARREST, BOOKED</td>\n",
       "      <td>1900 Block of 19TH AV</td>\n",
       "      <td>-122.476096</td>\n",
       "      <td>37.751433</td>\n",
       "      <td>(37.7514328843776, -122.476096065298)</td>\n",
       "      <td>15038057806302</td>\n",
       "    </tr>\n",
       "    <tr>\n",
       "      <th>4</th>\n",
       "      <td>4</td>\n",
       "      <td>150380653</td>\n",
       "      <td>NON-CRIMINAL</td>\n",
       "      <td>LICENSE PLATE, FOUND</td>\n",
       "      <td>Thursday</td>\n",
       "      <td>04/30/2015</td>\n",
       "      <td>23:00</td>\n",
       "      <td>RICHMOND</td>\n",
       "      <td>NONE</td>\n",
       "      <td>BRODERICK ST / CALIFORNIA ST</td>\n",
       "      <td>-122.442112</td>\n",
       "      <td>37.787856</td>\n",
       "      <td>(37.7878555996754, -122.442112423143)</td>\n",
       "      <td>15038065371011</td>\n",
       "    </tr>\n",
       "  </tbody>\n",
       "</table>\n",
       "</div>"
      ],
      "text/plain": [
       "   Unnamed: 0  ﻿IncidntNum       Category  \\\n",
       "0           0    150027849   NON-CRIMINAL   \n",
       "1           1    150046504      VANDALISM   \n",
       "2           2    150048817  LARCENY/THEFT   \n",
       "3           3    150380578  LARCENY/THEFT   \n",
       "4           4    150380653   NON-CRIMINAL   \n",
       "\n",
       "                                    Descript DayOfWeek        Date   Time  \\\n",
       "0                     SEARCH WARRANT SERVICE    Friday  01/09/2015  22:02   \n",
       "1  MALICIOUS MISCHIEF, VANDALISM OF VEHICLES  Thursday  01/15/2015  19:00   \n",
       "2                    PETTY THEFT SHOPLIFTING    Friday  01/16/2015  16:26   \n",
       "3                PETTY THEFT FROM A BUILDING    Friday  05/01/2015  16:44   \n",
       "4                       LICENSE PLATE, FOUND  Thursday  04/30/2015  23:00   \n",
       "\n",
       "  PdDistrict      Resolution                               Address  \\\n",
       "0   NORTHERN  ARREST, BOOKED                200 Block of LAGUNA ST   \n",
       "1   SOUTHERN            NONE  400 Block of THE EMBARCADEROSOUTH ST   \n",
       "2    CENTRAL            NONE                 200 Block of GRANT AV   \n",
       "3    TARAVAL  ARREST, BOOKED                 1900 Block of 19TH AV   \n",
       "4   RICHMOND            NONE          BRODERICK ST / CALIFORNIA ST   \n",
       "\n",
       "            X          Y                               Location  \\\n",
       "0 -122.425723  37.773431  (37.7734305349811, -122.425722704575)   \n",
       "1 -122.396709  37.797873   (37.7978728855933, -122.39670853026)   \n",
       "2 -122.405254  37.789253  (37.7892525040522, -122.405254463024)   \n",
       "3 -122.476096  37.751433  (37.7514328843776, -122.476096065298)   \n",
       "4 -122.442112  37.787856  (37.7878555996754, -122.442112423143)   \n",
       "\n",
       "             PdId  \n",
       "0  15002784975025  \n",
       "1  15004650428160  \n",
       "2  15004881706363  \n",
       "3  15038057806302  \n",
       "4  15038065371011  "
      ]
     },
     "execution_count": 4,
     "metadata": {},
     "output_type": "execute_result"
    }
   ],
   "source": [
    "crimes = pd.concat([pd.read_csv(data_path+'crime_data_{}.csv'.format(k)) for k in xrange(10)])\n",
    "crimes.head()"
   ]
  },
  {
   "cell_type": "code",
   "execution_count": 5,
   "metadata": {
    "collapsed": false
   },
   "outputs": [
    {
     "data": {
      "text/html": [
       "<div>\n",
       "<table border=\"1\" class=\"dataframe\">\n",
       "  <thead>\n",
       "    <tr style=\"text-align: right;\">\n",
       "      <th></th>\n",
       "      <th>Unnamed: 0</th>\n",
       "      <th>﻿IncidntNum</th>\n",
       "      <th>Category</th>\n",
       "      <th>Descript</th>\n",
       "      <th>DayOfWeek</th>\n",
       "      <th>Date</th>\n",
       "      <th>Time</th>\n",
       "      <th>PdDistrict</th>\n",
       "      <th>Resolution</th>\n",
       "      <th>Address</th>\n",
       "      <th>X</th>\n",
       "      <th>Y</th>\n",
       "      <th>Location</th>\n",
       "      <th>PdId</th>\n",
       "    </tr>\n",
       "  </thead>\n",
       "  <tbody>\n",
       "    <tr>\n",
       "      <th>1</th>\n",
       "      <td>1</td>\n",
       "      <td>150046504</td>\n",
       "      <td>VANDALISM</td>\n",
       "      <td>MALICIOUS MISCHIEF, VANDALISM OF VEHICLES</td>\n",
       "      <td>Thursday</td>\n",
       "      <td>01/15/2015</td>\n",
       "      <td>19:00</td>\n",
       "      <td>SOUTHERN</td>\n",
       "      <td>NONE</td>\n",
       "      <td>400 Block of THE EMBARCADEROSOUTH ST</td>\n",
       "      <td>-122.396709</td>\n",
       "      <td>37.797873</td>\n",
       "      <td>(37.7978728855933, -122.39670853026)</td>\n",
       "      <td>15004650428160</td>\n",
       "    </tr>\n",
       "    <tr>\n",
       "      <th>2</th>\n",
       "      <td>2</td>\n",
       "      <td>150048817</td>\n",
       "      <td>LARCENY/THEFT</td>\n",
       "      <td>PETTY THEFT SHOPLIFTING</td>\n",
       "      <td>Friday</td>\n",
       "      <td>01/16/2015</td>\n",
       "      <td>16:26</td>\n",
       "      <td>CENTRAL</td>\n",
       "      <td>NONE</td>\n",
       "      <td>200 Block of GRANT AV</td>\n",
       "      <td>-122.405254</td>\n",
       "      <td>37.789253</td>\n",
       "      <td>(37.7892525040522, -122.405254463024)</td>\n",
       "      <td>15004881706363</td>\n",
       "    </tr>\n",
       "    <tr>\n",
       "      <th>3</th>\n",
       "      <td>3</td>\n",
       "      <td>150380578</td>\n",
       "      <td>LARCENY/THEFT</td>\n",
       "      <td>PETTY THEFT FROM A BUILDING</td>\n",
       "      <td>Friday</td>\n",
       "      <td>05/01/2015</td>\n",
       "      <td>16:44</td>\n",
       "      <td>TARAVAL</td>\n",
       "      <td>ARREST, BOOKED</td>\n",
       "      <td>1900 Block of 19TH AV</td>\n",
       "      <td>-122.476096</td>\n",
       "      <td>37.751433</td>\n",
       "      <td>(37.7514328843776, -122.476096065298)</td>\n",
       "      <td>15038057806302</td>\n",
       "    </tr>\n",
       "    <tr>\n",
       "      <th>5</th>\n",
       "      <td>5</td>\n",
       "      <td>150380669</td>\n",
       "      <td>OTHER OFFENSES</td>\n",
       "      <td>DRIVERS LICENSE, SUSPENDED OR REVOKED</td>\n",
       "      <td>Saturday</td>\n",
       "      <td>05/02/2015</td>\n",
       "      <td>00:42</td>\n",
       "      <td>PARK</td>\n",
       "      <td>ARREST, BOOKED</td>\n",
       "      <td>DIVISADERO ST / OFARRELL ST</td>\n",
       "      <td>-122.439299</td>\n",
       "      <td>37.782449</td>\n",
       "      <td>(37.7824492641129, -122.43929911672)</td>\n",
       "      <td>15038066965016</td>\n",
       "    </tr>\n",
       "    <tr>\n",
       "      <th>6</th>\n",
       "      <td>6</td>\n",
       "      <td>140009459</td>\n",
       "      <td>ARSON</td>\n",
       "      <td>ARSON</td>\n",
       "      <td>Saturday</td>\n",
       "      <td>01/04/2014</td>\n",
       "      <td>03:52</td>\n",
       "      <td>NORTHERN</td>\n",
       "      <td>ARREST, BOOKED</td>\n",
       "      <td>SACRAMENTO ST / POLK ST</td>\n",
       "      <td>-122.420875</td>\n",
       "      <td>37.791494</td>\n",
       "      <td>(37.7914943051906, -122.420874632415)</td>\n",
       "      <td>14000945926030</td>\n",
       "    </tr>\n",
       "  </tbody>\n",
       "</table>\n",
       "</div>"
      ],
      "text/plain": [
       "   Unnamed: 0  ﻿IncidntNum        Category  \\\n",
       "1           1    150046504       VANDALISM   \n",
       "2           2    150048817   LARCENY/THEFT   \n",
       "3           3    150380578   LARCENY/THEFT   \n",
       "5           5    150380669  OTHER OFFENSES   \n",
       "6           6    140009459           ARSON   \n",
       "\n",
       "                                    Descript DayOfWeek        Date   Time  \\\n",
       "1  MALICIOUS MISCHIEF, VANDALISM OF VEHICLES  Thursday  01/15/2015  19:00   \n",
       "2                    PETTY THEFT SHOPLIFTING    Friday  01/16/2015  16:26   \n",
       "3                PETTY THEFT FROM A BUILDING    Friday  05/01/2015  16:44   \n",
       "5      DRIVERS LICENSE, SUSPENDED OR REVOKED  Saturday  05/02/2015  00:42   \n",
       "6                                      ARSON  Saturday  01/04/2014  03:52   \n",
       "\n",
       "  PdDistrict      Resolution                               Address  \\\n",
       "1   SOUTHERN            NONE  400 Block of THE EMBARCADEROSOUTH ST   \n",
       "2    CENTRAL            NONE                 200 Block of GRANT AV   \n",
       "3    TARAVAL  ARREST, BOOKED                 1900 Block of 19TH AV   \n",
       "5       PARK  ARREST, BOOKED           DIVISADERO ST / OFARRELL ST   \n",
       "6   NORTHERN  ARREST, BOOKED               SACRAMENTO ST / POLK ST   \n",
       "\n",
       "            X          Y                               Location  \\\n",
       "1 -122.396709  37.797873   (37.7978728855933, -122.39670853026)   \n",
       "2 -122.405254  37.789253  (37.7892525040522, -122.405254463024)   \n",
       "3 -122.476096  37.751433  (37.7514328843776, -122.476096065298)   \n",
       "5 -122.439299  37.782449   (37.7824492641129, -122.43929911672)   \n",
       "6 -122.420875  37.791494  (37.7914943051906, -122.420874632415)   \n",
       "\n",
       "             PdId  \n",
       "1  15004650428160  \n",
       "2  15004881706363  \n",
       "3  15038057806302  \n",
       "5  15038066965016  \n",
       "6  14000945926030  "
      ]
     },
     "execution_count": 5,
     "metadata": {},
     "output_type": "execute_result"
    }
   ],
   "source": [
    "# Weed out the non-criminal crimes\n",
    "real_crimes = crimes[crimes['Category']!='NON-CRIMINAL']\n",
    "real_crimes.head()"
   ]
  },
  {
   "cell_type": "code",
   "execution_count": 6,
   "metadata": {
    "collapsed": false
   },
   "outputs": [
    {
     "data": {
      "text/plain": [
       "(1901240, 1698873)"
      ]
     },
     "execution_count": 6,
     "metadata": {},
     "output_type": "execute_result"
    }
   ],
   "source": [
    "crimes.shape[0], real_crimes.shape[0]"
   ]
  },
  {
   "cell_type": "markdown",
   "metadata": {},
   "source": [
    "## Make the index"
   ]
  },
  {
   "cell_type": "code",
   "execution_count": 7,
   "metadata": {
    "collapsed": false
   },
   "outputs": [],
   "source": [
    "from density_estimation import point_density"
   ]
  },
  {
   "cell_type": "code",
   "execution_count": 8,
   "metadata": {
    "collapsed": false
   },
   "outputs": [],
   "source": [
    "bandwidth = 0.01\n",
    "crime_density = tracts.apply(lambda c: point_density((c['latitude'], c['longitude']), \n",
    "                                                     (real_crimes['Y'], real_crimes['X']),\n",
    "                                                     kernel='gaussian', bw=bandwidth), axis=1)\n",
    "crime_density *= 100. / crime_density.max()"
   ]
  },
  {
   "cell_type": "code",
   "execution_count": 12,
   "metadata": {
    "collapsed": false
   },
   "outputs": [
    {
     "data": {
      "text/html": [
       "<div>\n",
       "<table border=\"1\" class=\"dataframe\">\n",
       "  <thead>\n",
       "    <tr style=\"text-align: right;\">\n",
       "      <th></th>\n",
       "      <th>tractid</th>\n",
       "      <th>latitude</th>\n",
       "      <th>longitude</th>\n",
       "      <th>crime_index</th>\n",
       "    </tr>\n",
       "  </thead>\n",
       "  <tbody>\n",
       "    <tr>\n",
       "      <th>0</th>\n",
       "      <td>6075010100</td>\n",
       "      <td>37.808420</td>\n",
       "      <td>-122.408579</td>\n",
       "      <td>10.896802</td>\n",
       "    </tr>\n",
       "    <tr>\n",
       "      <th>1</th>\n",
       "      <td>6075010200</td>\n",
       "      <td>37.805861</td>\n",
       "      <td>-122.422925</td>\n",
       "      <td>11.077546</td>\n",
       "    </tr>\n",
       "    <tr>\n",
       "      <th>2</th>\n",
       "      <td>6075010300</td>\n",
       "      <td>37.801620</td>\n",
       "      <td>-122.415681</td>\n",
       "      <td>21.613337</td>\n",
       "    </tr>\n",
       "    <tr>\n",
       "      <th>3</th>\n",
       "      <td>6075010400</td>\n",
       "      <td>37.802273</td>\n",
       "      <td>-122.407558</td>\n",
       "      <td>21.119650</td>\n",
       "    </tr>\n",
       "    <tr>\n",
       "      <th>4</th>\n",
       "      <td>6075010500</td>\n",
       "      <td>37.802684</td>\n",
       "      <td>-122.399059</td>\n",
       "      <td>12.413430</td>\n",
       "    </tr>\n",
       "  </tbody>\n",
       "</table>\n",
       "</div>"
      ],
      "text/plain": [
       "      tractid   latitude   longitude  crime_index\n",
       "0  6075010100  37.808420 -122.408579    10.896802\n",
       "1  6075010200  37.805861 -122.422925    11.077546\n",
       "2  6075010300  37.801620 -122.415681    21.613337\n",
       "3  6075010400  37.802273 -122.407558    21.119650\n",
       "4  6075010500  37.802684 -122.399059    12.413430"
      ]
     },
     "execution_count": 12,
     "metadata": {},
     "output_type": "execute_result"
    }
   ],
   "source": [
    "df = pd.read_csv('features.csv')\n",
    "df.head()"
   ]
  },
  {
   "cell_type": "code",
   "execution_count": 10,
   "metadata": {
    "collapsed": false
   },
   "outputs": [
    {
     "data": {
      "text/html": [
       "<div>\n",
       "<table border=\"1\" class=\"dataframe\">\n",
       "  <thead>\n",
       "    <tr style=\"text-align: right;\">\n",
       "      <th></th>\n",
       "      <th>tractid</th>\n",
       "      <th>latitude</th>\n",
       "      <th>longitude</th>\n",
       "      <th>crime_index</th>\n",
       "    </tr>\n",
       "  </thead>\n",
       "  <tbody>\n",
       "    <tr>\n",
       "      <th>0</th>\n",
       "      <td>6075010100</td>\n",
       "      <td>37.808420</td>\n",
       "      <td>-122.408579</td>\n",
       "      <td>10.896802</td>\n",
       "    </tr>\n",
       "    <tr>\n",
       "      <th>1</th>\n",
       "      <td>6075010200</td>\n",
       "      <td>37.805861</td>\n",
       "      <td>-122.422925</td>\n",
       "      <td>11.077546</td>\n",
       "    </tr>\n",
       "    <tr>\n",
       "      <th>2</th>\n",
       "      <td>6075010300</td>\n",
       "      <td>37.801620</td>\n",
       "      <td>-122.415681</td>\n",
       "      <td>21.613337</td>\n",
       "    </tr>\n",
       "    <tr>\n",
       "      <th>3</th>\n",
       "      <td>6075010400</td>\n",
       "      <td>37.802273</td>\n",
       "      <td>-122.407558</td>\n",
       "      <td>21.119650</td>\n",
       "    </tr>\n",
       "    <tr>\n",
       "      <th>4</th>\n",
       "      <td>6075010500</td>\n",
       "      <td>37.802684</td>\n",
       "      <td>-122.399059</td>\n",
       "      <td>12.413430</td>\n",
       "    </tr>\n",
       "  </tbody>\n",
       "</table>\n",
       "</div>"
      ],
      "text/plain": [
       "      tractid   latitude   longitude  crime_index\n",
       "0  6075010100  37.808420 -122.408579    10.896802\n",
       "1  6075010200  37.805861 -122.422925    11.077546\n",
       "2  6075010300  37.801620 -122.415681    21.613337\n",
       "3  6075010400  37.802273 -122.407558    21.119650\n",
       "4  6075010500  37.802684 -122.399059    12.413430"
      ]
     },
     "execution_count": 10,
     "metadata": {},
     "output_type": "execute_result"
    }
   ],
   "source": [
    "df['crime_index'] = crime_density\n",
    "df.head()"
   ]
  },
  {
   "cell_type": "code",
   "execution_count": 11,
   "metadata": {
    "collapsed": false
   },
   "outputs": [],
   "source": [
    "df.to_csv('features.csv', index=False)"
   ]
  },
  {
   "cell_type": "code",
   "execution_count": null,
   "metadata": {
    "collapsed": true
   },
   "outputs": [],
   "source": []
  }
 ],
 "metadata": {
  "kernelspec": {
   "display_name": "Python 2",
   "language": "python",
   "name": "python2"
  },
  "language_info": {
   "codemirror_mode": {
    "name": "ipython",
    "version": 2
   },
   "file_extension": ".py",
   "mimetype": "text/x-python",
   "name": "python",
   "nbconvert_exporter": "python",
   "pygments_lexer": "ipython2",
   "version": "2.7.11"
  },
  "widgets": {
   "state": {},
   "version": "1.0.0"
  }
 },
 "nbformat": 4,
 "nbformat_minor": 0
}
